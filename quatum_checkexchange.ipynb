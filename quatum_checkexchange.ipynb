{
 "cells": [
  {
   "cell_type": "code",
   "execution_count": 1,
   "metadata": {},
   "outputs": [],
   "source": [
    "import numpy as np\n",
    "import math\n",
    "import matplotlib.pyplot as plt\n",
    "import pandas as pd\n",
    "import re as rexprs\n",
    "import sympy\n",
    "from sympy import init_printing\n",
    "init_printing()"
   ]
  },
  {
   "cell_type": "markdown",
   "metadata": {},
   "source": [
    "## calculate amplitude"
   ]
  },
  {
   "cell_type": "code",
   "execution_count": 11,
   "metadata": {},
   "outputs": [],
   "source": [
    "def Pi(m, q, z):\n",
    "    return m, q**m*z**m\n",
    "\n",
    "def Qi(m, q, z):\n",
    "    return m+1, z**m\n",
    "\n",
    "def Ri(m, q, z):\n",
    "    return m-1, (1 - q**(2*m))*z**m\n",
    "\n",
    "def calc_amplitude(p1,p2, simple = True, symbol = \"z\", takefirstfomula = True): #p1,p2 is int or str or np.array\n",
    "    if type(p1) == int:\n",
    "        p1 = np.array(list(str(p1)),dtype = int)\n",
    "    if type(p2) == int:\n",
    "        p2 = np.array(list(str(p2)),dtype = int)\n",
    "\n",
    "    if type(p1) == str:\n",
    "        p1 = np.array(list(p1),dtype = int)\n",
    "    if type(p2) == str:\n",
    "        p2 = np.array(list(p2),dtype = int)        \n",
    "\n",
    "        if len(p1) != len(p2):\n",
    "            print(\"the length between p1 and p2 is not same\")\n",
    "            return 0\n",
    "    \n",
    "    m = sympy.Symbol(\"m\")\n",
    "    q = sympy.Symbol(\"q\")\n",
    "    z = sympy.Symbol(symbol)\n",
    "    ans = 1\n",
    "    for i in range(len(p1)):\n",
    "        if p1[i] == 0:\n",
    "            if p2[i] == 0:\n",
    "                m, ans_temp = Pi(m,q,z)\n",
    "            elif p2[i] == 1:\n",
    "                m, ans_temp = Ri(m,q,z)\n",
    "            else:\n",
    "                print(\"error\")\n",
    "                break\n",
    "        elif p1[i] == 1:\n",
    "            if p2[i] == 0:\n",
    "                m, ans_temp = Qi(m,q,z)\n",
    "            elif p2[i] == 1:\n",
    "                m, ans_temp_temp = Pi(m,q,z)\n",
    "                ans_temp = ans_temp_temp * (-q)\n",
    "            else:\n",
    "                print(\"error\")\n",
    "                break\n",
    "        else:\n",
    "            print(\"error\")\n",
    "            break\n",
    "        \n",
    "        ans *= ans_temp\n",
    "    answer = sympy.summation(ans, (m, 0, sympy.oo))\n",
    "    answer = sympy.simplify(answer)\n",
    "    if takefirstfomula == True:\n",
    "        answer = take_firstfomula(answer)\n",
    "    return answer        \n",
    "\n",
    "\n",
    "def calc_amplitude2(p1,p2, one, simple = True, verbose = False): #p1,p2 is int or str or np.array\n",
    "    \n",
    "    def Pi(m, q, z):\n",
    "        if verbose == True:\n",
    "            print(\"0to0\")\n",
    "        return m, q**m*z**m\n",
    "\n",
    "    def Qi(m, q, z):\n",
    "        if num_one == m:\n",
    "            if verbose == True:\n",
    "                print(\"trap\")\n",
    "            return m, 0\n",
    "        else:\n",
    "            if verbose == True:\n",
    "                print(\"+1\")\n",
    "            return m+1, z**m\n",
    "\n",
    "    def Ri(m, q, z):\n",
    "        if m == 0:\n",
    "            return 0, 0\n",
    "        else:\n",
    "            if verbose == True:\n",
    "                print(\"-1\")\n",
    "            return m-1, (1 - q**(2*m))*z**m\n",
    "\n",
    "    if type(p1) == int:\n",
    "        p1 = np.array(list(str(p1)),dtype = int)\n",
    "    if type(p2) == int:\n",
    "        p2 = np.array(list(str(p2)),dtype = int)\n",
    "\n",
    "    if type(p1) == str:\n",
    "        p1 = np.array(list(p1),dtype = int)\n",
    "    if type(p2) == str:\n",
    "        p2 = np.array(list(p2),dtype = int)        \n",
    "\n",
    "        if len(p1) != len(p2):\n",
    "            print(\"the length between p1 and p2 is not same\")\n",
    "            return 0\n",
    "    \n",
    "    num_one = np.sum(p1)\n",
    "    q = sympy.Symbol(\"q\")\n",
    "    #z = sympy.Symbol(\"z\")\n",
    "    z=1\n",
    "    answer = 0\n",
    "    \n",
    "    for m in range(one + 1):\n",
    "        if verbose == True:\n",
    "            print(\"m=\" + str(m))\n",
    "        ans = 1\n",
    "        for i in range(len(p1)):\n",
    "            if p1[i] == 0:\n",
    "                if p2[i] == 0:\n",
    "                    m, ans_temp = Pi(m,q,z)\n",
    "                elif p2[i] == 1:\n",
    "                    m, ans_temp = Ri(m,q,z)\n",
    "                else:\n",
    "                    print(\"error\")\n",
    "                    break\n",
    "            elif p1[i] == 1:\n",
    "                if p2[i] == 0:\n",
    "                    m, ans_temp = Qi(m,q,z)\n",
    "                elif p2[i] == 1:\n",
    "                    m, ans_temp_temp = Pi(m,q,z)\n",
    "                    ans_temp = ans_temp_temp * (-q)\n",
    "                else:\n",
    "                    print(\"error\")\n",
    "                    break\n",
    "            else:\n",
    "                print(\"error\")\n",
    "                break\n",
    "            \n",
    "            ans *= ans_temp\n",
    "        answer += ans\n",
    "        if verbose == True:\n",
    "            print(answer)\n",
    "    answer = sympy.simplify(answer)\n",
    "    return answer"
   ]
  },
  {
   "cell_type": "code",
   "execution_count": 69,
   "metadata": {},
   "outputs": [],
   "source": [
    "from sympy import *\n",
    "\n",
    "def take_firstfomula(x):\n",
    "    xs = str(x)\n",
    "    result = rexprs.search(r'\\(\\(', xs) \n",
    "    start = result.span()[1]\n",
    "    result = rexprs.search(r', And', xs)\n",
    "    if result == None:\n",
    "        result = rexprs.search(r',', xs)\n",
    "    if result == None:\n",
    "        result = rexprs.search(r'&', xs)\n",
    "    end = result.span()[0]\n",
    "    struse = xs[start:end]\n",
    "    #from IPython.core.debugger import Pdb; Pdb().set_trace()\n",
    "    return sympy.sympify(struse)"
   ]
  },
  {
   "cell_type": "code",
   "execution_count": 70,
   "metadata": {},
   "outputs": [
    {
     "data": {
      "image/png": "[encoded data removed]",
      "text/latex": [
       "$\\displaystyle - \\frac{z \\left(q^{2} - 1\\right)}{q^{2} z^{4} - q^{2} z^{2} - z^{2} + 1}$"
      ],
      "text/plain": [
       "        ⎛ 2    ⎞      \n",
       "     -z⋅⎝q  - 1⎠      \n",
       "──────────────────────\n",
       " 2  4    2  2    2    \n",
       "q ⋅z  - q ⋅z  - z  + 1"
      ]
     },
     "execution_count": 70,
     "metadata": {},
     "output_type": "execute_result"
    }
   ],
   "source": [
    "calc_amplitude(\"10\",\"01\")"
   ]
  },
  {
   "cell_type": "code",
   "execution_count": 60,
   "metadata": {},
   "outputs": [],
   "source": [
    "vx = calc_amplitude(\"10\",\"01\",takefirstfomula = False)\n",
    "xstr = str(x)"
   ]
  },
  {
   "cell_type": "code",
   "execution_count": 61,
   "metadata": {},
   "outputs": [
    {
     "data": {
      "text/plain": [
       "'Piecewise((-z*(q**2 - 1)/(q**2*z**4 - q**2*z**2 - z**2 + 1), (Abs(z**2) < 1) & (Abs(q**2*z**2) < 1)), (z*(q**2/(q**2*z**2 - 1) + Sum(z**(2*m), (m, 0, oo))), Abs(q**2*z**2) < 1), (-q**2*z*Sum(q**(2*m)*z**(2*m), (m, 0, oo)) - z/(z**2 - 1), Abs(z**2) < 1), (z*Sum(z**(2*m)*(1 - q**(2*m + 2)), (m, 0, oo)), True))'"
      ]
     },
     "execution_count": 61,
     "metadata": {},
     "output_type": "execute_result"
    }
   ],
   "source": [
    "xstr"
   ]
  },
  {
   "cell_type": "code",
   "execution_count": 39,
   "metadata": {},
   "outputs": [
    {
     "data": {
      "text/plain": [
       "'\\\\frac{z \\\\left(q^{2} - 1\\\\right)}{q^{2} z^{4} - q^{2} z^{2} - z^{2} + 1} & \\\\text{for}\\\\: \\\\left|{z^{2}}\\\\right| < 1 \\\\wedge \\\\left|{q^{2} z^{2}}\\\\right| < 1 \\\\\\\\z \\\\left(\\\\frac{q^{2}}{q^{2} z^{2} - 1} + \\\\sum_{m=0}^{\\\\infty} z^{2 m}\\\\right) & \\\\text{for}\\\\: \\\\left|{q^{2} z^{2}}\\\\right| < 1 \\\\\\\\- q^{2} z \\\\sum_{m=0}^{\\\\infty} q^{2 m} z^{2 m} - \\\\frac{z}{z^{2} - 1} & \\\\text{for}\\\\: \\\\left|{z^{2}}\\\\right| < 1 \\\\\\\\z \\\\sum_{m=0}^{\\\\infty} z^{2 m} \\\\left(1 - q^{2 m + 2}\\\\right) & \\\\text{otherwise} \\\\end{cases}'"
      ]
     },
     "execution_count": 39,
     "metadata": {},
     "output_type": "execute_result"
    }
   ],
   "source": [
    "xstr[rexprs.search(r\"\\\\frac\",xstr).span()[0]:]"
   ]
  },
  {
   "cell_type": "code",
   "execution_count": 40,
   "metadata": {},
   "outputs": [
    {
     "data": {
      "text/latex": [
       "$\\displaystyle \\begin{cases} - \\frac{z \\left(q^{2} - 1\\right)}{q^{2} z^{4} - q^{2} z^{2} - z^{2} + 1} & \\text{for}\\: \\left|{z^{2}}\\right| < 1 \\wedge \\left|{q^{2} z^{2}}\\right| < 1 \\\\z \\left(\\frac{q^{2}}{q^{2} z^{2} - 1} + \\sum_{m=0}^{\\infty} z^{2 m}\\right) & \\text{for}\\: \\left|{q^{2} z^{2}}\\right| < 1 \\\\- q^{2} z \\sum_{m=0}^{\\infty} q^{2 m} z^{2 m} - \\frac{z}{z^{2} - 1} & \\text{for}\\: \\left|{z^{2}}\\right| < 1 \\\\z \\sum_{m=0}^{\\infty} z^{2 m} \\left(1 - q^{2 m + 2}\\right) & \\text{otherwise} \\end{cases}$"
      ],
      "text/plain": [
       "⎧            ⎛ 2    ⎞                                       \n",
       "⎪         -z⋅⎝q  - 1⎠                 │ 2│       │ 2  2│    \n",
       "⎪    ──────────────────────       for │z │ < 1 ∧ │q ⋅z │ < 1\n",
       "⎪     2  4    2  2    2                                     \n",
       "⎪    q ⋅z  - q ⋅z  - z  + 1                                 \n",
       "⎪                                                           \n",
       "⎪    ⎛              ∞       ⎞                               \n",
       "⎪    ⎜             ___      ⎟                               \n",
       "⎪    ⎜     2       ╲        ⎟                               \n",
       "⎪    ⎜    q         ╲    2⋅m⎟              │ 2  2│          \n",
       "⎪  z⋅⎜───────── +   ╱   z   ⎟          for │q ⋅z │ < 1      \n",
       "⎪    ⎜ 2  2        ╱        ⎟                               \n",
       "⎪    ⎜q ⋅z  - 1    ‾‾‾      ⎟                               \n",
       "⎪    ⎝            m = 0     ⎠                               \n",
       "⎪                                                           \n",
       "⎪         ∞                                                 \n",
       "⎨        ___                                                \n",
       "⎪        ╲                                                  \n",
       "⎪   2     ╲    2⋅m  2⋅m     z                │ 2│           \n",
       "⎪- q ⋅z⋅  ╱   q   ⋅z    - ──────         for │z │ < 1       \n",
       "⎪        ╱                 2                                \n",
       "⎪        ‾‾‾              z  - 1                            \n",
       "⎪       m = 0                                               \n",
       "⎪                                                           \n",
       "⎪      ∞                                                    \n",
       "⎪     ___                                                   \n",
       "⎪     ╲                                                     \n",
       "⎪      ╲    2⋅m ⎛     2⋅m + 2⎞                              \n",
       "⎪  z⋅  ╱   z   ⋅⎝1 - q       ⎠            otherwise         \n",
       "⎪     ╱                                                     \n",
       "⎪     ‾‾‾                                                   \n",
       "⎪    m = 0                                                  \n",
       "⎩                                                           "
      ]
     },
     "execution_count": 40,
     "metadata": {},
     "output_type": "execute_result"
    }
   ],
   "source": [
    "calc_amplitude(\"10\",\"01\", takefirstfomula=False)"
   ]
  },
  {
   "cell_type": "code",
   "execution_count": 126,
   "metadata": {},
   "outputs": [],
   "source": [
    "pathlist = [\"1000\",\"0100\",\"0010\",\"0001\"]\n",
    "Ty = []\n",
    "for path1 in pathlist:\n",
    "    temp = []\n",
    "    for path2 in pathlist:\n",
    "        temp.append(take_firstfomula(calc_amplitude(path1, path2,symbol = \"y\")))\n",
    "    Ty.append(temp)\n",
    "        \n"
   ]
  },
  {
   "cell_type": "code",
   "execution_count": 127,
   "metadata": {},
   "outputs": [
    {
     "data": {
      "image/png": "[encoded data removed]",
      "text/latex": [
       "$\\displaystyle \\left[ \\frac{q}{q^{4} y^{4} - 1}, \\  - \\frac{y \\left(q^{2} - 1\\right)}{q^{6} y^{8} - q^{4} y^{4} - q^{2} y^{4} + 1}, \\  - \\frac{q y^{2} \\left(q^{2} - 1\\right)}{q^{6} y^{8} - q^{4} y^{4} - q^{2} y^{4} + 1}, \\  \\frac{q^{2} y^{3} \\left(1 - q^{2}\\right)}{q^{6} y^{8} - q^{4} y^{4} - q^{2} y^{4} + 1}\\right]$"
      ],
      "text/plain": [
       "⎡                     ⎛ 2    ⎞                  2 ⎛ 2    ⎞               2  3 \n",
       "⎢    q             -y⋅⎝q  - 1⎠              -q⋅y ⋅⎝q  - 1⎠              q ⋅y ⋅\n",
       "⎢─────────, ─────────────────────────, ─────────────────────────, ────────────\n",
       "⎢ 4  4       6  8    4  4    2  4       6  8    4  4    2  4       6  8    4  \n",
       "⎣q ⋅y  - 1  q ⋅y  - q ⋅y  - q ⋅y  + 1  q ⋅y  - q ⋅y  - q ⋅y  + 1  q ⋅y  - q ⋅y\n",
       "\n",
       "⎛     2⎞     ⎤\n",
       "⎝1 - q ⎠     ⎥\n",
       "─────────────⎥\n",
       "4    2  4    ⎥\n",
       "  - q ⋅y  + 1⎦"
      ]
     },
     "execution_count": 127,
     "metadata": {},
     "output_type": "execute_result"
    }
   ],
   "source": [
    "Ty[0]"
   ]
  },
  {
   "cell_type": "code",
   "execution_count": 130,
   "metadata": {},
   "outputs": [],
   "source": [
    "path = \"./data/result1-21.tex\"\n",
    "pathlist = [\"1000\",\"0100\",\"0010\",\"0001\"]\n",
    "\n",
    "import datetime\n",
    "def writeexchange2result(filepath,pathlist):\n",
    "    Ty = []\n",
    "    for path1 in pathlist:\n",
    "        temp = []\n",
    "        for path2 in pathlist:\n",
    "            temp.append(calc_amplitude(path1, path2, symbol = \"y\"))\n",
    "        Ty.append(temp)\n",
    "\n",
    "    Tz = []\n",
    "    for path1 in pathlist:\n",
    "        temp = []\n",
    "        for path2 in pathlist:\n",
    "            temp.append(calc_amplitude(path1, path2, symbol = \"z\"))\n",
    "        Tz.append(temp)\n",
    "        \n",
    "    def multi(A,B):\n",
    "        M = []\n",
    "        for m in range(len(A)):\n",
    "            templist = []\n",
    "            for n in range(len(A)):\n",
    "                temp = 0\n",
    "                for i in range(len(A)):\n",
    "                    temp += A[i][n] * B[m][i]\n",
    "                templist.append(temp)\n",
    "            M.append(templist)\n",
    "        return M\n",
    "    \n",
    "    def sub(A,B):\n",
    "        S = []\n",
    "        for i in range(len(A)):\n",
    "            templist = []\n",
    "            for j in range(len(A)):\n",
    "                templist.append(A[i][j] - B[i][j])\n",
    "            S.append(templist)\n",
    "        return S\n",
    "    #S = sub(multi(Ty, Tz), multi(Tz, Ty)) \n",
    "    S = multi(Tz, Ty)\n",
    "    dt_now = datetime.datetime.now()\n",
    "    with open(path, mode = \"a\") as f:\n",
    "        f.write(\"\\\\documentclass{jsreport}\\n\\\\usepackage[dvipdfmx]{graphicx}\\n\\\\usepackage{amsmath}\\n\\\\usepackage{amsfonts}\\n\\\\begin{document}\\n\")\n",
    "        f.write(\"-\"*50)\n",
    "        f.write(\"\\\\\\\\\")\n",
    "        f.write(\"\\n\")\n",
    "        f.write(str(dt_now))\n",
    "        f.write(\"\\\\\\\\\")\n",
    "        f.write(\"\\n\")\n",
    "        f.write(\"pathlist = \")\n",
    "        f.write(str(pathlist))\n",
    "        f.write(\"\\\\\\\\\")\n",
    "        f.write(\"\\n\")\n",
    "        f.write(\"substraction is \\\\\\\\\\n\")\n",
    "        for i in range(len(Tz)):\n",
    "            for j in range(len(Tz)):\n",
    "                f.write(\"i,j = \")\n",
    "                f.write(str((i,j)))\n",
    "                f.write(\"\\\\\\\\\\n\")\n",
    "                f.write(\"$$\")        \n",
    "                f.write(sympy.latex(S[i][j]))\n",
    "                f.write(\"$$\")\n",
    "        f.write(\"\\n\")\n",
    "        f.write(\"-\"*50)\n",
    "        f.write(\"\\\\\\\\\")\n",
    "        f.write(\"\\n\")\n",
    "        \n",
    "        f.write(\"\\end{document}\")\n"
   ]
  },
  {
   "cell_type": "code",
   "execution_count": 132,
   "metadata": {},
   "outputs": [],
   "source": [
    "tzty = sympy.simplify(calc_amplitude(\"10\",\"10\",symbol=\"z\") * calc_amplitude(\"10\",\"10\",symbol=\"y\") + calc_amplitude(\"01\",\"10\",symbol=\"z\") * calc_amplitude(\"10\",\"01\",symbol=\"y\"))"
   ]
  },
  {
   "cell_type": "code",
   "execution_count": 133,
   "metadata": {},
   "outputs": [],
   "source": [
    "tytz = sympy.simplify(calc_amplitude(\"10\",\"10\",symbol=\"y\") * calc_amplitude(\"10\",\"10\",symbol=\"z\") + calc_amplitude(\"01\",\"10\",symbol=\"y\") * calc_amplitude(\"10\",\"01\",symbol=\"z\"))"
   ]
  },
  {
   "cell_type": "code",
   "execution_count": 141,
   "metadata": {},
   "outputs": [
    {
     "data": {
      "image/png": "[encoded data removed]",
      "text/latex": [
       "$\\displaystyle \\frac{\\left(y^{2} - 1\\right) \\left(q^{2} z^{2} + z^{2} - 2\\right) + \\left(z^{2} - 1\\right) \\left(- q^{2} y^{2} - y^{2} + 2\\right)}{\\left(y^{2} - 1\\right) \\left(z^{2} - 1\\right) \\left(q^{2} y^{2} - 1\\right) \\left(q^{2} z^{2} - 1\\right)}$"
      ],
      "text/plain": [
       "⎛ 2    ⎞ ⎛ 2  2    2    ⎞   ⎛ 2    ⎞ ⎛   2  2    2    ⎞\n",
       "⎝y  - 1⎠⋅⎝q ⋅z  + z  - 2⎠ + ⎝z  - 1⎠⋅⎝- q ⋅y  - y  + 2⎠\n",
       "───────────────────────────────────────────────────────\n",
       "       ⎛ 2    ⎞ ⎛ 2    ⎞ ⎛ 2  2    ⎞ ⎛ 2  2    ⎞       \n",
       "       ⎝y  - 1⎠⋅⎝z  - 1⎠⋅⎝q ⋅y  - 1⎠⋅⎝q ⋅z  - 1⎠       "
      ]
     },
     "execution_count": 141,
     "metadata": {},
     "output_type": "execute_result"
    }
   ],
   "source": [
    "sympy.simplify(tzty - tytz)"
   ]
  },
  {
   "cell_type": "code",
   "execution_count": 140,
   "metadata": {},
   "outputs": [
    {
     "data": {
      "image/png": "[encoded data removed]",
      "text/latex": [
       "$\\displaystyle \\frac{q^{2} y^{2}}{q^{4} y^{4} z^{4} - q^{4} y^{4} z^{2} - q^{4} y^{2} z^{4} + q^{4} y^{2} z^{2} - q^{2} y^{4} z^{2} + q^{2} y^{4} - q^{2} y^{2} z^{4} + 2 q^{2} y^{2} z^{2} - q^{2} y^{2} + q^{2} z^{4} - q^{2} z^{2} + y^{2} z^{2} - y^{2} - z^{2} + 1} - \\frac{q^{2} z^{2}}{q^{4} y^{4} z^{4} - q^{4} y^{4} z^{2} - q^{4} y^{2} z^{4} + q^{4} y^{2} z^{2} - q^{2} y^{4} z^{2} + q^{2} y^{4} - q^{2} y^{2} z^{4} + 2 q^{2} y^{2} z^{2} - q^{2} y^{2} + q^{2} z^{4} - q^{2} z^{2} + y^{2} z^{2} - y^{2} - z^{2} + 1} - \\frac{y^{2}}{q^{4} y^{4} z^{4} - q^{4} y^{4} z^{2} - q^{4} y^{2} z^{4} + q^{4} y^{2} z^{2} - q^{2} y^{4} z^{2} + q^{2} y^{4} - q^{2} y^{2} z^{4} + 2 q^{2} y^{2} z^{2} - q^{2} y^{2} + q^{2} z^{4} - q^{2} z^{2} + y^{2} z^{2} - y^{2} - z^{2} + 1} + \\frac{z^{2}}{q^{4} y^{4} z^{4} - q^{4} y^{4} z^{2} - q^{4} y^{2} z^{4} + q^{4} y^{2} z^{2} - q^{2} y^{4} z^{2} + q^{2} y^{4} - q^{2} y^{2} z^{4} + 2 q^{2} y^{2} z^{2} - q^{2} y^{2} + q^{2} z^{4} - q^{2} z^{2} + y^{2} z^{2} - y^{2} - z^{2} + 1}$"
      ],
      "text/plain": [
       "                                                               2  2           \n",
       "                                                              q ⋅y            \n",
       "──────────────────────────────────────────────────────────────────────────────\n",
       " 4  4  4    4  4  2    4  2  4    4  2  2    2  4  2    2  4    2  2  4      2\n",
       "q ⋅y ⋅z  - q ⋅y ⋅z  - q ⋅y ⋅z  + q ⋅y ⋅z  - q ⋅y ⋅z  + q ⋅y  - q ⋅y ⋅z  + 2⋅q \n",
       "\n",
       "                                                                              \n",
       "                                                                              \n",
       "──────────────────────────────────────────────────── - ───────────────────────\n",
       "  2  2    2  2    2  4    2  2    2  2    2    2        4  4  4    4  4  2    \n",
       "⋅y ⋅z  - q ⋅y  + q ⋅z  - q ⋅z  + y ⋅z  - y  - z  + 1   q ⋅y ⋅z  - q ⋅y ⋅z  - q\n",
       "\n",
       "                                        2  2                                  \n",
       "                                       q ⋅z                                   \n",
       "──────────────────────────────────────────────────────────────────────────────\n",
       "4  2  4    4  2  2    2  4  2    2  4    2  2  4      2  2  2    2  2    2  4 \n",
       " ⋅y ⋅z  + q ⋅y ⋅z  - q ⋅y ⋅z  + q ⋅y  - q ⋅y ⋅z  + 2⋅q ⋅y ⋅z  - q ⋅y  + q ⋅z  \n",
       "\n",
       "                                                                              \n",
       "                                                                              \n",
       "───────────────────────────── - ──────────────────────────────────────────────\n",
       "   2  2    2  2    2    2        4  4  4    4  4  2    4  2  4    4  2  2    2\n",
       "- q ⋅z  + y ⋅z  - y  - z  + 1   q ⋅y ⋅z  - q ⋅y ⋅z  - q ⋅y ⋅z  + q ⋅y ⋅z  - q \n",
       "\n",
       "                   2                                                          \n",
       "                  y                                                           \n",
       "──────────────────────────────────────────────────────────────────────────────\n",
       "  4  2    2  4    2  2  4      2  2  2    2  2    2  4    2  2    2  2    2   \n",
       "⋅y ⋅z  + q ⋅y  - q ⋅y ⋅z  + 2⋅q ⋅y ⋅z  - q ⋅y  + q ⋅z  - q ⋅z  + y ⋅z  - y  - \n",
       "\n",
       "                                                                          2   \n",
       "                                                                         z    \n",
       "────── + ─────────────────────────────────────────────────────────────────────\n",
       " 2        4  4  4    4  4  2    4  2  4    4  2  2    2  4  2    2  4    2  2 \n",
       "z  + 1   q ⋅y ⋅z  - q ⋅y ⋅z  - q ⋅y ⋅z  + q ⋅y ⋅z  - q ⋅y ⋅z  + q ⋅y  - q ⋅y ⋅\n",
       "\n",
       "                                                             \n",
       "                                                             \n",
       "─────────────────────────────────────────────────────────────\n",
       " 4      2  2  2    2  2    2  4    2  2    2  2    2    2    \n",
       "z  + 2⋅q ⋅y ⋅z  - q ⋅y  + q ⋅z  - q ⋅z  + y ⋅z  - y  - z  + 1"
      ]
     },
     "execution_count": 140,
     "metadata": {},
     "output_type": "execute_result"
    }
   ],
   "source": [
    "sympy.expand(sympy.simplify(tzty - tytz))"
   ]
  },
  {
   "cell_type": "code",
   "execution_count": null,
   "metadata": {},
   "outputs": [],
   "source": []
  },
  {
   "cell_type": "code",
   "execution_count": 47,
   "metadata": {},
   "outputs": [],
   "source": [
    "path = \"/home/kmatsuura/univ/4a/sotugyoukennkyuu/reportshitagaki/tzty.tex\"\n",
    "pathlist = [\"10\",\"01\"]\n",
    "\n",
    "writeexchange2result(path,pathlist)"
   ]
  },
  {
   "cell_type": "code",
   "execution_count": 131,
   "metadata": {},
   "outputs": [
    {
     "ename": "SyntaxError",
     "evalue": "invalid syntax (<ipython-input-131-c162186f2d97>, line 3)",
     "output_type": "error",
     "traceback": [
      "\u001b[0;36m  File \u001b[0;32m\"<ipython-input-131-c162186f2d97>\"\u001b[0;36m, line \u001b[0;32m3\u001b[0m\n\u001b[0;31m    pathlist1 =\u001b[0m\n\u001b[0m                ^\u001b[0m\n\u001b[0;31mSyntaxError\u001b[0m\u001b[0;31m:\u001b[0m invalid syntax\n"
     ]
    }
   ],
   "source": [
    "path = \"./data/result1-20.tex\"\n",
    "\n",
    "pathlist1 = \n",
    "\n",
    "\n",
    "for k in range(len(listn4)):\n",
    "    for p1 in listn4[k]:\n",
    "        for p2 in listn4[k]:\n",
    "            writeamp2result(path,p1,p2)\n",
    "            print(\"Ampliutde\" + str(p1) + \"to\" + str(p2) + \" was written.\")"
   ]
  },
  {
   "cell_type": "code",
   "execution_count": null,
   "metadata": {},
   "outputs": [],
   "source": [
    "path = \"./data/result2.tex\"\n",
    "\n",
    "for k in range(len(listn4)):\n",
    "    for p1 in listn4[k]:\n",
    "        for p2 in listn4[k]:\n",
    "            writeamp2result(path,p1,p2)\n",
    "            print(\"Ampliutde\" + str(p1) + \"to\" + str(p2) + \" was written.\")"
   ]
  }
 ],
 "metadata": {
  "kernelspec": {
   "display_name": "Python 3",
   "language": "python",
   "name": "python3"
  },
  "language_info": {
   "codemirror_mode": {
    "name": "ipython",
    "version": 3
   },
   "file_extension": ".py",
   "mimetype": "text/x-python",
   "name": "python",
   "nbconvert_exporter": "python",
   "pygments_lexer": "ipython3",
   "version": "3.7.5"
  }
 },
 "nbformat": 4,
 "nbformat_minor": 4
}
