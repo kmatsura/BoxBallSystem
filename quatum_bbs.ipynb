{
 "cells": [
  {
   "cell_type": "code",
   "execution_count": 1,
   "metadata": {},
   "outputs": [],
   "source": [
    "import numpy as np\n",
    "import math\n",
    "import matplotlib.pyplot as plt\n",
    "import pandas as pd"
   ]
  },
  {
   "cell_type": "markdown",
   "metadata": {},
   "source": [
    "# class quatum bbs"
   ]
  },
  {
   "cell_type": "code",
   "execution_count": 3,
   "metadata": {},
   "outputs": [
    {
     "ename": "SyntaxError",
     "evalue": "invalid token (<ipython-input-3-c2225f7f2381>, line 1)",
     "output_type": "error",
     "traceback": [
      "\u001b[0;36m  File \u001b[0;32m\"<ipython-input-3-c2225f7f2381>\"\u001b[0;36m, line \u001b[0;32m1\u001b[0m\n\u001b[0;31m    p = 0101101\u001b[0m\n\u001b[0m              ^\u001b[0m\n\u001b[0;31mSyntaxError\u001b[0m\u001b[0;31m:\u001b[0m invalid token\n"
     ]
    }
   ],
   "source": [
    "p = "
   ]
  },
  {
   "cell_type": "code",
   "execution_count": 40,
   "metadata": {},
   "outputs": [],
   "source": [
    "class quatum_Periodic_bbs:# p is the configuration of balls\n",
    "    def __init__(self, l):\n",
    "        ## パスを二進数表現\n",
    "        self.path_amp =  np.zeros(2**l)\n",
    "        self.carrier = []\n",
    "        self.energy = 0\n",
    "        self.time = 0\n",
    "        self.log = []\n",
    "    \n",
    "        def path2binary(self,p):##omitting 0 aligned the left side of the path.\n",
    "        return int(str(p),2)\n",
    "    \n",
    "    def binary2path(self,n):\n",
    "        return(int(bin(n)[2:]))\n",
    "    \n",
    "    def show_state():\n",
    "        print(\"t = {}\".format(self.time))\n",
    "        print(\"amplitude is {}\".format(self.path_amp))\n",
    "    \n",
    "    def set_state(amplitude_dist):\n",
    "        self.path_amp =  amplitude_dist\n",
    "        \n",
    "    \n",
    "    def P_operator(self, m, k): #m is the number of 1-color balls in the carrier. k is the positon.\n",
    "        vl = np.sort(vl)\n",
    "        if b == 1:\n",
    "            if max(vl) == 1:\n",
    "                vl = vl\n",
    "                b_dash = b\n",
    "            \n",
    "            elif max(vl) == 2:\n",
    "                vl[-1] = 1\n",
    "                vl = np.sort(vl)\n",
    "                b_dash = 2\n",
    "            else:\n",
    "                print(\"error\")\n",
    "        \n",
    "        elif b == 2:\n",
    "            if min(vl) == 2:\n",
    "                vl = vl\n",
    "                b_dash = b\n",
    "            elif min(vl) == 1:\n",
    "                vl[0] = 2\n",
    "                vl = np.sort(vl)\n",
    "                b_dash = 1\n",
    "            else:\n",
    "                print(\"error\")\n",
    "            \n",
    "        return vl, b_dash\n",
    "                \n",
    "        \n",
    "    \n",
    "    def map_R(self, vl):\n",
    "        p_dash = self.box.copy()\n",
    "        for i in range(len(self.box)):\n",
    "            b = self.box[i]\n",
    "            vl, b_dash =  self.combitional_R(vl ,b)\n",
    "            p_dash[i] = b_dash\n",
    "        #self.box = p_dash\n",
    "        return vl, p_dash\n",
    "    \n",
    "    def time_evolve(self, l, calc_energy = False, print_result = True):\n",
    "        self.time += 1\n",
    "        vl = np.ones(l)\n",
    "        vl_new = np.zeros(l)\n",
    "        p_temp = self.box.copy()\n",
    "        #from IPython.core.debugger import Pdb; Pdb().set_trace()\n",
    "        for i in range(l+100):\n",
    "            vl = np.sort(vl)\n",
    "            self.box = p_temp.copy()\n",
    "            vl_new, p_dash = self.map_R(vl)\n",
    "            if (vl != vl_new).any():\n",
    "                vl[0] = 2\n",
    "            elif (vl == vl_new).all():\n",
    "                break\n",
    "            else:\n",
    "                print(\"error\")\n",
    "        if calc_energy == True:\n",
    "            self.energy = np.count_nonzero((p_dash - p_temp) == -1)\n",
    "        self.box = p_dash\n",
    "        self.log.append(self.box)\n",
    "        if print_result == True:\n",
    "            if calc_energy == True:\n",
    "                print(\"t = {0} | system = {1} | energy = {2}\".format(self.time, self.box, self.energy))\n",
    "            else:\n",
    "                print(\"t = {0} | {1}\".format(self.time, self.box))\n",
    "        \n",
    "        return vl_new, self.box\n",
    "    \n",
    "        \n",
    "    \n"
   ]
  },
  {
   "cell_type": "code",
   "execution_count": 37,
   "metadata": {},
   "outputs": [],
   "source": [
    "qpbbs = quatum_Periodic_bbs(4)"
   ]
  },
  {
   "cell_type": "code",
   "execution_count": 38,
   "metadata": {},
   "outputs": [
    {
     "data": {
      "text/plain": [
       "13"
      ]
     },
     "execution_count": 38,
     "metadata": {},
     "output_type": "execute_result"
    }
   ],
   "source": [
    "qpbbs.path2binary(1101)"
   ]
  },
  {
   "cell_type": "code",
   "execution_count": 39,
   "metadata": {},
   "outputs": [
    {
     "data": {
      "text/plain": [
       "1100"
      ]
     },
     "execution_count": 39,
     "metadata": {},
     "output_type": "execute_result"
    }
   ],
   "source": [
    "qpbbs.binary2path(12)"
   ]
  },
  {
   "cell_type": "code",
   "execution_count": null,
   "metadata": {},
   "outputs": [],
   "source": []
  }
 ],
 "metadata": {
  "kernelspec": {
   "display_name": "Python 3",
   "language": "python",
   "name": "python3"
  },
  "language_info": {
   "codemirror_mode": {
    "name": "ipython",
    "version": 3
   },
   "file_extension": ".py",
   "mimetype": "text/x-python",
   "name": "python",
   "nbconvert_exporter": "python",
   "pygments_lexer": "ipython3",
   "version": "3.7.5"
  }
 },
 "nbformat": 4,
 "nbformat_minor": 4
}
