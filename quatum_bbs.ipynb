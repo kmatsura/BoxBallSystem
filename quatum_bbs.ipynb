{
 "cells": [
  {
   "cell_type": "code",
   "execution_count": 1,
   "metadata": {},
   "outputs": [],
   "source": [
    "import numpy as np\n",
    "import math\n",
    "import matplotlib.pyplot as plt\n",
    "import pandas as pd\n",
    "\n",
    "import sympy\n",
    "from sympy import init_printing\n",
    "init_printing()"
   ]
  },
  {
   "cell_type": "markdown",
   "metadata": {},
   "source": [
    "# class quatum bbs"
   ]
  },
  {
   "cell_type": "code",
   "execution_count": 2,
   "metadata": {},
   "outputs": [],
   "source": [
    "class quatum_Periodic_bbs:# p is the configuration of balls\n",
    "    def __init__(self, l, q):\n",
    "        ## パスを二進数表現\n",
    "        self.path_amp =  np.zeros(2**l)\n",
    "        self.q = q\n",
    "        self.carrier = []\n",
    "        self.energy = 0\n",
    "        self.time = 0\n",
    "        self.log = []\n",
    "    \n",
    "    def path2binary(self,p):##omitting 0 aligned the left side of the path.\n",
    "        return int(str(p),2)\n",
    "    \n",
    "    def binary2path(self,n):\n",
    "        return(int(bin(n)[2:]))\n",
    "    \n",
    "    def show_state():\n",
    "        print(\"t = {}\".format(self.time))\n",
    "        print(\"amplitude is {}\".format(self.path_amp))\n",
    "    \n",
    "    def set_state(amplitude_dist):\n",
    "        self.path_amp =  amplitude_dist\n",
    "        \n",
    "    \n",
    "    def P_operator(self, m): #m is the number of 1-color balls in the carrier. k is the positon.\n",
    "        q = self.q\n",
    "        return m, q**m #carrier, amplitude\n",
    "    \n",
    "    def Q_operator(self, m): #m is the number of 1-color balls in the carrier. k is the positon.\n",
    "        return m + 1, 1\n",
    "\n",
    "    def R_operator(self, m): #m is the number of 1-color balls in the carrier. k is the positon.\n",
    "        q = self.q\n",
    "        if m > 0:\n",
    "            return m - 1, 1 - q**(2*m)\n",
    "        elif m == 0:\n",
    "            return 0, 1\n",
    "    \n",
    "        \n",
    "        vl = np.sort(vl)\n",
    "        if b == 1:\n",
    "            if max(vl) == 1:\n",
    "                vl = vl\n",
    "                b_dash = b\n",
    "            \n",
    "            elif max(vl) == 2:\n",
    "                vl[-1] = 1\n",
    "                vl = np.sort(vl)\n",
    "                b_dash = 2\n",
    "            else:\n",
    "                print(\"error\")\n",
    "        \n",
    "        elif b == 2:\n",
    "            if min(vl) == 2:\n",
    "                vl = vl\n",
    "                b_dash = b\n",
    "            elif min(vl) == 1:\n",
    "                vl[0] = 2\n",
    "                vl = np.sort(vl)\n",
    "                b_dash = 1\n",
    "            else:\n",
    "                print(\"error\")\n",
    "            \n",
    "        return vl, b_dash\n",
    "                \n",
    "        \n",
    "    \n",
    "    def map_R(self, vl):\n",
    "        p_dash = self.box.copy()\n",
    "        for i in range(len(self.box)):\n",
    "            b = self.box[i]\n",
    "            vl, b_dash =  self.combitional_R(vl ,b)\n",
    "            p_dash[i] = b_dash\n",
    "        #self.box = p_dash\n",
    "        return vl, p_dash\n",
    "    \n",
    "    def time_evolve(self, l, calc_energy = False, print_result = True):\n",
    "        self.time += 1\n",
    "        vl = np.ones(l)\n",
    "        vl_new = np.zeros(l)\n",
    "        p_temp = self.box.copy()\n",
    "        #from IPython.core.debugger import Pdb; Pdb().set_trace()\n",
    "        for i in range(l+100):\n",
    "            vl = np.sort(vl)\n",
    "            self.box = p_temp.copy()\n",
    "            vl_new, p_dash = self.map_R(vl)\n",
    "            if (vl != vl_new).any():\n",
    "                vl[0] = 2\n",
    "            elif (vl == vl_new).all():\n",
    "                break\n",
    "            else:\n",
    "                print(\"error\")\n",
    "        if calc_energy == True:\n",
    "            self.energy = np.count_nonzero((p_dash - p_temp) == -1)\n",
    "        self.box = p_dash\n",
    "        self.log.append(self.box)\n",
    "        if print_result == True:\n",
    "            if calc_energy == True:\n",
    "                print(\"t = {0} | system = {1} | energy = {2}\".format(self.time, self.box, self.energy))\n",
    "            else:\n",
    "                print(\"t = {0} | {1}\".format(self.time, self.box))\n",
    "        \n",
    "        return vl_new, self.box\n",
    "    \n",
    "        \n",
    "    \n"
   ]
  },
  {
   "cell_type": "code",
   "execution_count": 3,
   "metadata": {},
   "outputs": [],
   "source": [
    "p = 11010110"
   ]
  },
  {
   "cell_type": "code",
   "execution_count": 4,
   "metadata": {},
   "outputs": [
    {
     "data": {
      "text/plain": [
       "array([1, 1, 0, 1, 0, 1, 1, 0])"
      ]
     },
     "execution_count": 4,
     "metadata": {},
     "output_type": "execute_result"
    }
   ],
   "source": [
    "np.array(list(str(p)),dtype = int)"
   ]
  },
  {
   "cell_type": "markdown",
   "metadata": {},
   "source": [
    "## calculate amplitude"
   ]
  },
  {
   "cell_type": "code",
   "execution_count": 34,
   "metadata": {},
   "outputs": [],
   "source": [
    "def P(m, q, z):\n",
    "    return m, q**m*z**m\n",
    "\n",
    "def Q(m, q, z):\n",
    "    return m+1, z**m\n",
    "\n",
    "def R(m, q, z):\n",
    "    return m-1, (1 - q**(2*m))*z**m\n",
    "\n",
    "\n",
    "def calc_amplitude(p1,p2): #p1,p2 is int or str or np.array\n",
    "    if type(p1) == int:\n",
    "        p1 = np.array(list(str(p1)),dtype = int)\n",
    "    if type(p2) == int:\n",
    "        p2 = np.array(list(str(p2)),dtype = int)\n",
    "\n",
    "    if type(p1) == str:\n",
    "        p1 = np.array(list(p1),dtype = int)\n",
    "    if type(p2) == str:\n",
    "        p2 = np.array(list(p2),dtype = int)        \n",
    "\n",
    "        if len(p1) != len(p2):\n",
    "            print(\"the length between p1 and p2 is not same\")\n",
    "            return 0\n",
    "    \n",
    "    m = sympy.Symbol(\"m\")\n",
    "    q = sympy.Symbol(\"q\")\n",
    "    z = sympy.Symbol(\"z\")\n",
    "    ans = 1\n",
    "    for i in range(len(p1)):\n",
    "        if p1[i] == 0:\n",
    "            if p2[i] == 0:\n",
    "                m, ans_temp = P(m,q,z)\n",
    "            elif p2[i] == 1:\n",
    "                m, ans_temp = R(m,q,z)\n",
    "            else:\n",
    "                print(\"error\")\n",
    "                break\n",
    "        elif p1[i] == 1:\n",
    "            if p2[i] == 0:\n",
    "                m, ans_temp = Q(m,q,z)\n",
    "            elif p2[i] == 1:\n",
    "                m, ans_temp_temp = P(m,q,z)\n",
    "                ans_temp = ans_temp_temp * (-q)\n",
    "            else:\n",
    "                print(\"error\")\n",
    "                break\n",
    "        else:\n",
    "            print(\"error\")\n",
    "            break\n",
    "        \n",
    "        ans *= ans_temp\n",
    "    answer = sympy.summation(ans, (m, 0, sympy.oo))\n",
    "    return answer        \n",
    "            "
   ]
  },
  {
   "cell_type": "code",
   "execution_count": 36,
   "metadata": {},
   "outputs": [
    {
     "data": {
      "text/latex": [
       "$\\displaystyle - q^{3} z^{2} \\left(\\begin{cases} \\frac{1}{- q^{3} z^{3} + 1} & \\text{for}\\: \\left|{q^{3} z^{3}}\\right| < 1 \\\\\\sum_{m=0}^{\\infty} q^{3 m} z^{3 m} & \\text{otherwise} \\end{cases}\\right) + q z^{2} \\left(\\begin{cases} \\frac{1}{- q z^{3} + 1} & \\text{for}\\: \\left|{q z^{3}}\\right| < 1 \\\\\\sum_{m=0}^{\\infty} q^{m} z^{3 m} & \\text{otherwise} \\end{cases}\\right)$"
      ],
      "text/plain": [
       "        ⎛⎧       1             │ 3  3│    ⎞        ⎛⎧     1             │   3│\n",
       "        ⎜⎪  ───────────    for │q ⋅z │ < 1⎟        ⎜⎪ ──────────    for │q⋅z │\n",
       "        ⎜⎪     3  3                       ⎟        ⎜⎪      3                  \n",
       "        ⎜⎪  - q ⋅z  + 1                   ⎟        ⎜⎪ - q⋅z  + 1              \n",
       "        ⎜⎪                                ⎟        ⎜⎪                         \n",
       "   3  2 ⎜⎪  ∞                             ⎟      2 ⎜⎪  ∞                      \n",
       "- q ⋅z ⋅⎜⎨ ___                            ⎟ + q⋅z ⋅⎜⎨ ___                     \n",
       "        ⎜⎪ ╲                              ⎟        ⎜⎪ ╲                       \n",
       "        ⎜⎪  ╲    3⋅m  3⋅m                 ⎟        ⎜⎪  ╲    m  3⋅m            \n",
       "        ⎜⎪  ╱   q   ⋅z        otherwise   ⎟        ⎜⎪  ╱   q ⋅z       otherwis\n",
       "        ⎜⎪ ╱                              ⎟        ⎜⎪ ╱                       \n",
       "        ⎜⎪ ‾‾‾                            ⎟        ⎜⎪ ‾‾‾                     \n",
       "        ⎝⎩m = 0                           ⎠        ⎝⎩m = 0                    \n",
       "\n",
       "    ⎞\n",
       " < 1⎟\n",
       "    ⎟\n",
       "    ⎟\n",
       "    ⎟\n",
       "    ⎟\n",
       "    ⎟\n",
       "    ⎟\n",
       "    ⎟\n",
       "e   ⎟\n",
       "    ⎟\n",
       "    ⎟\n",
       "    ⎠"
      ]
     },
     "execution_count": 36,
     "metadata": {},
     "output_type": "execute_result"
    }
   ],
   "source": [
    "calc_amplitude(\"100\",\"001\")"
   ]
  },
  {
   "cell_type": "code",
   "execution_count": 65,
   "metadata": {},
   "outputs": [],
   "source": [
    "ans = calc_amplitude(\"1000\",\"0010\")"
   ]
  },
  {
   "cell_type": "code",
   "execution_count": 66,
   "metadata": {},
   "outputs": [
    {
     "data": {
      "text/plain": [
       "'- q^{3} z^{2} \\\\left(\\\\begin{cases} \\\\frac{1}{- q^{4} z^{4} + 1} & \\\\text{for}\\\\: \\\\left|{q^{4} z^{4}}\\\\right| < 1 \\\\\\\\\\\\sum_{m=0}^{\\\\infty} q^{4 m} z^{4 m} & \\\\text{otherwise} \\\\end{cases}\\\\right) + q z^{2} \\\\left(\\\\begin{cases} \\\\frac{1}{- q^{2} z^{4} + 1} & \\\\text{for}\\\\: \\\\left|{q^{2} z^{4}}\\\\right| < 1 \\\\\\\\\\\\sum_{m=0}^{\\\\infty} q^{2 m} z^{4 m} & \\\\text{otherwise} \\\\end{cases}\\\\right)'"
      ]
     },
     "execution_count": 66,
     "metadata": {},
     "output_type": "execute_result"
    }
   ],
   "source": [
    "sympy.latex(ans)"
   ]
  },
  {
   "cell_type": "code",
   "execution_count": 67,
   "metadata": {},
   "outputs": [
    {
     "data": {
      "text/latex": [
       "$\\displaystyle \\begin{cases} - \\frac{q z^{2} \\left(q^{2} - 1\\right)}{q^{6} z^{8} - q^{4} z^{4} - q^{2} z^{4} + 1} & \\text{for}\\: \\left|{q^{2} z^{4}}\\right| < 1 \\wedge \\left|{q^{4} z^{4}}\\right| < 1 \\\\q z^{2} \\left(\\frac{q^{2}}{q^{4} z^{4} - 1} + \\sum_{m=0}^{\\infty} q^{2 m} z^{4 m}\\right) & \\text{for}\\: \\left|{q^{4} z^{4}}\\right| < 1 \\\\- q z^{2} \\left(q^{2} \\sum_{m=0}^{\\infty} q^{4 m} z^{4 m} + \\frac{1}{q^{2} z^{4} - 1}\\right) & \\text{for}\\: \\left|{q^{2} z^{4}}\\right| < 1 \\\\q z^{2} \\sum_{m=0}^{\\infty} q^{2 m} z^{4 m} \\left(1 - q^{2 m + 2}\\right) & \\text{otherwise} \\end{cases}$"
      ],
      "text/plain": [
       "⎧               2 ⎛ 2    ⎞                                            \n",
       "⎪           -q⋅z ⋅⎝q  - 1⎠                   │ 2  4│       │ 4  4│    \n",
       "⎪      ─────────────────────────         for │q ⋅z │ < 1 ∧ │q ⋅z │ < 1\n",
       "⎪       6  8    4  4    2  4                                          \n",
       "⎪      q ⋅z  - q ⋅z  - q ⋅z  + 1                                      \n",
       "⎪                                                                     \n",
       "⎪       ⎛              ∞            ⎞                                 \n",
       "⎪       ⎜             ___           ⎟                                 \n",
       "⎪       ⎜     2       ╲             ⎟                                 \n",
       "⎪     2 ⎜    q         ╲    2⋅m  4⋅m⎟               │ 4  4│           \n",
       "⎪  q⋅z ⋅⎜───────── +   ╱   q   ⋅z   ⎟           for │q ⋅z │ < 1       \n",
       "⎪       ⎜ 4  4        ╱             ⎟                                 \n",
       "⎪       ⎜q ⋅z  - 1    ‾‾‾           ⎟                                 \n",
       "⎪       ⎝            m = 0          ⎠                                 \n",
       "⎪                                                                     \n",
       "⎪      ⎛     ∞                        ⎞                               \n",
       "⎨      ⎜    ___                       ⎟                               \n",
       "⎪      ⎜    ╲                         ⎟                               \n",
       "⎪    2 ⎜ 2   ╲    4⋅m  4⋅m       1    ⎟             │ 2  4│           \n",
       "⎪-q⋅z ⋅⎜q ⋅  ╱   q   ⋅z    + ─────────⎟         for │q ⋅z │ < 1       \n",
       "⎪      ⎜    ╱                 2  4    ⎟                               \n",
       "⎪      ⎜    ‾‾‾              q ⋅z  - 1⎟                               \n",
       "⎪      ⎝   m = 0                      ⎠                               \n",
       "⎪                                                                     \n",
       "⎪        ∞                                                            \n",
       "⎪       ___                                                           \n",
       "⎪       ╲                                                             \n",
       "⎪    2   ╲    2⋅m  4⋅m ⎛     2⋅m + 2⎞                                 \n",
       "⎪ q⋅z ⋅  ╱   q   ⋅z   ⋅⎝1 - q       ⎠              otherwise          \n",
       "⎪       ╱                                                             \n",
       "⎪       ‾‾‾                                                           \n",
       "⎪      m = 0                                                          \n",
       "⎩                                                                     "
      ]
     },
     "execution_count": 67,
     "metadata": {},
     "output_type": "execute_result"
    }
   ],
   "source": [
    "newans = sympy.simplify(ans)\n",
    "newans"
   ]
  },
  {
   "cell_type": "code",
   "execution_count": 68,
   "metadata": {},
   "outputs": [
    {
     "data": {
      "text/plain": [
       "'\\\\begin{cases} - \\\\frac{q z^{2} \\\\left(q^{2} - 1\\\\right)}{q^{6} z^{8} - q^{4} z^{4} - q^{2} z^{4} + 1} & \\\\text{for}\\\\: \\\\left|{q^{2} z^{4}}\\\\right| < 1 \\\\wedge \\\\left|{q^{4} z^{4}}\\\\right| < 1 \\\\\\\\q z^{2} \\\\left(\\\\frac{q^{2}}{q^{4} z^{4} - 1} + \\\\sum_{m=0}^{\\\\infty} q^{2 m} z^{4 m}\\\\right) & \\\\text{for}\\\\: \\\\left|{q^{4} z^{4}}\\\\right| < 1 \\\\\\\\- q z^{2} \\\\left(q^{2} \\\\sum_{m=0}^{\\\\infty} q^{4 m} z^{4 m} + \\\\frac{1}{q^{2} z^{4} - 1}\\\\right) & \\\\text{for}\\\\: \\\\left|{q^{2} z^{4}}\\\\right| < 1 \\\\\\\\q z^{2} \\\\sum_{m=0}^{\\\\infty} q^{2 m} z^{4 m} \\\\left(1 - q^{2 m + 2}\\\\right) & \\\\text{otherwise} \\\\end{cases}'"
      ]
     },
     "execution_count": 68,
     "metadata": {},
     "output_type": "execute_result"
    }
   ],
   "source": [
    "sympy.latex(newans)"
   ]
  },
  {
   "cell_type": "code",
   "execution_count": null,
   "metadata": {},
   "outputs": [],
   "source": []
  }
 ],
 "metadata": {
  "kernelspec": {
   "display_name": "Python 3",
   "language": "python",
   "name": "python3"
  },
  "language_info": {
   "codemirror_mode": {
    "name": "ipython",
    "version": 3
   },
   "file_extension": ".py",
   "mimetype": "text/x-python",
   "name": "python",
   "nbconvert_exporter": "python",
   "pygments_lexer": "ipython3",
   "version": "3.7.5"
  }
 },
 "nbformat": 4,
 "nbformat_minor": 4
}
