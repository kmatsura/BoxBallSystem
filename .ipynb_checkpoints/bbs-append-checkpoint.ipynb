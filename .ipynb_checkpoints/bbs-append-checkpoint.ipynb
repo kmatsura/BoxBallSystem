{
 "cells": [
  {
   "cell_type": "code",
   "execution_count": 1,
   "metadata": {},
   "outputs": [],
   "source": [
    "import numpy as np\n",
    "import math\n",
    "import matplotlib.pyplot as plt\n",
    "import pandas as pd"
   ]
  },
  {
   "cell_type": "code",
   "execution_count": 2,
   "metadata": {},
   "outputs": [],
   "source": [
    "#巡回シフト\n",
    "def roll(p, d = 1):\n",
    "    if type(p) != np.ndarray:\n",
    "        p = np.array(list((str(p))))\n",
    "    p = np.roll(p, d*(-1))\n",
    "    return p\n",
    "\n",
    "\n",
    "#ウェイトの可視化\n",
    "def calc_path(p):\n",
    "    if type(p) != np.ndarray:\n",
    "        p = np.array(list((str(p))))\n",
    "    wt = np.zeros(len(p) + 1)\n",
    "    for i in range(len(p)):\n",
    "        if p[i] == \"1\":\n",
    "            wt[i+1] = wt[i] + 1\n",
    "        elif p[i] == \"2\":\n",
    "            wt[i+1] = wt[i] - 1    \n",
    "    return wt\n",
    "\n",
    "#search highest path\n",
    "def search_highest_path(p):\n",
    "    if type(p) != np.ndarray:\n",
    "        p = np.array(list((str(p))))\n",
    "        ans_list = []\n",
    "    for i in range(len(p)):\n",
    "        if np.min(calc_path(p)) >= 0:\n",
    "            ans_list.append((p,i))\n",
    "        p = roll(p)\n",
    "    return ans_list"
   ]
  },
  {
   "cell_type": "code",
   "execution_count": 3,
   "metadata": {},
   "outputs": [
    {
     "data": {
      "text/plain": [
       "'\\nclass String:\\n    def __init__(self, color, length, rigging):\\n        self.color = color\\n        self.length = length\\n        self.rigging = rigging\\n'"
      ]
     },
     "execution_count": 3,
     "metadata": {},
     "output_type": "execute_result"
    }
   ],
   "source": [
    "\"\"\"\n",
    "class String:\n",
    "    def __init__(self, color, length, rigging):\n",
    "        self.color = color\n",
    "        self.length = length\n",
    "        self.rigging = rigging\n",
    "\"\"\""
   ]
  },
  {
   "cell_type": "code",
   "execution_count": 4,
   "metadata": {},
   "outputs": [
    {
     "data": {
      "text/plain": [
       "array([[0., 0., 0., 0., 0., 0., 0., 0., 0., 0.],\n",
       "       [0., 0., 0., 0., 0., 0., 0., 0., 0., 0.],\n",
       "       [0., 0., 0., 0., 0., 0., 0., 0., 0., 0.],\n",
       "       [0., 0., 0., 0., 0., 0., 0., 0., 0., 0.],\n",
       "       [0., 0., 0., 0., 0., 0., 0., 0., 0., 0.]])"
      ]
     },
     "execution_count": 4,
     "metadata": {},
     "output_type": "execute_result"
    }
   ],
   "source": [
    "np.zeros((5,10))"
   ]
  },
  {
   "cell_type": "code",
   "execution_count": 20,
   "metadata": {},
   "outputs": [],
   "source": [
    "class Rigged_configuration:\n",
    "    def __init__(self, mu):\n",
    "        self.setlist = mu\n",
    "        return\n",
    "    \n",
    "    def choose_string(self, mu, t):#choose longest singular string lower then t\n",
    "        length = 0       \n",
    "        #貪欲法\n",
    "        mu = sorted(mu, key = lambda k:k[1])\n",
    "        temp = None\n",
    "        for string in mu:\n",
    "            if string[1] > t:\n",
    "                break\n",
    "            elif string[0] == string[2]:\n",
    "                if string[1] > length:\n",
    "                    temp = string\n",
    "                    length = string[1]\n",
    "        return temp\n",
    "    \n",
    "    def calc_vacancy(self):\n",
    "        self.setlist[1] = sorted(self.setlist[1], key = lambda k:k[1])\n",
    "        q = np.zeros((len(self.setlist) + 1, self.setlist[1][-1][1] + 1)) \n",
    "        for i in range(len(self.setlist)):\n",
    "            for j in range(self.setlist[1][-1][1] + 1):\n",
    "                q[i][j] = 0\n",
    "                for k in range(len(self.setlist[i])):\n",
    "                        q[i][j] += min(j,self.setlist[i][k][1])\n",
    "        \n",
    "        for i in range(len(self.setlist) - 1):\n",
    "            for j in range(len(self.setlist[i+1])):\n",
    "                #from IPython.core.debugger import Pdb; Pdb().set_trace()\n",
    "                l = self.setlist[i+1][j][1]\n",
    "                self.setlist[i+1][j][0] = int(q[i][l] + q[i+2][l] - 2 * q[i+1][l])        \n",
    "        return self\n",
    "            \n",
    "            \n",
    "            \n",
    "    \n",
    "    def addition(self, b):\n",
    "        k = len(self.setlist) + 10\n",
    "        for i in range(len(self.setlist)):\n",
    "            if b - 1 - i < 0:\n",
    "                break\n",
    "            if b > len(self.setlist):\n",
    "                for j in range(b - len(self.setlist)):\n",
    "                    self.setlist.append([[-1,-1,-1]])\n",
    "            #from IPython.core.debugger import Pdb; Pdb().set_trace()\n",
    "            string = self.choose_string(self.setlist[b - 1 - i], k)\n",
    "            \n",
    "            if string == None:\n",
    "                if self.setlist[b - 1 - i][0][1] == -1:\n",
    "                    self.setlist[b - 1 - i].remove([-1,-1,-1])\n",
    "                    self.setlist[b - 1 - i].append([-1, 1, -1])\n",
    "                else:                    \n",
    "                    self.setlist[b - 1 -i].append([-1, 1, -1])\n",
    "                    self.calc_vacancy()\n",
    "            elif b - 1 - i == 0:        \n",
    "                self.setlist[b - 1 - i].append([-1, 1, -1])\n",
    "                self.calc_vacancy\n",
    "                \n",
    "            else:\n",
    "                self.setlist[b - 1 - i].remove(string)\n",
    "                self.setlist[b - 1 - i].append([-1, string[1] + 1, -1])\n",
    "                self.calc_vacancy\n",
    "                for j in range(len(self.setlist[b - 1 - i])):\n",
    "                    if self.setlist[b - 1 -i][j][2] == -1:    \n",
    "                        self.setlist[b - 1 - i][j][2] = self.setlist[b - 1 - i][j][0] \n",
    "                        break\n",
    "                k = string[1]\n",
    "        return\n",
    "            \n",
    "        \n",
    "    def phi_star(p):\n",
    "        p = np.array(list(str(p)))\n",
    "        for i in range(len(p)):\n",
    "            self.addition(int(p[i]))\n",
    "        return"
   ]
  },
  {
   "cell_type": "code",
   "execution_count": 21,
   "metadata": {},
   "outputs": [],
   "source": [
    "rc = Rigged_configuration([[[0,1,0],[0,1,0],[0,1,0],[0,1,0],[0,1,0],[0,1,0],[0,1,0],[0,1,0]], [[0,3,0],[0,1,0],[0,1,0],[0,1,0]], [[0,1,0]]])"
   ]
  },
  {
   "cell_type": "code",
   "execution_count": 22,
   "metadata": {},
   "outputs": [
    {
     "data": {
      "text/plain": [
       "[[[0, 1, 0],\n",
       "  [0, 1, 0],\n",
       "  [0, 1, 0],\n",
       "  [0, 1, 0],\n",
       "  [0, 1, 0],\n",
       "  [0, 1, 0],\n",
       "  [0, 1, 0],\n",
       "  [0, 1, 0]],\n",
       " [[0, 3, 0], [0, 1, 0], [0, 1, 0], [0, 1, 0]],\n",
       " [[0, 1, 0]]]"
      ]
     },
     "execution_count": 22,
     "metadata": {},
     "output_type": "execute_result"
    }
   ],
   "source": [
    "rc.setlist"
   ]
  },
  {
   "cell_type": "code",
   "execution_count": 23,
   "metadata": {},
   "outputs": [],
   "source": [
    "rc.addition(4)"
   ]
  },
  {
   "cell_type": "code",
   "execution_count": 24,
   "metadata": {},
   "outputs": [
    {
     "data": {
      "text/plain": [
       "[[[0, 1, 0],\n",
       "  [0, 1, 0],\n",
       "  [0, 1, 0],\n",
       "  [0, 1, 0],\n",
       "  [0, 1, 0],\n",
       "  [0, 1, 0],\n",
       "  [0, 1, 0],\n",
       "  [0, 1, 0]],\n",
       " [[0, 3, 0], [0, 1, 0], [0, 1, 0], [-1, 2, -1]],\n",
       " [[-1, 2, -1]],\n",
       " [[-1, 1, -1]]]"
      ]
     },
     "execution_count": 24,
     "metadata": {},
     "output_type": "execute_result"
    }
   ],
   "source": [
    "rc.setlist"
   ]
  },
  {
   "cell_type": "markdown",
   "metadata": {},
   "source": [
    "# 説明用"
   ]
  },
  {
   "cell_type": "markdown",
   "metadata": {},
   "source": [
    "## 8.2 章"
   ]
  },
  {
   "cell_type": "markdown",
   "metadata": {},
   "source": [
    "### 8.2.1"
   ]
  },
  {
   "cell_type": "markdown",
   "metadata": {},
   "source": [
    "#### EX1  \n",
    "p = 12121122211"
   ]
  },
  {
   "cell_type": "code",
   "execution_count": 88,
   "metadata": {},
   "outputs": [
    {
     "data": {
      "text/plain": [
       "[(array(['1', '1', '1', '2', '1', '2', '1', '1', '2', '2', '2'], dtype='<U1'),\n",
       "  9),\n",
       " (array(['1', '1', '2', '1', '2', '1', '1', '2', '2', '2', '1'], dtype='<U1'),\n",
       "  10)]"
      ]
     },
     "execution_count": 88,
     "metadata": {},
     "output_type": "execute_result"
    }
   ],
   "source": [
    "p = 12121122211\n",
    "search_highest_path(p)"
   ]
  },
  {
   "cell_type": "code",
   "execution_count": 89,
   "metadata": {},
   "outputs": [
    {
     "data": {
      "image/png": "[encoded data removed]",
      "text/plain": [
       "<Figure size 432x288 with 1 Axes>"
      ]
     },
     "metadata": {
      "needs_background": "light"
     },
     "output_type": "display_data"
    },
    {
     "data": {
      "image/png": "[encoded data removed]",
      "text/plain": [
       "<Figure size 432x288 with 1 Axes>"
      ]
     },
     "metadata": {
      "needs_background": "light"
     },
     "output_type": "display_data"
    }
   ],
   "source": [
    "plt.plot(calc_path(roll(p,9)))\n",
    "plt.title(\"d=9\")\n",
    "plt.show()\n",
    "plt.plot(calc_path(roll(p,10)))\n",
    "plt.title(\"d=10\")\n",
    "plt.show()"
   ]
  },
  {
   "cell_type": "code",
   "execution_count": null,
   "metadata": {},
   "outputs": [],
   "source": []
  }
 ],
 "metadata": {
  "kernelspec": {
   "display_name": "Python 3",
   "language": "python",
   "name": "python3"
  },
  "language_info": {
   "codemirror_mode": {
    "name": "ipython",
    "version": 3
   },
   "file_extension": ".py",
   "mimetype": "text/x-python",
   "name": "python",
   "nbconvert_exporter": "python",
   "pygments_lexer": "ipython3",
   "version": "3.7.5"
  }
 },
 "nbformat": 4,
 "nbformat_minor": 4
}
