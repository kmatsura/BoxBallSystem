{
 "cells": [
  {
   "cell_type": "code",
   "execution_count": 4,
   "metadata": {},
   "outputs": [],
   "source": [
    "import numpy as np\n",
    "import math\n",
    "import matplotlib.pyplot as plt\n",
    "import pandas as pd\n",
    "import re as rexprs\n",
    "import sympy\n",
    "from sympy import *\n",
    "from sympy import init_printing\n",
    "init_printing()"
   ]
  },
  {
   "cell_type": "code",
   "execution_count": 5,
   "metadata": {},
   "outputs": [],
   "source": [
    "def Pi(m, q, z):\n",
    "    return m, q**m*z**m\n",
    "\n",
    "def Qi(m, q, z, one = 2):\n",
    "    #if m == one: return m, 0\n",
    "    return m+1, z**m\n",
    "\n",
    "def Ri(m, q, z):\n",
    "    if m == 0: return 0, 0\n",
    "    return m-1, (1 - q**(2*m))*z**m\n",
    "\n",
    "def calc_amplitude(p1, p2, simple = True, applysymbol = False, symbol = \"z\", maxone = 2, takefirstfomula = True): #p1,p2 is int or str or np.array\n",
    "    if type(p1) == int:\n",
    "        p1 = np.array(list(str(p1)),dtype = int)\n",
    "    if type(p2) == int:\n",
    "        p2 = np.array(list(str(p2)),dtype = int)\n",
    "\n",
    "    if type(p1) == str:\n",
    "        p1 = np.array(list(p1),dtype = int)\n",
    "    if type(p2) == str:\n",
    "        p2 = np.array(list(p2),dtype = int)        \n",
    "\n",
    "        if len(p1) != len(p2):\n",
    "            print(\"the length between p1 and p2 is not same\")\n",
    "            return 0\n",
    "    \n",
    "    p1sum = sum(p1)\n",
    "    p2sym = sum(p2)\n",
    "    #m = sympy.Symbol(\"m\")\n",
    "    m = maxone - p1sum\n",
    "    q = sympy.Symbol(\"q\")\n",
    "    if applysymbol == True: z = sympy.Symbol(symbol)\n",
    "    else: z = 1\n",
    "    ans = 1\n",
    "    for i in range(len(p1)):\n",
    "        if p1[i] == 0:\n",
    "            if p2[i] == 0:\n",
    "                m, ans_temp = Pi(m,q,z)\n",
    "            elif p2[i] == 1:\n",
    "                m, ans_temp = Ri(m,q,z)\n",
    "            else:\n",
    "                print(\"error\")\n",
    "                break\n",
    "        elif p1[i] == 1:\n",
    "            if p2[i] == 0:\n",
    "                m, ans_temp = Qi(m,q,z)\n",
    "            elif p2[i] == 1:\n",
    "                m, ans_temp_temp = Pi(m,q,z)\n",
    "                ans_temp = ans_temp_temp * (-q)\n",
    "            else:\n",
    "                print(\"error\")\n",
    "                break\n",
    "        else:\n",
    "            print(\"error\")\n",
    "            break\n",
    "        \n",
    "        ans *= ans_temp\n",
    "    #answer = sympy.summation(ans, (m, 0, sympy.oo))\n",
    "    answer = ans\n",
    "    answer = sympy.simplify(answer)\n",
    "    if takefirstfomula == True:\n",
    "        answer = take_firstfomula(answer)\n",
    "    return answer\n",
    "\n",
    "def take_firstfomula(x):\n",
    "    xs = str(x)\n",
    "    result = rexprs.search(r'\\(\\(', xs) \n",
    "    if result == None: return x\n",
    "    start = result.span()[1]\n",
    "    result = rexprs.search(r', And', xs)\n",
    "    if result == None:\n",
    "        result = rexprs.search(r',', xs)\n",
    "    if result == None:\n",
    "        result = rexprs.search(r'&', xs)\n",
    "    if result == None: return x\n",
    "    end = result.span()[0]\n",
    "    struse = xs[start:end]\n",
    "    #from IPython.core.debugger import Pdb; Pdb().set_trace()\n",
    "    return sympy.sympify(struse)"
   ]
  },
  {
   "cell_type": "code",
   "execution_count": 6,
   "metadata": {},
   "outputs": [],
   "source": [
    "transitonlist = [\"1100\", \"0110\", \"0011\", \"1001\", \"1010\", \"0101\", \"1000\", \"0100\", \"0010\", \"0001\", \"0000\"]"
   ]
  },
  {
   "cell_type": "code",
   "execution_count": 7,
   "metadata": {},
   "outputs": [],
   "source": [
    "Ty = sympy.Matrix([[0 for i in range(len(transitonlist))] for j in range(len(transitonlist))])\n",
    "Tz = sympy.Matrix([[0 for i in range(len(transitonlist))] for j in range(len(transitonlist))])"
   ]
  },
  {
   "cell_type": "code",
   "execution_count": 8,
   "metadata": {},
   "outputs": [],
   "source": [
    "Tz[5,0] = 1"
   ]
  },
  {
   "cell_type": "code",
   "execution_count": 9,
   "metadata": {},
   "outputs": [
    {
     "data": {
      "text/latex": [
       "$\\displaystyle \\left[\\begin{array}{ccccccccccc}0 & 0 & 0 & 0 & 0 & 0 & 0 & 0 & 0 & 0 & 0\\\\0 & 0 & 0 & 0 & 0 & 0 & 0 & 0 & 0 & 0 & 0\\\\0 & 0 & 0 & 0 & 0 & 0 & 0 & 0 & 0 & 0 & 0\\\\0 & 0 & 0 & 0 & 0 & 0 & 0 & 0 & 0 & 0 & 0\\\\0 & 0 & 0 & 0 & 0 & 0 & 0 & 0 & 0 & 0 & 0\\\\1 & 0 & 0 & 0 & 0 & 0 & 0 & 0 & 0 & 0 & 0\\\\0 & 0 & 0 & 0 & 0 & 0 & 0 & 0 & 0 & 0 & 0\\\\0 & 0 & 0 & 0 & 0 & 0 & 0 & 0 & 0 & 0 & 0\\\\0 & 0 & 0 & 0 & 0 & 0 & 0 & 0 & 0 & 0 & 0\\\\0 & 0 & 0 & 0 & 0 & 0 & 0 & 0 & 0 & 0 & 0\\\\0 & 0 & 0 & 0 & 0 & 0 & 0 & 0 & 0 & 0 & 0\\end{array}\\right]$"
      ],
      "text/plain": [
       "⎡0  0  0  0  0  0  0  0  0  0  0⎤\n",
       "⎢                               ⎥\n",
       "⎢0  0  0  0  0  0  0  0  0  0  0⎥\n",
       "⎢                               ⎥\n",
       "⎢0  0  0  0  0  0  0  0  0  0  0⎥\n",
       "⎢                               ⎥\n",
       "⎢0  0  0  0  0  0  0  0  0  0  0⎥\n",
       "⎢                               ⎥\n",
       "⎢0  0  0  0  0  0  0  0  0  0  0⎥\n",
       "⎢                               ⎥\n",
       "⎢1  0  0  0  0  0  0  0  0  0  0⎥\n",
       "⎢                               ⎥\n",
       "⎢0  0  0  0  0  0  0  0  0  0  0⎥\n",
       "⎢                               ⎥\n",
       "⎢0  0  0  0  0  0  0  0  0  0  0⎥\n",
       "⎢                               ⎥\n",
       "⎢0  0  0  0  0  0  0  0  0  0  0⎥\n",
       "⎢                               ⎥\n",
       "⎢0  0  0  0  0  0  0  0  0  0  0⎥\n",
       "⎢                               ⎥\n",
       "⎣0  0  0  0  0  0  0  0  0  0  0⎦"
      ]
     },
     "execution_count": 9,
     "metadata": {},
     "output_type": "execute_result"
    }
   ],
   "source": [
    "Tz"
   ]
  },
  {
   "cell_type": "code",
   "execution_count": 10,
   "metadata": {},
   "outputs": [],
   "source": [
    "for i in range(len(transitonlist)):\n",
    "    for j in range(len(transitonlist)):\n",
    "        #Tz[i, j] = calc_amplitude(transitonlist[i],transitonlist[j],symbol=True, symbol=\"z\")\n",
    "        Tz[i, j] = calc_amplitude(transitonlist[i],transitonlist[j])"
   ]
  },
  {
   "cell_type": "code",
   "execution_count": 11,
   "metadata": {},
   "outputs": [
    {
     "data": {
      "text/latex": [
       "$\\displaystyle \\left[\\begin{array}{ccccccccccc}q^{2} & q^{4} - q^{2} & \\left(q^{2} - 1\\right) \\left(q^{4} - 1\\right) & q^{4} - q^{2} & q^{3} - q & q^{5} - q^{3} & - q^{3} & - q^{4} & - q^{5} + q & - q^{6} + q^{2} & q^{4}\\\\0 & q^{2} & q^{4} - q^{2} & 0 & 0 & q^{3} - q & 0 & - q^{2} & - q^{3} & 1 - q^{4} & q^{2}\\\\0 & 0 & q^{2} & 0 & 0 & 0 & 0 & 0 & - q & - q^{2} & 1\\\\0 & 0 & q^{4} - q^{2} & q^{2} & 0 & q^{3} - q & - q & 1 - q^{2} & - q^{3} + q & - q^{4} & q^{2}\\\\0 & q^{3} - q & q^{5} - q^{3} & q^{3} - q & q^{2} & \\left(q^{2} - 1\\right)^{2} & - q^{2} & - q^{3} + q & - q^{4} & - q^{5} + q & q^{3}\\\\0 & 0 & q^{3} - q & 0 & 0 & q^{2} & 0 & - q & 1 - q^{2} & - q^{3} & q\\\\q^{4} - q^{2} & \\left(q^{2} - 1\\right) \\left(q^{4} - 1\\right) & q^{2} \\left(q^{2} - 1\\right) \\left(q^{4} - 1\\right) & q^{6} - q^{4} & q^{5} - q^{3} & q \\left(q^{2} - 1\\right) \\left(q^{4} - 1\\right) & - q^{5} & - q^{6} + q^{2} & - q^{7} + q^{3} & - q^{8} + q^{4} & q^{6}\\\\q^{3} - q & q^{5} - q^{3} & q \\left(q^{2} - 1\\right) \\left(q^{4} - 1\\right) & q \\left(q^{2} - 1\\right)^{2} & \\left(q^{2} - 1\\right)^{2} & q^{6} - q^{4} & - q^{4} + q^{2} & - q^{5} & - q^{6} + q^{2} & - q^{7} + q^{3} & q^{5}\\\\0 & q^{4} - q^{2} & q^{6} - q^{4} & \\left(q^{2} - 1\\right)^{2} & q^{3} - q & q \\left(q^{2} - 1\\right)^{2} & - q^{3} + q & - q^{4} + q^{2} & - q^{5} & - q^{6} + q^{2} & q^{4}\\\\0 & 0 & q^{5} - q^{3} & q^{3} - q & 0 & q^{4} - q^{2} & 1 - q^{2} & - q^{3} + q & - q^{4} + q^{2} & - q^{5} & q^{3}\\\\\\left(q^{2} - 1\\right) \\left(q^{4} - 1\\right) & q^{2} \\left(q^{2} - 1\\right) \\left(q^{4} - 1\\right) & q^{4} \\left(q^{2} - 1\\right) \\left(q^{4} - 1\\right) & q^{2} \\left(q^{2} - 1\\right) \\left(q^{4} - 1\\right) & q \\left(q^{2} - 1\\right) \\left(q^{4} - 1\\right) & q^{3} \\left(q^{2} - 1\\right) \\left(q^{4} - 1\\right) & - q^{7} + q^{3} & - q^{8} + q^{4} & - q^{9} + q^{5} & - q^{10} + q^{6} & q^{8}\\end{array}\\right]$"
      ],
      "text/plain": [
       "⎡        2                 4    2          ⎛ 2    ⎞ ⎛ 4    ⎞           4    2 \n",
       "⎢       q                 q  - q           ⎝q  - 1⎠⋅⎝q  - 1⎠          q  - q  \n",
       "⎢                                                                             \n",
       "⎢                             2                  4    2                       \n",
       "⎢        0                   q                  q  - q                   0    \n",
       "⎢                                                                             \n",
       "⎢                                                   2                         \n",
       "⎢        0                   0                     q                     0    \n",
       "⎢                                                                             \n",
       "⎢                                                4    2                   2   \n",
       "⎢        0                   0                  q  - q                   q    \n",
       "⎢                                                                             \n",
       "⎢                                                                             \n",
       "⎢                           3                    5    3                 3     \n",
       "⎢        0                 q  - q               q  - q                 q  - q \n",
       "⎢                                                                             \n",
       "⎢                                                 3                           \n",
       "⎢        0                   0                   q  - q                  0    \n",
       "⎢                                                                             \n",
       "⎢      4    2        ⎛ 2    ⎞ ⎛ 4    ⎞     2 ⎛ 2    ⎞ ⎛ 4    ⎞         6    4 \n",
       "⎢     q  - q         ⎝q  - 1⎠⋅⎝q  - 1⎠    q ⋅⎝q  - 1⎠⋅⎝q  - 1⎠        q  - q  \n",
       "⎢                                                                             \n",
       "⎢                                                                             \n",
       "⎢      3                   5    3           ⎛ 2    ⎞ ⎛ 4    ⎞         ⎛ 2    ⎞\n",
       "⎢     q  - q              q  - q          q⋅⎝q  - 1⎠⋅⎝q  - 1⎠       q⋅⎝q  - 1⎠\n",
       "⎢                                                                             \n",
       "⎢                                                                            2\n",
       "⎢                          4    2                6    4              ⎛ 2    ⎞ \n",
       "⎢        0                q  - q                q  - q               ⎝q  - 1⎠ \n",
       "⎢                                                                             \n",
       "⎢                                                5    3                 3     \n",
       "⎢        0                   0                  q  - q                 q  - q \n",
       "⎢                                                                             \n",
       "⎢⎛ 2    ⎞ ⎛ 4    ⎞   2 ⎛ 2    ⎞ ⎛ 4    ⎞   4 ⎛ 2    ⎞ ⎛ 4    ⎞   2 ⎛ 2    ⎞ ⎛ \n",
       "⎣⎝q  - 1⎠⋅⎝q  - 1⎠  q ⋅⎝q  - 1⎠⋅⎝q  - 1⎠  q ⋅⎝q  - 1⎠⋅⎝q  - 1⎠  q ⋅⎝q  - 1⎠⋅⎝q\n",
       "\n",
       "               3                    5    3              3          4        5 \n",
       "              q  - q               q  - q             -q         -q      - q  \n",
       "                                                                              \n",
       "                                     3                             2          \n",
       "                 0                  q  - q             0         -q         -q\n",
       "                                                                              \n",
       "                                                                              \n",
       "                 0                    0                0          0         -q\n",
       "                                                                              \n",
       "                                     3                              2       3 \n",
       "                 0                  q  - q            -q       1 - q     - q  \n",
       "                                                                              \n",
       "                                          2                                   \n",
       "                 2                ⎛ 2    ⎞              2        3            \n",
       "                q                 ⎝q  - 1⎠            -q      - q  + q      -q\n",
       "                                                                              \n",
       "                                       2                                      \n",
       "                 0                    q                0         -q       1 - \n",
       "                                                                              \n",
       "               5    3          ⎛ 2    ⎞ ⎛ 4    ⎞        5        6    2     7 \n",
       "              q  - q         q⋅⎝q  - 1⎠⋅⎝q  - 1⎠      -q      - q  + q   - q  \n",
       "                                                                              \n",
       "2                    2                                                        \n",
       "             ⎛ 2    ⎞               6    4            4    2       5        6 \n",
       "             ⎝q  - 1⎠              q  - q          - q  + q      -q      - q  \n",
       "                                                                              \n",
       "                                           2                                  \n",
       "               3                   ⎛ 2    ⎞           3          4    2       \n",
       "              q  - q             q⋅⎝q  - 1⎠        - q  + q   - q  + q      -q\n",
       "                                                                              \n",
       "                                    4    2               2       3          4 \n",
       "                 0                 q  - q           1 - q     - q  + q   - q  \n",
       "                                                                              \n",
       "4    ⎞    ⎛ 2    ⎞ ⎛ 4    ⎞   3 ⎛ 2    ⎞ ⎛ 4    ⎞     7    3     8    4     9 \n",
       "  - 1⎠  q⋅⎝q  - 1⎠⋅⎝q  - 1⎠  q ⋅⎝q  - 1⎠⋅⎝q  - 1⎠  - q  + q   - q  + q   - q  \n",
       "\n",
       "         6    2    4⎤\n",
       "+ q   - q  + q    q ⎥\n",
       "                    ⎥\n",
       "3            4     2⎥\n",
       "        1 - q     q ⎥\n",
       "                    ⎥\n",
       "           2        ⎥\n",
       "         -q       1 ⎥\n",
       "                    ⎥\n",
       "           4       2⎥\n",
       "+ q      -q       q ⎥\n",
       "                    ⎥\n",
       "                    ⎥\n",
       "4         5        3⎥\n",
       "       - q  + q   q ⎥\n",
       "                    ⎥\n",
       " 2         3        ⎥\n",
       "q        -q       q ⎥\n",
       "                    ⎥\n",
       "   3     8    4    6⎥\n",
       "+ q   - q  + q    q ⎥\n",
       "                    ⎥\n",
       "                    ⎥\n",
       "   2     7    3    5⎥\n",
       "+ q   - q  + q    q ⎥\n",
       "                    ⎥\n",
       "                    ⎥\n",
       "5        6    2    4⎥\n",
       "      - q  + q    q ⎥\n",
       "                    ⎥\n",
       "   2       5       3⎥\n",
       "+ q      -q       q ⎥\n",
       "                    ⎥\n",
       "   5     10    6   8⎥\n",
       "+ q   - q   + q   q ⎦"
      ]
     },
     "execution_count": 11,
     "metadata": {},
     "output_type": "execute_result"
    }
   ],
   "source": [
    "Tz"
   ]
  },
  {
   "cell_type": "code",
   "execution_count": 12,
   "metadata": {},
   "outputs": [],
   "source": [
    "init = sympy.Matrix([[0 for i in range(len(transitonlist))]])\n",
    "init[0,0] = 1"
   ]
  },
  {
   "cell_type": "code",
   "execution_count": 14,
   "metadata": {},
   "outputs": [
    {
     "data": {
      "text/latex": [
       "$\\displaystyle \\left[\\begin{array}{ccccccccccc}1 & 0 & 0 & 0 & 0 & 0 & 0 & 0 & 0 & 0 & 0\\end{array}\\right]$"
      ],
      "text/plain": [
       "[1  0  0  0  0  0  0  0  0  0  0]"
      ]
     },
     "execution_count": 14,
     "metadata": {},
     "output_type": "execute_result"
    }
   ],
   "source": [
    "init"
   ]
  },
  {
   "cell_type": "code",
   "execution_count": 15,
   "metadata": {},
   "outputs": [
    {
     "data": {
      "text/latex": [
       "$\\displaystyle \\left[\\begin{matrix}0 & 0 & 0 & 0 & 0 & 0\\end{matrix}\\right]$"
      ],
      "text/plain": [
       "[0  0  0  0  0  0]"
      ]
     },
     "execution_count": 15,
     "metadata": {},
     "output_type": "execute_result"
    }
   ],
   "source": [
    "anslist = sympy.Matrix([[0 for i in range(6)]])\n",
    "anslist"
   ]
  },
  {
   "cell_type": "code",
   "execution_count": 18,
   "metadata": {},
   "outputs": [],
   "source": [
    "def carrier(anslist, tmp, T):\n",
    "    tmp = tmp * T\n",
    "    for j in range(len(anslist)):\n",
    "        anslist[0,j] += tmp[0,j]\n",
    "        tmp[0,j] = 0\n",
    "    return anslist, tmp\n",
    "    "
   ]
  },
  {
   "cell_type": "code",
   "execution_count": 43,
   "metadata": {},
   "outputs": [],
   "source": [
    "import sys\n",
    "step = 7\n",
    "def tevolve(step,init, q, n):\n",
    "    anslist = sympy.Matrix([[0 for i in range(n)]])\n",
    "    ansnum = [0 for i in range(n)]\n",
    "    tmp = init\n",
    "    for i in range(step):\n",
    "        tmp = tmp * Tz #tmpの更新\n",
    "        for j in range(len(anslist)):\n",
    "            anslist[0,j] += tmp[0,j]\n",
    "            tmp[0,j] = 0\n",
    "\n",
    "    for i in range(len(anslist)):\n",
    "        ansnum[i] = anslist[0,i].subs(\"q\",q)\n",
    "\n",
    "    return ansnum, sum(ansnum), sum(i**2 for i in ansnum)"
   ]
  },
  {
   "cell_type": "code",
   "execution_count": 45,
   "metadata": {},
   "outputs": [
    {
     "name": "stdout",
     "output_type": "stream",
     "text": [
      "0 / 12i = 0, tmp = Matrix([[1, 0, 0, 0, 0, 0, 0, 0, 0, 0, 0]])\n",
      "1 / 12i = 1, tmp = Matrix([[0, 0, 0, 0, 0, 0, -0.0640000000000000, -0.0256000000000000, 0.389760000000000, 0.155904000000000, 0.0256000000000000]])\n",
      "2 / 12i = 2, tmp = Matrix([[0, 0, 0, 0, 0, 0, 0.260729896960000, 0.0956903587840000, 0.00923550351360001, 0.0560779454054400, 0.0194482012160000]])\n",
      "3 / 12i = 3, tmp = Matrix([[0, 0, 0, 0, 0, 0, 0.0616123343417901, 0.0602375342881401, 0.0388143988958256, 0.0134144516145581, 0.00588598190094156]])\n",
      "4 / 12i = 4, tmp = Matrix([[0, 0, 0, 0, 0, 0, 0.0321418509388061, 0.0188595116757679, 0.0146976886270767, 0.0112308543708311, 0.00272522742473798]])\n",
      "5 / 12i = 5, tmp = Matrix([[0, 0, 0, 0, 0, 0, 0.0167478764083763, 0.0106348379663103, 0.00633080498251408, 0.00416517749360472, 0.00142159593463664]])\n",
      "6 / 12i = 6, tmp = Matrix([[0, 0, 0, 0, 0, 0, 0.00697237653404047, 0.00478798120911253, 0.00321159503937376, 0.00203099545336106, 0.000607071666798513]])\n",
      "7 / 12i = 7, tmp = Matrix([[0, 0, 0, 0, 0, 0, 0.00339509761330524, 0.00216718849338537, 0.00142741030829223, 0.000954835620601587, 0.000290186174375371]])\n",
      "8 / 12i = 8, tmp = Matrix([[0, 0, 0, 0, 0, 0, 0.00155627259297420, 0.00102702459174185, 0.000666205735907698, 0.000433758463971335, 0.000133939690018386]])\n",
      "9 / 12i = 9, tmp = Matrix([[0, 0, 0, 0, 0, 0, 0.000718650804152008, 0.000470734362665196, 0.000309980512646683, 0.000202824581109739, 6.17944116089119e-5]])\n",
      "10 / 12i = 10, tmp = Matrix([[0, 0, 0, 0, 0, 0, 0.000334287412868143, 0.000218572094601006, 0.000142907583057446, 9.37791420554243e-5, 2.87206854678687e-5]])\n",
      "11 / 12i = 11, tmp = Matrix([[0, 0, 0, 0, 0, 0, 0.000154535481539337, 0.000101311564620173, 6.63500756685537e-5, 4.34033784650657e-5, 1.32865410980682e-5]])\n",
      "12 / 12i = 12, tmp = Matrix([[0, 0, 0, 0, 0, 0, 7.16148642506190e-5, 4.68876826108504e-5, 3.07185185407804e-5, 2.01256033015166e-5, 6.15549338054891e-6]])\n"
     ]
    }
   ],
   "source": [
    "import sys\n",
    "step = 13\n",
    "anslist4 = sympy.Matrix([[0 for i in range(6)]])\n",
    "ansnum4 = sympy.Matrix([[0 for i in range(6)]])\n",
    "\n",
    "tmp = init\n",
    "for i in range(step):\n",
    "    print(\"i = {0}, tmp = {1}\".format(i,tmp))\n",
    "    tmp = tmp * Tz #tmpの更新\n",
    "    for j in range(len(anslist4)):\n",
    "        ansnum4[0,j] += tmp[0,j].subs(\"q\",0.4)\n",
    "        tmp[0,j] = 0\n",
    "    for j in range(len(tmp)):\n",
    "        tmp[0,j] = tmp[0,j].subs(\"q\",0.4)\n",
    "\n",
    "for i in range(len(anslist4)):\n",
    "    ansnum4[0,i] = ansnum4[0,i].subs(\"q\",0.4)\n"
   ]
  },
  {
   "cell_type": "code",
   "execution_count": 46,
   "metadata": {},
   "outputs": [
    {
     "data": {
      "text/latex": [
       "$\\displaystyle \\left( \\left[\\begin{matrix}0.106287484944964 & 0.0637164095372478 & 0.893710119432909 & 0.159381226175965 & -0.371962811577413 & 0.148753104137671\\end{matrix}\\right], \\  0.999885532651343, \\  0.99996078232155\\right)$"
      ],
      "text/plain": [
       "([0.106287484944964  0.0637164095372478  0.893710119432909  0.159381226175965 \n",
       " -0.371962811577413  0.148753104137671], 0.999885532651343, 0.99996078232155)"
      ]
     },
     "execution_count": 46,
     "metadata": {},
     "output_type": "execute_result"
    }
   ],
   "source": [
    "ansnum4,sum(ansnum4), sum(i**2 for i in ansnum4)#step=13,q=0.4"
   ]
  },
  {
   "cell_type": "code",
   "execution_count": 41,
   "metadata": {},
   "outputs": [
    {
     "data": {
      "text/latex": [
       "$\\displaystyle \\left( \\left[\\begin{matrix}0.106446621956958 & 0.0633033565401186 & 0.89352925266725 & 0.159166981265953 & -0.372126612704193 & 0.1485283931551\\end{matrix}\\right], \\  0.998847992881185, \\  0.999605751028635\\right)$"
      ],
      "text/plain": [
       "([0.106446621956958  0.0633033565401186  0.89352925266725  0.159166981265953  \n",
       "-0.372126612704193  0.1485283931551], 0.998847992881185, 0.999605751028635)"
      ]
     },
     "execution_count": 41,
     "metadata": {},
     "output_type": "execute_result"
    }
   ],
   "source": [
    "ansnum3,sum(ansnum3), sum(i**2 for i in ansnum3)#step=10,q=0.4"
   ]
  },
  {
   "cell_type": "code",
   "execution_count": 38,
   "metadata": {},
   "outputs": [
    {
     "data": {
      "text/latex": [
       "$\\displaystyle \\left( \\left[\\begin{matrix}0.108042371320991 & 0.0591189021668417 & 0.891713872292534 & 0.157029617762899 & -0.373759260371625 & 0.146260889631356\\end{matrix}\\right], \\  0.988406392802996, \\  0.996068362037083\\right)$"
      ],
      "text/plain": [
       "([0.108042371320991  0.0591189021668417  0.891713872292534  0.157029617762899 \n",
       " -0.373759260371625  0.146260889631356], 0.988406392802996, 0.996068362037083)"
      ]
     },
     "execution_count": 38,
     "metadata": {},
     "output_type": "execute_result"
    }
   ],
   "source": [
    "ansnum2,sum(ansnum2), sum(i**2 for i in ansnum2)#step=7,q=0.4"
   ]
  },
  {
   "cell_type": "code",
   "execution_count": 28,
   "metadata": {},
   "outputs": [
    {
     "data": {
      "text/latex": [
       "$\\displaystyle \\left( \\left[\\begin{matrix}0.108042371320991 & 0.0591189021668417 & 0.891713872292534 & 0.157029617762899 & -0.373759260371625 & 0.146260889631356\\end{matrix}\\right], \\  0.988406392802996, \\  0.996068362037083\\right)$"
      ],
      "text/plain": [
       "([0.108042371320991  0.0591189021668417  0.891713872292534  0.157029617762899 \n",
       " -0.373759260371625  0.146260889631356], 0.988406392802996, 0.996068362037083)"
      ]
     },
     "execution_count": 28,
     "metadata": {},
     "output_type": "execute_result"
    }
   ],
   "source": [
    "ansnum,sum(ansnum), sum(i**2 for i in ansnum)#step=7,q=0.4"
   ]
  },
  {
   "cell_type": "code",
   "execution_count": null,
   "metadata": {},
   "outputs": [],
   "source": [
    "init = sympy.Matrix([[0 for i in range(len(transitonlist))]])\n",
    "init[0,0] = 1"
   ]
  },
  {
   "cell_type": "code",
   "execution_count": 32,
   "metadata": {},
   "outputs": [
    {
     "name": "stdout",
     "output_type": "stream",
     "text": [
      "([0.114751984242289, 0.0415499263255611, 0.884053875172616, 0.148269885242101, -0.380824336903106, 0.136859818531562], 0.944661152611023, 0.982187412848810)\n"
     ]
    }
   ],
   "source": [
    "print(tevolve(5,init,0.4, 6))"
   ]
  },
  {
   "cell_type": "code",
   "execution_count": 33,
   "metadata": {},
   "outputs": [
    {
     "name": "stdout",
     "output_type": "stream",
     "text": [
      "([0.944304976951500, -0.0820272421070287, 0.0590124591411861, -0.112481708092863, -0.108469355942611, -0.0871978768663881], 0.613141253083795, 0.933944033841047)\n"
     ]
    }
   ],
   "source": [
    "print(tevolve(5,init,0.9, 6))"
   ]
  },
  {
   "cell_type": "code",
   "execution_count": null,
   "metadata": {},
   "outputs": [],
   "source": [
    "print(tevolve(5,init,0.4, 6))"
   ]
  },
  {
   "cell_type": "code",
   "execution_count": null,
   "metadata": {},
   "outputs": [],
   "source": [
    "def tevolve(step,q)\n",
    "    step = 7\n",
    "    anslist = sympy.Matrix([[0 for i in range(6)]])\n",
    "    ansnum = sympy.Matrix([[0 for i in range(6)]])\n",
    "    \n",
    "    tmp = init\n",
    "    for i in range(step):\n",
    "        tmp = tmp * Tz #tmpの更新\n",
    "        for j in range(len(anslist)):\n",
    "            anslist[0,j] += tmp[0,j]\n",
    "            tmp[0,j] = 0\n",
    "    \n",
    "    for i in range(len(anslist)):\n",
    "        ansnum[0,i] = anslist[0,i].subs(\"q\",0.1)\n"
   ]
  }
 ],
 "metadata": {
  "kernelspec": {
   "display_name": "Python 3",
   "language": "python",
   "name": "python3"
  },
  "language_info": {
   "codemirror_mode": {
    "name": "ipython",
    "version": 3
   },
   "file_extension": ".py",
   "mimetype": "text/x-python",
   "name": "python",
   "nbconvert_exporter": "python",
   "pygments_lexer": "ipython3",
   "version": "3.7.5"
  }
 },
 "nbformat": 4,
 "nbformat_minor": 4
}
