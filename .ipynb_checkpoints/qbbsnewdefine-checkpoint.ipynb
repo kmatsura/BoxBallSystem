{
 "cells": [
  {
   "cell_type": "code",
   "execution_count": 1,
   "metadata": {},
   "outputs": [],
   "source": [
    "import numpy as np\n",
    "import math\n",
    "import matplotlib.pyplot as plt\n",
    "import pandas as pd\n",
    "import re as rexprs\n",
    "import sympy\n",
    "from sympy import *\n",
    "from sympy import init_printing\n",
    "init_printing()"
   ]
  },
  {
   "cell_type": "code",
   "execution_count": 2,
   "metadata": {},
   "outputs": [],
   "source": [
    "def Pi(m, q, z):\n",
    "    return m, q**m*z**m\n",
    "\n",
    "def Qi(m, q, z, one = 2):\n",
    "    #if m == one: return m, 0\n",
    "    return m+1, z**m\n",
    "\n",
    "def Ri(m, q, z):\n",
    "    if m == 0: return 0, 0\n",
    "    return m-1, (1 - q**(2*m))*z**m\n",
    "\n",
    "def calc_amplitude(p1, p2, simple = True, applysymbol = False, symbol = \"z\", maxone = 2, takefirstfomula = True): #p1,p2 is int or str or np.array\n",
    "    if type(p1) == int:\n",
    "        p1 = np.array(list(str(p1)),dtype = int)\n",
    "    if type(p2) == int:\n",
    "        p2 = np.array(list(str(p2)),dtype = int)\n",
    "\n",
    "    if type(p1) == str:\n",
    "        p1 = np.array(list(p1),dtype = int)\n",
    "    if type(p2) == str:\n",
    "        p2 = np.array(list(p2),dtype = int)        \n",
    "\n",
    "        if len(p1) != len(p2):\n",
    "            print(\"the length between p1 and p2 is not same\")\n",
    "            return 0\n",
    "    \n",
    "    p1sum = sum(p1)\n",
    "    p2sym = sum(p2)\n",
    "    #m = sympy.Symbol(\"m\")\n",
    "    m = maxone - p1sum\n",
    "    q = sympy.Symbol(\"q\")\n",
    "    if applysymbol == True: z = sympy.Symbol(symbol)\n",
    "    else: z = 1\n",
    "    ans = 1\n",
    "    for i in range(len(p1)):\n",
    "        if p1[i] == 0:\n",
    "            if p2[i] == 0:\n",
    "                m, ans_temp = Pi(m,q,z)\n",
    "            elif p2[i] == 1:\n",
    "                m, ans_temp = Ri(m,q,z)\n",
    "            else:\n",
    "                print(\"error\")\n",
    "                break\n",
    "        elif p1[i] == 1:\n",
    "            if p2[i] == 0:\n",
    "                m, ans_temp = Qi(m,q,z)\n",
    "            elif p2[i] == 1:\n",
    "                m, ans_temp_temp = Pi(m,q,z)\n",
    "                ans_temp = ans_temp_temp * (-q)\n",
    "            else:\n",
    "                print(\"error\")\n",
    "                break\n",
    "        else:\n",
    "            print(\"error\")\n",
    "            break\n",
    "        \n",
    "        ans *= ans_temp\n",
    "    #answer = sympy.summation(ans, (m, 0, sympy.oo))\n",
    "    answer = ans\n",
    "    answer = sympy.simplify(answer)\n",
    "    if takefirstfomula == True:\n",
    "        answer = take_firstfomula(answer)\n",
    "    return answer\n",
    "\n",
    "def take_firstfomula(x):\n",
    "    xs = str(x)\n",
    "    result = rexprs.search(r'\\(\\(', xs) \n",
    "    if result == None: return x\n",
    "    start = result.span()[1]\n",
    "    result = rexprs.search(r', And', xs)\n",
    "    if result == None:\n",
    "        result = rexprs.search(r',', xs)\n",
    "    if result == None:\n",
    "        result = rexprs.search(r'&', xs)\n",
    "    if result == None: return x\n",
    "    end = result.span()[0]\n",
    "    struse = xs[start:end]\n",
    "    #from IPython.core.debugger import Pdb; Pdb().set_trace()\n",
    "    return sympy.sympify(struse)"
   ]
  },
  {
   "cell_type": "code",
   "execution_count": 3,
   "metadata": {},
   "outputs": [
    {
     "data": {
      "image/png": "[encoded data removed]",
      "text/latex": [
       "$\\displaystyle 0$"
      ],
      "text/plain": [
       "0"
      ]
     },
     "execution_count": 3,
     "metadata": {},
     "output_type": "execute_result"
    }
   ],
   "source": [
    "calc_amplitude(\"0011\",\"1100\")"
   ]
  },
  {
   "cell_type": "code",
   "execution_count": 55,
   "metadata": {},
   "outputs": [],
   "source": [
    "transitonlist = [\"1100\", \"0110\", \"0011\", \"1001\", \"1010\", \"0101\", \"1000\", \"0100\", \"0010\", \"0001\", \"0000\"]"
   ]
  },
  {
   "cell_type": "code",
   "execution_count": 56,
   "metadata": {},
   "outputs": [],
   "source": [
    "Ty = sympy.Matrix([[0 for i in range(len(transitonlist))] for j in range(len(transitonlist))])\n",
    "Tz = sympy.Matrix([[0 for i in range(len(transitonlist))] for j in range(len(transitonlist))])"
   ]
  },
  {
   "cell_type": "code",
   "execution_count": 57,
   "metadata": {},
   "outputs": [],
   "source": [
    "Tz[5,0] = 1"
   ]
  },
  {
   "cell_type": "code",
   "execution_count": 58,
   "metadata": {},
   "outputs": [
    {
     "data": {
      "text/latex": [
       "$\\displaystyle \\left[\\begin{array}{ccccccccccc}0 & 0 & 0 & 0 & 0 & 0 & 0 & 0 & 0 & 0 & 0\\\\0 & 0 & 0 & 0 & 0 & 0 & 0 & 0 & 0 & 0 & 0\\\\0 & 0 & 0 & 0 & 0 & 0 & 0 & 0 & 0 & 0 & 0\\\\0 & 0 & 0 & 0 & 0 & 0 & 0 & 0 & 0 & 0 & 0\\\\0 & 0 & 0 & 0 & 0 & 0 & 0 & 0 & 0 & 0 & 0\\\\1 & 0 & 0 & 0 & 0 & 0 & 0 & 0 & 0 & 0 & 0\\\\0 & 0 & 0 & 0 & 0 & 0 & 0 & 0 & 0 & 0 & 0\\\\0 & 0 & 0 & 0 & 0 & 0 & 0 & 0 & 0 & 0 & 0\\\\0 & 0 & 0 & 0 & 0 & 0 & 0 & 0 & 0 & 0 & 0\\\\0 & 0 & 0 & 0 & 0 & 0 & 0 & 0 & 0 & 0 & 0\\\\0 & 0 & 0 & 0 & 0 & 0 & 0 & 0 & 0 & 0 & 0\\end{array}\\right]$"
      ],
      "text/plain": [
       "⎡0  0  0  0  0  0  0  0  0  0  0⎤\n",
       "⎢                               ⎥\n",
       "⎢0  0  0  0  0  0  0  0  0  0  0⎥\n",
       "⎢                               ⎥\n",
       "⎢0  0  0  0  0  0  0  0  0  0  0⎥\n",
       "⎢                               ⎥\n",
       "⎢0  0  0  0  0  0  0  0  0  0  0⎥\n",
       "⎢                               ⎥\n",
       "⎢0  0  0  0  0  0  0  0  0  0  0⎥\n",
       "⎢                               ⎥\n",
       "⎢1  0  0  0  0  0  0  0  0  0  0⎥\n",
       "⎢                               ⎥\n",
       "⎢0  0  0  0  0  0  0  0  0  0  0⎥\n",
       "⎢                               ⎥\n",
       "⎢0  0  0  0  0  0  0  0  0  0  0⎥\n",
       "⎢                               ⎥\n",
       "⎢0  0  0  0  0  0  0  0  0  0  0⎥\n",
       "⎢                               ⎥\n",
       "⎢0  0  0  0  0  0  0  0  0  0  0⎥\n",
       "⎢                               ⎥\n",
       "⎣0  0  0  0  0  0  0  0  0  0  0⎦"
      ]
     },
     "execution_count": 58,
     "metadata": {},
     "output_type": "execute_result"
    }
   ],
   "source": [
    "Tz"
   ]
  },
  {
   "cell_type": "code",
   "execution_count": 59,
   "metadata": {},
   "outputs": [],
   "source": [
    "for i in range(len(transitonlist)):\n",
    "    for j in range(len(transitonlist)):\n",
    "        #Tz[i, j] = calc_amplitude(transitonlist[i],transitonlist[j],symbol=True, symbol=\"z\")\n",
    "        Tz[i, j] = calc_amplitude(transitonlist[i],transitonlist[j])"
   ]
  },
  {
   "cell_type": "code",
   "execution_count": 60,
   "metadata": {},
   "outputs": [
    {
     "data": {
      "text/latex": [
       "$\\displaystyle \\left[\\begin{array}{ccccccccccc}q^{2} & q^{4} - q^{2} & \\left(q^{2} - 1\\right) \\left(q^{4} - 1\\right) & q^{4} - q^{2} & q^{3} - q & q^{5} - q^{3} & - q^{3} & - q^{4} & - q^{5} + q & - q^{6} + q^{2} & q^{4}\\\\0 & q^{2} & q^{4} - q^{2} & 0 & 0 & q^{3} - q & 0 & - q^{2} & - q^{3} & 1 - q^{4} & q^{2}\\\\0 & 0 & q^{2} & 0 & 0 & 0 & 0 & 0 & - q & - q^{2} & 1\\\\0 & 0 & q^{4} - q^{2} & q^{2} & 0 & q^{3} - q & - q & 1 - q^{2} & - q^{3} + q & - q^{4} & q^{2}\\\\0 & q^{3} - q & q^{5} - q^{3} & q^{3} - q & q^{2} & \\left(q^{2} - 1\\right)^{2} & - q^{2} & - q^{3} + q & - q^{4} & - q^{5} + q & q^{3}\\\\0 & 0 & q^{3} - q & 0 & 0 & q^{2} & 0 & - q & 1 - q^{2} & - q^{3} & q\\\\q^{4} - q^{2} & \\left(q^{2} - 1\\right) \\left(q^{4} - 1\\right) & q^{2} \\left(q^{2} - 1\\right) \\left(q^{4} - 1\\right) & q^{6} - q^{4} & q^{5} - q^{3} & q \\left(q^{2} - 1\\right) \\left(q^{4} - 1\\right) & - q^{5} & - q^{6} + q^{2} & - q^{7} + q^{3} & - q^{8} + q^{4} & q^{6}\\\\q^{3} - q & q^{5} - q^{3} & q \\left(q^{2} - 1\\right) \\left(q^{4} - 1\\right) & q \\left(q^{2} - 1\\right)^{2} & \\left(q^{2} - 1\\right)^{2} & q^{6} - q^{4} & - q^{4} + q^{2} & - q^{5} & - q^{6} + q^{2} & - q^{7} + q^{3} & q^{5}\\\\0 & q^{4} - q^{2} & q^{6} - q^{4} & \\left(q^{2} - 1\\right)^{2} & q^{3} - q & q \\left(q^{2} - 1\\right)^{2} & - q^{3} + q & - q^{4} + q^{2} & - q^{5} & - q^{6} + q^{2} & q^{4}\\\\0 & 0 & q^{5} - q^{3} & q^{3} - q & 0 & q^{4} - q^{2} & 1 - q^{2} & - q^{3} + q & - q^{4} + q^{2} & - q^{5} & q^{3}\\\\\\left(q^{2} - 1\\right) \\left(q^{4} - 1\\right) & q^{2} \\left(q^{2} - 1\\right) \\left(q^{4} - 1\\right) & q^{4} \\left(q^{2} - 1\\right) \\left(q^{4} - 1\\right) & q^{2} \\left(q^{2} - 1\\right) \\left(q^{4} - 1\\right) & q \\left(q^{2} - 1\\right) \\left(q^{4} - 1\\right) & q^{3} \\left(q^{2} - 1\\right) \\left(q^{4} - 1\\right) & - q^{7} + q^{3} & - q^{8} + q^{4} & - q^{9} + q^{5} & - q^{10} + q^{6} & q^{8}\\end{array}\\right]$"
      ],
      "text/plain": [
       "⎡        2                 4    2          ⎛ 2    ⎞ ⎛ 4    ⎞           4    2 \n",
       "⎢       q                 q  - q           ⎝q  - 1⎠⋅⎝q  - 1⎠          q  - q  \n",
       "⎢                                                                             \n",
       "⎢                             2                  4    2                       \n",
       "⎢        0                   q                  q  - q                   0    \n",
       "⎢                                                                             \n",
       "⎢                                                   2                         \n",
       "⎢        0                   0                     q                     0    \n",
       "⎢                                                                             \n",
       "⎢                                                4    2                   2   \n",
       "⎢        0                   0                  q  - q                   q    \n",
       "⎢                                                                             \n",
       "⎢                                                                             \n",
       "⎢                           3                    5    3                 3     \n",
       "⎢        0                 q  - q               q  - q                 q  - q \n",
       "⎢                                                                             \n",
       "⎢                                                 3                           \n",
       "⎢        0                   0                   q  - q                  0    \n",
       "⎢                                                                             \n",
       "⎢      4    2        ⎛ 2    ⎞ ⎛ 4    ⎞     2 ⎛ 2    ⎞ ⎛ 4    ⎞         6    4 \n",
       "⎢     q  - q         ⎝q  - 1⎠⋅⎝q  - 1⎠    q ⋅⎝q  - 1⎠⋅⎝q  - 1⎠        q  - q  \n",
       "⎢                                                                             \n",
       "⎢                                                                             \n",
       "⎢      3                   5    3           ⎛ 2    ⎞ ⎛ 4    ⎞         ⎛ 2    ⎞\n",
       "⎢     q  - q              q  - q          q⋅⎝q  - 1⎠⋅⎝q  - 1⎠       q⋅⎝q  - 1⎠\n",
       "⎢                                                                             \n",
       "⎢                                                                            2\n",
       "⎢                          4    2                6    4              ⎛ 2    ⎞ \n",
       "⎢        0                q  - q                q  - q               ⎝q  - 1⎠ \n",
       "⎢                                                                             \n",
       "⎢                                                5    3                 3     \n",
       "⎢        0                   0                  q  - q                 q  - q \n",
       "⎢                                                                             \n",
       "⎢⎛ 2    ⎞ ⎛ 4    ⎞   2 ⎛ 2    ⎞ ⎛ 4    ⎞   4 ⎛ 2    ⎞ ⎛ 4    ⎞   2 ⎛ 2    ⎞ ⎛ \n",
       "⎣⎝q  - 1⎠⋅⎝q  - 1⎠  q ⋅⎝q  - 1⎠⋅⎝q  - 1⎠  q ⋅⎝q  - 1⎠⋅⎝q  - 1⎠  q ⋅⎝q  - 1⎠⋅⎝q\n",
       "\n",
       "               3                    5    3              3          4        5 \n",
       "              q  - q               q  - q             -q         -q      - q  \n",
       "                                                                              \n",
       "                                     3                             2          \n",
       "                 0                  q  - q             0         -q         -q\n",
       "                                                                              \n",
       "                                                                              \n",
       "                 0                    0                0          0         -q\n",
       "                                                                              \n",
       "                                     3                              2       3 \n",
       "                 0                  q  - q            -q       1 - q     - q  \n",
       "                                                                              \n",
       "                                          2                                   \n",
       "                 2                ⎛ 2    ⎞              2        3            \n",
       "                q                 ⎝q  - 1⎠            -q      - q  + q      -q\n",
       "                                                                              \n",
       "                                       2                                      \n",
       "                 0                    q                0         -q       1 - \n",
       "                                                                              \n",
       "               5    3          ⎛ 2    ⎞ ⎛ 4    ⎞        5        6    2     7 \n",
       "              q  - q         q⋅⎝q  - 1⎠⋅⎝q  - 1⎠      -q      - q  + q   - q  \n",
       "                                                                              \n",
       "2                    2                                                        \n",
       "             ⎛ 2    ⎞               6    4            4    2       5        6 \n",
       "             ⎝q  - 1⎠              q  - q          - q  + q      -q      - q  \n",
       "                                                                              \n",
       "                                           2                                  \n",
       "               3                   ⎛ 2    ⎞           3          4    2       \n",
       "              q  - q             q⋅⎝q  - 1⎠        - q  + q   - q  + q      -q\n",
       "                                                                              \n",
       "                                    4    2               2       3          4 \n",
       "                 0                 q  - q           1 - q     - q  + q   - q  \n",
       "                                                                              \n",
       "4    ⎞    ⎛ 2    ⎞ ⎛ 4    ⎞   3 ⎛ 2    ⎞ ⎛ 4    ⎞     7    3     8    4     9 \n",
       "  - 1⎠  q⋅⎝q  - 1⎠⋅⎝q  - 1⎠  q ⋅⎝q  - 1⎠⋅⎝q  - 1⎠  - q  + q   - q  + q   - q  \n",
       "\n",
       "         6    2    4⎤\n",
       "+ q   - q  + q    q ⎥\n",
       "                    ⎥\n",
       "3            4     2⎥\n",
       "        1 - q     q ⎥\n",
       "                    ⎥\n",
       "           2        ⎥\n",
       "         -q       1 ⎥\n",
       "                    ⎥\n",
       "           4       2⎥\n",
       "+ q      -q       q ⎥\n",
       "                    ⎥\n",
       "                    ⎥\n",
       "4         5        3⎥\n",
       "       - q  + q   q ⎥\n",
       "                    ⎥\n",
       " 2         3        ⎥\n",
       "q        -q       q ⎥\n",
       "                    ⎥\n",
       "   3     8    4    6⎥\n",
       "+ q   - q  + q    q ⎥\n",
       "                    ⎥\n",
       "                    ⎥\n",
       "   2     7    3    5⎥\n",
       "+ q   - q  + q    q ⎥\n",
       "                    ⎥\n",
       "                    ⎥\n",
       "5        6    2    4⎥\n",
       "      - q  + q    q ⎥\n",
       "                    ⎥\n",
       "   2       5       3⎥\n",
       "+ q      -q       q ⎥\n",
       "                    ⎥\n",
       "   5     10    6   8⎥\n",
       "+ q   - q   + q   q ⎦"
      ]
     },
     "execution_count": 60,
     "metadata": {},
     "output_type": "execute_result"
    }
   ],
   "source": [
    "Tz"
   ]
  },
  {
   "cell_type": "code",
   "execution_count": 74,
   "metadata": {},
   "outputs": [],
   "source": [
    "init = sympy.Matrix([[0 for i in range(len(transitonlist))]])"
   ]
  },
  {
   "cell_type": "code",
   "execution_count": 75,
   "metadata": {},
   "outputs": [],
   "source": [
    "init[0,0] = 1"
   ]
  },
  {
   "cell_type": "code",
   "execution_count": 76,
   "metadata": {},
   "outputs": [
    {
     "data": {
      "text/latex": [
       "$\\displaystyle \\left[\\begin{array}{ccccccccccc}1 & 0 & 0 & 0 & 0 & 0 & 0 & 0 & 0 & 0 & 0\\end{array}\\right]$"
      ],
      "text/plain": [
       "[1  0  0  0  0  0  0  0  0  0  0]"
      ]
     },
     "execution_count": 76,
     "metadata": {},
     "output_type": "execute_result"
    }
   ],
   "source": [
    "init"
   ]
  },
  {
   "cell_type": "code",
   "execution_count": 77,
   "metadata": {},
   "outputs": [
    {
     "data": {
      "text/latex": [
       "$\\displaystyle \\left[\\begin{matrix}0 & 0 & 0 & 0 & 0 & 0\\end{matrix}\\right]$"
      ],
      "text/plain": [
       "[0  0  0  0  0  0]"
      ]
     },
     "execution_count": 77,
     "metadata": {},
     "output_type": "execute_result"
    }
   ],
   "source": [
    "anslist = sympy.Matrix([[0 for i in range(6)]])\n",
    "anslist"
   ]
  },
  {
   "cell_type": "code",
   "execution_count": 78,
   "metadata": {},
   "outputs": [
    {
     "data": {
      "text/latex": [
       "$\\displaystyle \\left[\\begin{array}{ccccccccccc}q^{2} & q^{4} - q^{2} & \\left(q^{2} - 1\\right) \\left(q^{4} - 1\\right) & q^{4} - q^{2} & q^{3} - q & q^{5} - q^{3} & - q^{3} & - q^{4} & - q^{5} + q & - q^{6} + q^{2} & q^{4}\\end{array}\\right]$"
      ],
      "text/plain": [
       "⎡ 2   4    2  ⎛ 2    ⎞ ⎛ 4    ⎞   4    2   3       5    3    3    4     5     \n",
       "⎣q   q  - q   ⎝q  - 1⎠⋅⎝q  - 1⎠  q  - q   q  - q  q  - q   -q   -q   - q  + q \n",
       "\n",
       "    6    2   4⎤\n",
       " - q  + q   q ⎦"
      ]
     },
     "execution_count": 78,
     "metadata": {},
     "output_type": "execute_result"
    }
   ],
   "source": [
    "tmp = init\n",
    "tmp = tmp * Tz\n",
    "tmp"
   ]
  },
  {
   "cell_type": "code",
   "execution_count": 84,
   "metadata": {},
   "outputs": [],
   "source": [
    "tmp[0,1] = 0"
   ]
  },
  {
   "cell_type": "code",
   "execution_count": 85,
   "metadata": {},
   "outputs": [
    {
     "data": {
      "text/latex": [
       "$\\displaystyle \\left( \\left[\\begin{matrix}0 & q^{4} - q^{2} & 0 & 0 & 0 & 0\\end{matrix}\\right], \\  \\left[\\begin{array}{ccccccccccc}q^{2} & 0 & \\left(q^{2} - 1\\right) \\left(q^{4} - 1\\right) & q^{4} - q^{2} & q^{3} - q & q^{5} - q^{3} & - q^{3} & - q^{4} & - q^{5} + q & - q^{6} + q^{2} & q^{4}\\end{array}\\right]\\right)$"
      ],
      "text/plain": [
       "⎛⎡    4    2            ⎤  ⎡ 2     ⎛ 2    ⎞ ⎛ 4    ⎞   4    2   3       5    3\n",
       "⎝⎣0  q  - q   0  0  0  0⎦, ⎣q   0  ⎝q  - 1⎠⋅⎝q  - 1⎠  q  - q   q  - q  q  - q \n",
       "\n",
       "    3    4     5         6    2   4⎤⎞\n",
       "  -q   -q   - q  + q  - q  + q   q ⎦⎠"
      ]
     },
     "execution_count": 85,
     "metadata": {},
     "output_type": "execute_result"
    }
   ],
   "source": [
    "anslist,tmp"
   ]
  },
  {
   "cell_type": "code",
   "execution_count": null,
   "metadata": {},
   "outputs": [],
   "source": [
    "def carrier(anslist, tmp, T):\n",
    "    tmp = tmp * T\n",
    "        for j in range(len(anslist)):\n",
    "        anslist[0,j] += tmp[0,j]\n",
    "        tmp[0,j] = 0\n",
    "    return anslist, tmp\n",
    "    "
   ]
  },
  {
   "cell_type": "code",
   "execution_count": 107,
   "metadata": {},
   "outputs": [],
   "source": [
    "step = 7\n",
    "anslist = sympy.Matrix([[0 for i in range(6)]])\n",
    "ansnum = sympy.Matrix([[0 for i in range(6)]])\n",
    "\n",
    "tmp = init\n",
    "for i in range(step):\n",
    "    tmp = tmp * Tz #tmpの更新\n",
    "    for j in range(len(anslist)):\n",
    "        anslist[0,j] += tmp[0,j]\n",
    "        tmp[0,j] = 0\n",
    "\n",
    "for i in range(len(anslist)):\n",
    "    ansnum[0,i] = anslist[0,i].subs(\"q\",0.1)\n"
   ]
  },
  {
   "cell_type": "code",
   "execution_count": 109,
   "metadata": {},
   "outputs": [
    {
     "data": {
      "text/latex": [
       "$\\displaystyle \\left( \\left[\\begin{matrix}0.00970779547360544 & 0.00873701338657022 & 0.990292204523975 & 0.0873701578572294 & -0.106785749835623 & 0.0106785746227362\\end{matrix}\\right], \\  0.999999996028493, \\  0.999999999844756\\right)$"
      ],
      "text/plain": [
       "([0.00970779547360544  0.00873701338657022  0.990292204523975  0.0873701578572\n",
       "294  -0.106785749835623  0.0106785746227362], 0.999999996028493, 0.99999999984\n",
       "4756)"
      ]
     },
     "execution_count": 109,
     "metadata": {},
     "output_type": "execute_result"
    }
   ],
   "source": [
    "ansnum,sum(ansnum), sum(i**2 for i in ansnum)#step=7,q=0.1"
   ]
  },
  {
   "cell_type": "code",
   "execution_count": null,
   "metadata": {},
   "outputs": [],
   "source": [
    "a = [1,2,3]\n",
    "sum(i**2 for i in a)"
   ]
  },
  {
   "cell_type": "code",
   "execution_count": null,
   "metadata": {},
   "outputs": [],
   "source": []
  },
  {
   "cell_type": "code",
   "execution_count": null,
   "metadata": {},
   "outputs": [],
   "source": [
    "def tevolve(step,q)\n",
    "    step = 7\n",
    "    anslist = sympy.Matrix([[0 for i in range(6)]])\n",
    "    ansnum = sympy.Matrix([[0 for i in range(6)]])\n",
    "    \n",
    "    tmp = init\n",
    "    for i in range(step):\n",
    "        tmp = tmp * Tz #tmpの更新\n",
    "        for j in range(len(anslist)):\n",
    "            anslist[0,j] += tmp[0,j]\n",
    "            tmp[0,j] = 0\n",
    "    \n",
    "    for i in range(len(anslist)):\n",
    "        ansnum[0,i] = anslist[0,i].subs(\"q\",0.1)\n"
   ]
  }
 ],
 "metadata": {
  "kernelspec": {
   "display_name": "Python 3",
   "language": "python",
   "name": "python3"
  },
  "language_info": {
   "codemirror_mode": {
    "name": "ipython",
    "version": 3
   },
   "file_extension": ".py",
   "mimetype": "text/x-python",
   "name": "python",
   "nbconvert_exporter": "python",
   "pygments_lexer": "ipython3",
   "version": "3.7.5"
  }
 },
 "nbformat": 4,
 "nbformat_minor": 4
}
