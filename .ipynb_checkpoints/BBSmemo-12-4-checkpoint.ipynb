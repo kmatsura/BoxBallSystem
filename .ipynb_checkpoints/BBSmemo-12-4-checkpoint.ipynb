{
 "cells": [
  {
   "cell_type": "markdown",
   "metadata": {},
   "source": [
    "## import libraries we use"
   ]
  },
  {
   "cell_type": "code",
   "execution_count": 1,
   "metadata": {},
   "outputs": [],
   "source": [
    "import numpy as np\n",
    "import math\n",
    "import matplotlib.pyplot as plt\n",
    "import pandas as pd"
   ]
  },
  {
   "cell_type": "markdown",
   "metadata": {},
   "source": [
    "### define BBS class"
   ]
  },
  {
   "cell_type": "code",
   "execution_count": 2,
   "metadata": {},
   "outputs": [],
   "source": [
    "class Bbs:\n",
    "    ml = 37#length of box align \n",
    "    def __init__(self,array, ml = 37): #\"array\" represents configuration of balls.\n",
    "        self.boxlength = ml\n",
    "        self.box = np.array(array,dtype=int)\n",
    "        self.carrier = []\n",
    "        self.energy = 0\n",
    "        if (len(self.box) < ml): # fill array with empty boxes ubtil its length beccome ml.\n",
    "            self.box = np.concatenate([self.box,(np.ones(ml - int(len(self.box)),dtype=int))]) \n",
    "            \n",
    "    # Time evolution defined by T = K2K3...Kl+1\n",
    "    def time_evolve_inf(self, l = 1000):#\"l\" must be larger than the numbers of ball colors.\n",
    "        for i in range(l+1,1,-1): #i:l+1 to 2\n",
    "            count = sum(self.box  == i) # count the number of i-color balls.\n",
    "            p = 0 \n",
    "            while count > 0:\n",
    "                #print(i,count,self.box[p] == i)\n",
    "                if int(self.box[p]) == i:\n",
    "                    q = p + 1\n",
    "                    self.box[p] = 1\n",
    "                    while q < self.ml+2:\n",
    "                    \n",
    "                        if int(self.box[q]) == 1:\n",
    "                            self.box[q] = -i\n",
    "                            count -= 1\n",
    "                            break\n",
    "                        else:\n",
    "                            q += 1\n",
    "                    \n",
    "                else:\n",
    "                    p += 1\n",
    "                    \n",
    "        self.box = np.abs(self.box)\n",
    "        \n",
    "        return self\n",
    "\n",
    "    # time evolution Tl based on carrier and conbitional R\n",
    "    def time_evolve(self, l, verbose = True, calc_energy = False):\n",
    "        self.carrier = [1]*l # declare carrier\n",
    "        \n",
    "        if calc_energy == True:\n",
    "            energy_star = 0\n",
    "            \n",
    "        for i in range(len(self.box)):\n",
    "            self.carrier.sort()\n",
    "            \n",
    "            if calc_energy == True:\n",
    "                if self.box[i] <= self.carrier[0]:\n",
    "                    energy_star += 1\n",
    "                \n",
    "                    \n",
    "            \n",
    "            if (self.box[i] > self.carrier[0]):                \n",
    "                p = len(self.carrier) - 1\n",
    "                \n",
    "                while self.carrier[p] >= self.box[i]:\n",
    "                    p -= 1\n",
    "                #print(p,self.carrier[p],self.box[i])\n",
    "                #print(\"car\" + str(self.carrier))\n",
    "                \n",
    "                temp = self.box[i]\n",
    "                self.box[i] = self.carrier[p]\n",
    "                self.carrier[p] = temp\n",
    "                \n",
    "            else:\n",
    "                temp = self.box[i]\n",
    "                self.box[i] = self.carrier[l-1]\n",
    "                self.carrier[l-1] = temp\n",
    "                \n",
    "            if verbose == True:\n",
    "                    print(\"-\" * 50)\n",
    "                    print(\"carrier position:\" + str(i+1))\n",
    "                    print(\"box:\" + str(self.box))\n",
    "                    print(\"carrier:\" + str(self.carrier))\n",
    "        print(\"-\" * 50)\n",
    "        \n",
    "        if calc_energy == True:\n",
    "            self.energy = len(self.box) - energy_star\n",
    "            \n",
    "            \n",
    "        return self\n",
    "    \n",
    "    def reversecarrier_time_evolve(self, l, verbose = True):\n",
    "        self.carrier = [1]*l # declare carrier\n",
    "        for i in range(len(self.box)-1,-1,-1):#len(self.box)-1 to 0\n",
    "            self.carrier.sort()\n",
    "            if (self.box[i] > self.carrier[0]):\n",
    "                p = len(self.carrier) - 1\n",
    "                while self.carrier[p] >= self.box[i]:\n",
    "                    p -= 1\n",
    "                #print(p,self.carrier[p],self.box[i])\n",
    "                #print(\"car\" + str(self.carrier))\n",
    "                temp = self.box[i]\n",
    "                self.box[i] = self.carrier[p]\n",
    "                self.carrier[p] = temp\n",
    "                \n",
    "            else:\n",
    "                temp = self.box[i]\n",
    "                self.box[i] = self.carrier[l-1]\n",
    "                self.carrier[l-1] = temp\n",
    "                \n",
    "            if verbose == True:\n",
    "                    print(\"-\" * 50)\n",
    "                    print(\"carrier position:\" + str(i+1))\n",
    "                    print(\"box:\" + str(self.box))\n",
    "                    print(\"carrier:\" + str(self.carrier))\n",
    "        print(\"-\" * 50)\n",
    "            \n",
    "        return self             "
   ]
  },
  {
   "cell_type": "markdown",
   "metadata": {},
   "source": [
    "### define Young tableau class"
   ]
  },
  {
   "cell_type": "code",
   "execution_count": 3,
   "metadata": {},
   "outputs": [],
   "source": [
    "yt = [[1,1,2,3,4],[2,2,3,5],[4,4]]"
   ]
  },
  {
   "cell_type": "code",
   "execution_count": 4,
   "metadata": {},
   "outputs": [
    {
     "data": {
      "text/html": [
       "<div>\n",
       "<style scoped>\n",
       "    .dataframe tbody tr th:only-of-type {\n",
       "        vertical-align: middle;\n",
       "    }\n",
       "\n",
       "    .dataframe tbody tr th {\n",
       "        vertical-align: top;\n",
       "    }\n",
       "\n",
       "    .dataframe thead th {\n",
       "        text-align: right;\n",
       "    }\n",
       "</style>\n",
       "<table border=\"1\" class=\"dataframe\">\n",
       "  <thead>\n",
       "    <tr style=\"text-align: right;\">\n",
       "      <th></th>\n",
       "      <th>0</th>\n",
       "      <th>1</th>\n",
       "      <th>2</th>\n",
       "      <th>3</th>\n",
       "      <th>4</th>\n",
       "    </tr>\n",
       "  </thead>\n",
       "  <tbody>\n",
       "    <tr>\n",
       "      <th>0</th>\n",
       "      <td>1</td>\n",
       "      <td>1</td>\n",
       "      <td>2.0</td>\n",
       "      <td>3.0</td>\n",
       "      <td>4.0</td>\n",
       "    </tr>\n",
       "    <tr>\n",
       "      <th>1</th>\n",
       "      <td>2</td>\n",
       "      <td>2</td>\n",
       "      <td>3.0</td>\n",
       "      <td>5.0</td>\n",
       "      <td>NaN</td>\n",
       "    </tr>\n",
       "    <tr>\n",
       "      <th>2</th>\n",
       "      <td>4</td>\n",
       "      <td>4</td>\n",
       "      <td>NaN</td>\n",
       "      <td>NaN</td>\n",
       "      <td>NaN</td>\n",
       "    </tr>\n",
       "  </tbody>\n",
       "</table>\n",
       "</div>"
      ],
      "text/plain": [
       "   0  1    2    3    4\n",
       "0  1  1  2.0  3.0  4.0\n",
       "1  2  2  3.0  5.0  NaN\n",
       "2  4  4  NaN  NaN  NaN"
      ]
     },
     "execution_count": 4,
     "metadata": {},
     "output_type": "execute_result"
    }
   ],
   "source": [
    "pd.DataFrame(yt)"
   ]
  },
  {
   "cell_type": "code",
   "execution_count": 94,
   "metadata": {},
   "outputs": [],
   "source": [
    "temp = pd.DataFrame(yt)"
   ]
  },
  {
   "cell_type": "code",
   "execution_count": 101,
   "metadata": {},
   "outputs": [
    {
     "data": {
      "text/plain": [
       "0    2.0\n",
       "1    3.0\n",
       "Name: 2, dtype: float64"
      ]
     },
     "execution_count": 101,
     "metadata": {},
     "output_type": "execute_result"
    }
   ],
   "source": [
    "temp[2].dropna()"
   ]
  },
  {
   "cell_type": "code",
   "execution_count": 83,
   "metadata": {},
   "outputs": [],
   "source": [
    "temp2 = list(temp[0])\n",
    "temp2.append(5)"
   ]
  },
  {
   "cell_type": "code",
   "execution_count": 210,
   "metadata": {},
   "outputs": [],
   "source": [
    "class YoungTableau():\n",
    "    def __init__(self):\n",
    "        self.table = []\n",
    "    \n",
    "\n",
    "    def row_insertion(self, r, verbose = False):\n",
    "        if len(self.table) == 0: \n",
    "            self.table = [[r]]\n",
    "        else:\n",
    "            for i in range(len(self.table)):\n",
    "                if verbose == True:\n",
    "                    print(\"r={}\".format(r))\n",
    "                if self.table[i][-1] <= r:# end\n",
    "                    self.table[i].append(r)\n",
    "                    if verbose == True:\n",
    "                        self.show()\n",
    "                    break\n",
    "                else: #continue\n",
    "                    p = 0\n",
    "                    for p in range(len(self.table[i])):\n",
    "                        if (self.table[i][p] - r) > 0:\n",
    "                            temp = r\n",
    "                            r = self.table[i][p]\n",
    "                            self.table[i][p] = temp\n",
    "                            break\n",
    "                            \n",
    "                if (i+1) == len(self.table):                    \n",
    "                    self.table.append([r])\n",
    "                if verbose == True:                    \n",
    "                    self.show()\n",
    "                    print(\"-\"*30)\n",
    "        return self\n",
    "                    \n",
    "    def list_convertion(self):\n",
    "        temp = pd.DataFrame(self.table)\n",
    "        new_list = []\n",
    "        for i in range(temp.shape[1]):\n",
    "            new_list.append(list(temp[i].dropna()))\n",
    "        self.table = new_list\n",
    "        return self\n",
    "        \n",
    "    \n",
    "    def column_insertion(self,r, verbose = False):\n",
    "        if len(self.table) == 0:\n",
    "            self.table = [[r]]\n",
    "        else:\n",
    "            self.table = self.list_convertion().table\n",
    "            for i in range(len(self.table)):\n",
    "                if verbose == True:\n",
    "                    print(\"r={}\".format(r))            \n",
    "                if self.table[i][-1] < r:\n",
    "                    self.table[i].append(r)\n",
    "                    if verbose == True:\n",
    "                        self.list_convertion().show()\n",
    "                        self.list_convertion()\n",
    "                    break\n",
    "                else: #continue\n",
    "                    p = 0\n",
    "                    for p in range(len(self.table[i])):\n",
    "                        if (self.table[i][p] - r) >= 0:\n",
    "                            temp = r\n",
    "                            r = self.table[i][p]\n",
    "                            self.table[i][p] = temp                            \n",
    "                            break\n",
    "                \n",
    "                if (i+1) == len(self.table):\n",
    "                    self.table.append([r])\n",
    "                if verbose == True:\n",
    "                    self.list_convertion().show()\n",
    "                    self.list_convertion()\n",
    "                    print(\"-\"*30)\n",
    "        self.table = self.list_convertion().table\n",
    "        return self\n",
    "    \n",
    "    def p_symbol(self, w, verbose = False):\n",
    "        w = str(w)\n",
    "        for char in w[::-1]:\n",
    "            self.row_insertion(int(char))\n",
    "            if verbose == True:             \n",
    "                self.show()\n",
    "                print(\"-\"*30)\n",
    "        return self                    \n",
    "                \n",
    "    def show(self,astype = float):\n",
    "        print(pd.DataFrame(self.table).astype(astype))"
   ]
  },
  {
   "cell_type": "code",
   "execution_count": 167,
   "metadata": {},
   "outputs": [
    {
     "data": {
      "text/plain": [
       "<__main__.YoungTableau at 0x7fecfb507b00>"
      ]
     },
     "execution_count": 167,
     "metadata": {},
     "output_type": "execute_result"
    }
   ],
   "source": [
    "yt"
   ]
  },
  {
   "cell_type": "code",
   "execution_count": 168,
   "metadata": {},
   "outputs": [],
   "source": [
    "yt = YoungTableau()"
   ]
  },
  {
   "cell_type": "code",
   "execution_count": 169,
   "metadata": {},
   "outputs": [
    {
     "name": "stdout",
     "output_type": "stream",
     "text": [
      "Empty DataFrame\n",
      "Columns: []\n",
      "Index: []\n"
     ]
    }
   ],
   "source": [
    "yt.show()"
   ]
  },
  {
   "cell_type": "code",
   "execution_count": 170,
   "metadata": {},
   "outputs": [
    {
     "data": {
      "text/plain": [
       "<__main__.YoungTableau at 0x7fecfb4fee10>"
      ]
     },
     "execution_count": 170,
     "metadata": {},
     "output_type": "execute_result"
    }
   ],
   "source": [
    "yt.p_symbol(213432)"
   ]
  },
  {
   "cell_type": "code",
   "execution_count": 171,
   "metadata": {},
   "outputs": [
    {
     "name": "stdout",
     "output_type": "stream",
     "text": [
      "     0    1    2\n",
      "0  1.0  2.0  3.0\n",
      "1  2.0  3.0  NaN\n",
      "2  4.0  NaN  NaN\n"
     ]
    }
   ],
   "source": [
    "yt.show()"
   ]
  },
  {
   "cell_type": "code",
   "execution_count": 172,
   "metadata": {},
   "outputs": [
    {
     "data": {
      "text/plain": [
       "<__main__.YoungTableau at 0x7fecfb4fee10>"
      ]
     },
     "execution_count": 172,
     "metadata": {},
     "output_type": "execute_result"
    }
   ],
   "source": [
    "yt.row_insertion(4)"
   ]
  },
  {
   "cell_type": "code",
   "execution_count": 173,
   "metadata": {},
   "outputs": [
    {
     "data": {
      "text/plain": [
       "<__main__.YoungTableau at 0x7fecfb4fee10>"
      ]
     },
     "execution_count": 173,
     "metadata": {},
     "output_type": "execute_result"
    }
   ],
   "source": [
    "yt.list_convertion()"
   ]
  },
  {
   "cell_type": "code",
   "execution_count": 174,
   "metadata": {},
   "outputs": [
    {
     "name": "stdout",
     "output_type": "stream",
     "text": [
      "     0    1    2\n",
      "0  1.0  2.0  4.0\n",
      "1  2.0  3.0  NaN\n",
      "2  3.0  NaN  NaN\n",
      "3  4.0  NaN  NaN\n"
     ]
    }
   ],
   "source": [
    "yt.show()"
   ]
  },
  {
   "cell_type": "code",
   "execution_count": 175,
   "metadata": {},
   "outputs": [
    {
     "data": {
      "text/plain": [
       "<__main__.YoungTableau at 0x7fecfb4fee10>"
      ]
     },
     "execution_count": 175,
     "metadata": {},
     "output_type": "execute_result"
    }
   ],
   "source": [
    "yt.column_insertion(4)"
   ]
  },
  {
   "cell_type": "markdown",
   "metadata": {},
   "source": [
    "## Ex0: Time evolution infinity"
   ]
  },
  {
   "cell_type": "code",
   "execution_count": 176,
   "metadata": {},
   "outputs": [
    {
     "name": "stdout",
     "output_type": "stream",
     "text": [
      "t=0:[3 2 2 1 1 1 2 2 1 2 1 1 1 1 1 1 1 1 1 1 1 1 1 1 1 1 1 1 1 1 1 1 1 1 1 1 1]\n",
      "--------------------------------------------------\n",
      "t=1:[1 1 1 3 2 2 1 1 2 1 2 2 1 1 1 1 1 1 1 1 1 1 1 1 1 1 1 1 1 1 1 1 1 1 1 1 1]\n",
      "--------------------------------------------------\n",
      "t=2:[1 1 1 1 1 1 3 2 1 2 1 1 2 2 2 1 1 1 1 1 1 1 1 1 1 1 1 1 1 1 1 1 1 1 1 1 1]\n",
      "--------------------------------------------------\n",
      "t=3:[1 1 1 1 1 1 1 1 3 1 2 2 1 1 1 2 2 2 1 1 1 1 1 1 1 1 1 1 1 1 1 1 1 1 1 1 1]\n",
      "--------------------------------------------------\n",
      "t=4:[1 1 1 1 1 1 1 1 1 3 1 1 2 2 1 1 1 1 2 2 2 1 1 1 1 1 1 1 1 1 1 1 1 1 1 1 1]\n"
     ]
    }
   ],
   "source": [
    "x = Bbs(np.array([3,2,2,1,1,1,2,2,1,2]))\n",
    "print(\"t=\" + str(0) + \":\" + str(x.box))\n",
    "for i in range(1,5):\n",
    "    x.time_evolve_inf()\n",
    "    print(\"-\" * 50)\n",
    "    print(\"t=\" + str(i) + \":\" + str(x.box))"
   ]
  },
  {
   "cell_type": "markdown",
   "metadata": {},
   "source": [
    "## Ex1: Time evolution"
   ]
  },
  {
   "cell_type": "code",
   "execution_count": 177,
   "metadata": {},
   "outputs": [
    {
     "name": "stdout",
     "output_type": "stream",
     "text": [
      "t=0:[2 3 5 1 2 4 4 4 3 1 1 1 1 1 1 1 1 1 1 1 1 1 1 1 1 1 1 1 1 1 1 1 1 1 1 1 1]\n",
      "--------------------------------------------------\n",
      "t=1:[1 2 3 5 1 2 1 4 4 4 3 1 1 1 1 1 1 1 1 1 1 1 1 1 1 1 1 1 1 1 1 1 1 1 1 1 1]\n",
      "--------------------------------------------------\n",
      "t=2:[1 1 2 3 5 1 2 1 1 4 4 4 3 1 1 1 1 1 1 1 1 1 1 1 1 1 1 1 1 1 1 1 1 1 1 1 1]\n",
      "--------------------------------------------------\n",
      "t=3:[1 1 1 2 3 5 1 2 1 1 1 4 4 4 3 1 1 1 1 1 1 1 1 1 1 1 1 1 1 1 1 1 1 1 1 1 1]\n",
      "--------------------------------------------------\n",
      "t=4:[1 1 1 1 2 3 5 1 2 1 1 1 1 4 4 4 3 1 1 1 1 1 1 1 1 1 1 1 1 1 1 1 1 1 1 1 1]\n"
     ]
    }
   ],
   "source": [
    "x = Bbs(np.array([2,3,5,1,2,4,4,4,3]))\n",
    "\n",
    "print(\"t=\" + str(0) + \":\" + str(x.box))\n",
    "for i in range(1,5):\n",
    "    x.time_evolve(l = 2,verbose = False)\n",
    "    print(\"t=\" + str(i) + \":\" + str(x.box))"
   ]
  },
  {
   "cell_type": "markdown",
   "metadata": {},
   "source": [
    "## Ex2:Reverse Carrier Time evolution"
   ]
  },
  {
   "cell_type": "code",
   "execution_count": 178,
   "metadata": {},
   "outputs": [
    {
     "name": "stdout",
     "output_type": "stream",
     "text": [
      "--------------------------------------------------\n",
      "t=5:[1 2 3 5 1 1 1 2 1 1 4 4 4 1 1 3 1 1 1 1 1 1 1 1 1 1 1 1 1 1 1 1 1 1 1 1 1]\n",
      "--------------------------------------------------\n",
      "t=6:[5 1 1 1 1 2 4 1 4 4 1 1 1 1 3 1 1 1 1 1 1 1 1 1 1 1 1 1 1 1 1 1 1 1 1 1 1]\n",
      "--------------------------------------------------\n",
      "t=7:[1 1 2 4 4 1 1 4 1 1 1 1 1 3 1 1 1 1 1 1 1 1 1 1 1 1 1 1 1 1 1 1 1 1 1 1 1]\n",
      "--------------------------------------------------\n",
      "t=8:[4 4 1 1 1 1 4 1 1 1 1 1 3 1 1 1 1 1 1 1 1 1 1 1 1 1 1 1 1 1 1 1 1 1 1 1 1]\n"
     ]
    }
   ],
   "source": [
    "# carrierを逆に走らせてみる\n",
    "for i in range(1,5):\n",
    "    x.reversecarrier_time_evolve(l = 10,verbose = False)\n",
    "    print(\"t=\" + str(i+4) + \":\" + str(x.box))"
   ]
  },
  {
   "cell_type": "markdown",
   "metadata": {},
   "source": [
    "## Ex2 Energy Measurement"
   ]
  },
  {
   "cell_type": "code",
   "execution_count": 179,
   "metadata": {},
   "outputs": [
    {
     "name": "stdout",
     "output_type": "stream",
     "text": [
      "[2 3 5 1 2 4 4 4 3 1 1 1 1 1 1 1 1 1 1 1 1 1 1 1 1 1 1 1 1 1 1 1 1 1 1 1 1\n",
      " 1 1 1 1 1 1 1 1 1 1 1 1 1 1 1 1 1 1 1 1 1 1 1 1 1 1 1 1 1 1 1 1 1 1 1 1 1\n",
      " 1 1 1 1 1 1 1 1 1 1 1 1 1 1 1 1 1 1 1 1 1 1 1 1 1 1]\n",
      "--------------------------------------------------\n",
      "E_1 = 5\n",
      "--------------------------------------------------\n",
      "E_2 = 6\n",
      "--------------------------------------------------\n",
      "E_3 = 7\n",
      "--------------------------------------------------\n",
      "E_4 = 8\n",
      "--------------------------------------------------\n",
      "E_5 = 8\n",
      "--------------------------------------------------\n",
      "E_6 = 8\n"
     ]
    }
   ],
   "source": [
    "x = Bbs(np.array([2,3,5,1,2,4,4,4,3]),ml=100)\n",
    "print(str(x.box))\n",
    "\n",
    "for i in range(1,7):\n",
    "    x = Bbs(np.array([2,3,5,1,2,4,4,4,3]))\n",
    "    x.time_evolve(l = i,verbose = False, calc_energy = True)\n",
    "    print(\"E_\" + str(i) + \" = \" + str(x.energy))"
   ]
  },
  {
   "cell_type": "code",
   "execution_count": 180,
   "metadata": {},
   "outputs": [
    {
     "name": "stdout",
     "output_type": "stream",
     "text": [
      "t=0:[2 3 5 1 2 4 4 4 3 1 1 1 1 1 1 1 1 1 1 1 1 1 1 1 1 1 1 1 1 1 1 1 1 1 1 1 1\n",
      " 1 1 1 1 1 1 1 1 1 1 1 1 1 1 1 1 1 1 1 1 1 1 1 1 1 1 1 1 1 1 1 1 1 1 1 1 1\n",
      " 1 1 1 1 1 1 1 1 1 1 1 1 1 1 1 1 1 1 1 1 1 1 1 1 1 1]\n",
      "--------------------------------------------------\n",
      "t=1:[1 2 3 5 1 2 1 1 1 4 4 4 3 1 1 1 1 1 1 1 1 1 1 1 1 1 1 1 1 1 1 1 1 1 1 1 1\n",
      " 1 1 1 1 1 1 1 1 1 1 1 1 1 1 1 1 1 1 1 1 1 1 1 1 1 1 1 1 1 1 1 1 1 1 1 1 1\n",
      " 1 1 1 1 1 1 1 1 1 1 1 1 1 1 1 1 1 1 1 1 1 1 1 1 1 1]\n",
      "--------------------------------------------------\n",
      "t=2:[1 1 2 3 5 1 2 1 1 1 1 1 1 4 4 4 3 1 1 1 1 1 1 1 1 1 1 1 1 1 1 1 1 1 1 1 1\n",
      " 1 1 1 1 1 1 1 1 1 1 1 1 1 1 1 1 1 1 1 1 1 1 1 1 1 1 1 1 1 1 1 1 1 1 1 1 1\n",
      " 1 1 1 1 1 1 1 1 1 1 1 1 1 1 1 1 1 1 1 1 1 1 1 1 1 1]\n",
      "--------------------------------------------------\n",
      "t=3:[1 1 1 2 3 5 1 2 1 1 1 1 1 1 1 1 1 4 4 4 3 1 1 1 1 1 1 1 1 1 1 1 1 1 1 1 1\n",
      " 1 1 1 1 1 1 1 1 1 1 1 1 1 1 1 1 1 1 1 1 1 1 1 1 1 1 1 1 1 1 1 1 1 1 1 1 1\n",
      " 1 1 1 1 1 1 1 1 1 1 1 1 1 1 1 1 1 1 1 1 1 1 1 1 1 1]\n",
      "--------------------------------------------------\n",
      "t=4:[1 1 1 1 2 3 5 1 2 1 1 1 1 1 1 1 1 1 1 1 1 4 4 4 3 1 1 1 1 1 1 1 1 1 1 1 1\n",
      " 1 1 1 1 1 1 1 1 1 1 1 1 1 1 1 1 1 1 1 1 1 1 1 1 1 1 1 1 1 1 1 1 1 1 1 1 1\n",
      " 1 1 1 1 1 1 1 1 1 1 1 1 1 1 1 1 1 1 1 1 1 1 1 1 1 1]\n",
      "--------------------------------------------------\n",
      "E_1 = 5\n",
      "--------------------------------------------------\n",
      "E_2 = 6\n",
      "--------------------------------------------------\n",
      "E_3 = 7\n",
      "--------------------------------------------------\n",
      "E_4 = 8\n",
      "--------------------------------------------------\n",
      "E_5 = 8\n",
      "--------------------------------------------------\n",
      "E_6 = 8\n"
     ]
    }
   ],
   "source": [
    "x = Bbs(np.array([2,3,5,1,2,4,4,4,3]),ml=100)\n",
    "print(\"t=\" + str(0) + \":\" + str(x.box))\n",
    "for i in range(4):\n",
    "    x.time_evolve(l = 6, verbose = False)\n",
    "    print(\"t=\" + str(i+1) + \":\" + str(x.box))\n",
    "    \n",
    "X = x\n",
    "\n",
    "for i in range(1,7):\n",
    "    x = X\n",
    "    x.time_evolve(l = i,verbose = False, calc_energy = True)\n",
    "    print(\"E_\" + str(i) + \" = \" + str(x.energy))"
   ]
  },
  {
   "cell_type": "markdown",
   "metadata": {},
   "source": [
    "### Ex3. row insertion and column insertion "
   ]
  },
  {
   "cell_type": "code",
   "execution_count": 181,
   "metadata": {},
   "outputs": [
    {
     "name": "stdout",
     "output_type": "stream",
     "text": [
      "     0\n",
      "0  5.0\n",
      "------------------------------\n",
      "     0    1\n",
      "0  5.0  6.0\n",
      "------------------------------\n",
      "     0    1\n",
      "0  2.0  6.0\n",
      "1  5.0  NaN\n",
      "------------------------------\n",
      "     0    1\n",
      "0  2.0  3.0\n",
      "1  5.0  6.0\n",
      "------------------------------\n",
      "     0    1\n",
      "0  1.0  3.0\n",
      "1  2.0  6.0\n",
      "2  5.0  NaN\n",
      "------------------------------\n",
      "     0    1    2\n",
      "0  1.0  3.0  3.0\n",
      "1  2.0  6.0  NaN\n",
      "2  5.0  NaN  NaN\n",
      "------------------------------\n",
      "     0    1    2    3\n",
      "0  1.0  3.0  3.0  4.0\n",
      "1  2.0  6.0  NaN  NaN\n",
      "2  5.0  NaN  NaN  NaN\n",
      "------------------------------\n"
     ]
    }
   ],
   "source": [
    "#### rowinsertion\n",
    "w = \"4313265\"\n",
    "yt_r = YoungTableau()\n",
    "for r in w[::-1]:\n",
    "    yt_r.row_insertion(int(r))\n",
    "    yt_r.show()\n",
    "    print(\"-\"*30)"
   ]
  },
  {
   "cell_type": "code",
   "execution_count": 182,
   "metadata": {},
   "outputs": [
    {
     "name": "stdout",
     "output_type": "stream",
     "text": [
      "     0\n",
      "0  4.0\n",
      "------------------------------\n",
      "     0    1\n",
      "0  3.0  4.0\n",
      "------------------------------\n",
      "     0    1    2\n",
      "0  1.0  3.0  4.0\n",
      "------------------------------\n",
      "     0    1    2\n",
      "0  1.0  3.0  4.0\n",
      "1  3.0  NaN  NaN\n",
      "------------------------------\n",
      "     0    1    2    3\n",
      "0  1.0  3.0  3.0  4.0\n",
      "1  2.0  NaN  NaN  NaN\n",
      "------------------------------\n",
      "     0    1    2    3\n",
      "0  1.0  3.0  3.0  4.0\n",
      "1  2.0  NaN  NaN  NaN\n",
      "2  6.0  NaN  NaN  NaN\n",
      "------------------------------\n",
      "     0    1    2    3\n",
      "0  1.0  3.0  3.0  4.0\n",
      "1  2.0  6.0  NaN  NaN\n",
      "2  5.0  NaN  NaN  NaN\n",
      "------------------------------\n"
     ]
    }
   ],
   "source": [
    "#### column insertion\n",
    "w = \"4313265\"\n",
    "yt_r = YoungTableau()\n",
    "for r in w:\n",
    "    yt_r.column_insertion(int(r))\n",
    "    yt_r.show()\n",
    "    print(\"-\"*30)"
   ]
  },
  {
   "cell_type": "markdown",
   "metadata": {},
   "source": [
    "### Ex4. r>(T<s) = (r>T)<s"
   ]
  },
  {
   "cell_type": "code",
   "execution_count": 213,
   "metadata": {},
   "outputs": [
    {
     "name": "stdout",
     "output_type": "stream",
     "text": [
      "     0    1    2    3    4    5\n",
      "0  1.0  1.0  3.0  3.0  3.0  4.0\n",
      "1  2.0  2.0  6.0  6.0  7.0  8.0\n",
      "2  3.0  3.0  NaN  NaN  NaN  NaN\n",
      "3  4.0  6.0  NaN  NaN  NaN  NaN\n",
      "4  5.0  NaN  NaN  NaN  NaN  NaN\n",
      "5  7.0  NaN  NaN  NaN  NaN  NaN\n",
      "r=4\n",
      "     0    1    2    3    4    5    6\n",
      "0  1.0  1.0  3.0  3.0  3.0  4.0  4.0\n",
      "1  2.0  2.0  6.0  6.0  7.0  8.0  NaN\n",
      "2  3.0  3.0  NaN  NaN  NaN  NaN  NaN\n",
      "3  4.0  6.0  NaN  NaN  NaN  NaN  NaN\n",
      "4  5.0  NaN  NaN  NaN  NaN  NaN  NaN\n",
      "5  7.0  NaN  NaN  NaN  NaN  NaN  NaN\n",
      "==================================================\n",
      "r=4\n",
      "     0    1    2    3    4    5    6\n",
      "0  1.0  1.0  3.0  3.0  3.0  4.0  4.0\n",
      "1  2.0  2.0  6.0  6.0  7.0  8.0  NaN\n",
      "2  3.0  3.0  NaN  NaN  NaN  NaN  NaN\n",
      "3  4.0  6.0  NaN  NaN  NaN  NaN  NaN\n",
      "4  5.0  NaN  NaN  NaN  NaN  NaN  NaN\n",
      "5  7.0  NaN  NaN  NaN  NaN  NaN  NaN\n",
      "------------------------------\n",
      "r=4\n",
      "     0    1    2    3    4    5    6\n",
      "0  1.0  1.0  3.0  3.0  3.0  4.0  4.0\n",
      "1  2.0  2.0  6.0  6.0  7.0  8.0  NaN\n",
      "2  3.0  3.0  NaN  NaN  NaN  NaN  NaN\n",
      "3  4.0  4.0  NaN  NaN  NaN  NaN  NaN\n",
      "4  5.0  NaN  NaN  NaN  NaN  NaN  NaN\n",
      "5  7.0  NaN  NaN  NaN  NaN  NaN  NaN\n",
      "------------------------------\n",
      "r=6.0\n",
      "     0    1    2    3    4    5    6\n",
      "0  1.0  1.0  3.0  3.0  3.0  4.0  4.0\n",
      "1  2.0  2.0  6.0  6.0  7.0  8.0  NaN\n",
      "2  3.0  3.0  NaN  NaN  NaN  NaN  NaN\n",
      "3  4.0  4.0  NaN  NaN  NaN  NaN  NaN\n",
      "4  5.0  NaN  NaN  NaN  NaN  NaN  NaN\n",
      "5  7.0  NaN  NaN  NaN  NaN  NaN  NaN\n",
      "------------------------------\n",
      "r=6.0\n",
      "     0    1    2    3    4    5    6\n",
      "0  1.0  1.0  3.0  3.0  3.0  4.0  4.0\n",
      "1  2.0  2.0  6.0  6.0  7.0  8.0  NaN\n",
      "2  3.0  3.0  NaN  NaN  NaN  NaN  NaN\n",
      "3  4.0  4.0  NaN  NaN  NaN  NaN  NaN\n",
      "4  5.0  NaN  NaN  NaN  NaN  NaN  NaN\n",
      "5  7.0  NaN  NaN  NaN  NaN  NaN  NaN\n",
      "------------------------------\n",
      "r=6.0\n",
      "     0    1    2    3    4    5    6\n",
      "0  1.0  1.0  3.0  3.0  3.0  4.0  4.0\n",
      "1  2.0  2.0  6.0  6.0  6.0  8.0  NaN\n",
      "2  3.0  3.0  NaN  NaN  NaN  NaN  NaN\n",
      "3  4.0  4.0  NaN  NaN  NaN  NaN  NaN\n",
      "4  5.0  NaN  NaN  NaN  NaN  NaN  NaN\n",
      "5  7.0  NaN  NaN  NaN  NaN  NaN  NaN\n",
      "------------------------------\n",
      "r=7.0\n",
      "     0    1    2    3    4    5    6\n",
      "0  1.0  1.0  3.0  3.0  3.0  4.0  4.0\n",
      "1  2.0  2.0  6.0  6.0  6.0  7.0  NaN\n",
      "2  3.0  3.0  NaN  NaN  NaN  NaN  NaN\n",
      "3  4.0  4.0  NaN  NaN  NaN  NaN  NaN\n",
      "4  5.0  NaN  NaN  NaN  NaN  NaN  NaN\n",
      "5  7.0  NaN  NaN  NaN  NaN  NaN  NaN\n",
      "------------------------------\n",
      "r=8.0\n",
      "     0    1    2    3    4    5    6\n",
      "0  1.0  1.0  3.0  3.0  3.0  4.0  4.0\n",
      "1  2.0  2.0  6.0  6.0  6.0  7.0  8.0\n",
      "2  3.0  3.0  NaN  NaN  NaN  NaN  NaN\n",
      "3  4.0  4.0  NaN  NaN  NaN  NaN  NaN\n",
      "4  5.0  NaN  NaN  NaN  NaN  NaN  NaN\n",
      "5  7.0  NaN  NaN  NaN  NaN  NaN  NaN\n"
     ]
    },
    {
     "data": {
      "text/plain": [
       "<__main__.YoungTableau at 0x7fecfb379d68>"
      ]
     },
     "execution_count": 213,
     "metadata": {},
     "output_type": "execute_result"
    }
   ],
   "source": [
    "T = YoungTableau()\n",
    "w = \"431323128746376365\"\n",
    "T.p_symbol(w)\n",
    "T.show()\n",
    "\n",
    "T.row_insertion(4, verbose=True)\n",
    "print(\"=\"*50)\n",
    "T.column_insertion(4, verbose=True)"
   ]
  },
  {
   "cell_type": "code",
   "execution_count": 214,
   "metadata": {},
   "outputs": [
    {
     "name": "stdout",
     "output_type": "stream",
     "text": [
      "     0    1    2    3    4    5\n",
      "0  1.0  1.0  3.0  3.0  3.0  4.0\n",
      "1  2.0  2.0  6.0  6.0  7.0  8.0\n",
      "2  3.0  3.0  NaN  NaN  NaN  NaN\n",
      "3  4.0  6.0  NaN  NaN  NaN  NaN\n",
      "4  5.0  NaN  NaN  NaN  NaN  NaN\n",
      "5  7.0  NaN  NaN  NaN  NaN  NaN\n",
      "r=4\n",
      "     0    1    2    3    4    5\n",
      "0  1.0  1.0  3.0  3.0  3.0  4.0\n",
      "1  2.0  2.0  6.0  6.0  7.0  8.0\n",
      "2  3.0  3.0  NaN  NaN  NaN  NaN\n",
      "3  4.0  6.0  NaN  NaN  NaN  NaN\n",
      "4  5.0  NaN  NaN  NaN  NaN  NaN\n",
      "5  7.0  NaN  NaN  NaN  NaN  NaN\n",
      "------------------------------\n",
      "r=4\n",
      "     0    1    2    3    4    5\n",
      "0  1.0  1.0  3.0  3.0  3.0  4.0\n",
      "1  2.0  2.0  6.0  6.0  7.0  8.0\n",
      "2  3.0  3.0  NaN  NaN  NaN  NaN\n",
      "3  4.0  4.0  NaN  NaN  NaN  NaN\n",
      "4  5.0  NaN  NaN  NaN  NaN  NaN\n",
      "5  7.0  NaN  NaN  NaN  NaN  NaN\n",
      "------------------------------\n",
      "r=6.0\n",
      "     0    1    2    3    4    5\n",
      "0  1.0  1.0  3.0  3.0  3.0  4.0\n",
      "1  2.0  2.0  6.0  6.0  7.0  8.0\n",
      "2  3.0  3.0  NaN  NaN  NaN  NaN\n",
      "3  4.0  4.0  NaN  NaN  NaN  NaN\n",
      "4  5.0  NaN  NaN  NaN  NaN  NaN\n",
      "5  7.0  NaN  NaN  NaN  NaN  NaN\n",
      "------------------------------\n",
      "r=6.0\n",
      "     0    1    2    3    4    5\n",
      "0  1.0  1.0  3.0  3.0  3.0  4.0\n",
      "1  2.0  2.0  6.0  6.0  7.0  8.0\n",
      "2  3.0  3.0  NaN  NaN  NaN  NaN\n",
      "3  4.0  4.0  NaN  NaN  NaN  NaN\n",
      "4  5.0  NaN  NaN  NaN  NaN  NaN\n",
      "5  7.0  NaN  NaN  NaN  NaN  NaN\n",
      "------------------------------\n",
      "r=6.0\n",
      "     0    1    2    3    4    5\n",
      "0  1.0  1.0  3.0  3.0  3.0  4.0\n",
      "1  2.0  2.0  6.0  6.0  6.0  8.0\n",
      "2  3.0  3.0  NaN  NaN  NaN  NaN\n",
      "3  4.0  4.0  NaN  NaN  NaN  NaN\n",
      "4  5.0  NaN  NaN  NaN  NaN  NaN\n",
      "5  7.0  NaN  NaN  NaN  NaN  NaN\n",
      "------------------------------\n",
      "r=7.0\n",
      "     0    1    2    3    4    5    6\n",
      "0  1.0  1.0  3.0  3.0  3.0  4.0  8.0\n",
      "1  2.0  2.0  6.0  6.0  6.0  7.0  NaN\n",
      "2  3.0  3.0  NaN  NaN  NaN  NaN  NaN\n",
      "3  4.0  4.0  NaN  NaN  NaN  NaN  NaN\n",
      "4  5.0  NaN  NaN  NaN  NaN  NaN  NaN\n",
      "5  7.0  NaN  NaN  NaN  NaN  NaN  NaN\n",
      "------------------------------\n",
      "==================================================\n",
      "r=4\n",
      "     0    1    2    3    4    5    6\n",
      "0  1.0  1.0  3.0  3.0  3.0  4.0  4.0\n",
      "1  2.0  2.0  6.0  6.0  6.0  7.0  NaN\n",
      "2  3.0  3.0  NaN  NaN  NaN  NaN  NaN\n",
      "3  4.0  4.0  NaN  NaN  NaN  NaN  NaN\n",
      "4  5.0  NaN  NaN  NaN  NaN  NaN  NaN\n",
      "5  7.0  NaN  NaN  NaN  NaN  NaN  NaN\n",
      "------------------------------\n",
      "r=8.0\n",
      "     0    1    2    3    4    5    6\n",
      "0  1.0  1.0  3.0  3.0  3.0  4.0  4.0\n",
      "1  2.0  2.0  6.0  6.0  6.0  7.0  8.0\n",
      "2  3.0  3.0  NaN  NaN  NaN  NaN  NaN\n",
      "3  4.0  4.0  NaN  NaN  NaN  NaN  NaN\n",
      "4  5.0  NaN  NaN  NaN  NaN  NaN  NaN\n",
      "5  7.0  NaN  NaN  NaN  NaN  NaN  NaN\n"
     ]
    },
    {
     "data": {
      "text/plain": [
       "<__main__.YoungTableau at 0x7fecfb383e80>"
      ]
     },
     "execution_count": 214,
     "metadata": {},
     "output_type": "execute_result"
    }
   ],
   "source": [
    "T = YoungTableau()\n",
    "w = \"431323128746376365\"\n",
    "T.p_symbol(w)\n",
    "T.show()\n",
    "\n",
    "\n",
    "T.column_insertion(4, verbose=True)\n",
    "print(\"=\"*50)\n",
    "T.row_insertion(4, verbose=True)\n"
   ]
  },
  {
   "cell_type": "code",
   "execution_count": null,
   "metadata": {},
   "outputs": [],
   "source": []
  }
 ],
 "metadata": {
  "kernelspec": {
   "display_name": "Python 3",
   "language": "python",
   "name": "python3"
  },
  "language_info": {
   "codemirror_mode": {
    "name": "ipython",
    "version": 3
   },
   "file_extension": ".py",
   "mimetype": "text/x-python",
   "name": "python",
   "nbconvert_exporter": "python",
   "pygments_lexer": "ipython3",
   "version": "3.7.5"
  }
 },
 "nbformat": 4,
 "nbformat_minor": 4
}
