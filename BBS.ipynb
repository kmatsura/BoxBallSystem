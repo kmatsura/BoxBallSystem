{
 "cells": [
  {
   "cell_type": "markdown",
   "metadata": {},
   "source": [
    "## import libraries we use"
   ]
  },
  {
   "cell_type": "code",
   "execution_count": 3,
   "metadata": {},
   "outputs": [],
   "source": [
    "import numpy as np\n",
    "import math\n",
    "import matplotlib.pyplot as plt\n",
    "import pandas as pd"
   ]
  },
  {
   "cell_type": "code",
   "execution_count": 4,
   "metadata": {},
   "outputs": [],
   "source": [
    "class Bbs:\n",
    "    ml = 37#length of box align \n",
    "    def __init__(self,array, ml = 37): #\"array\" represents configuration of balls.\n",
    "        self.boxlength = ml\n",
    "        self.box = np.array(array,dtype=int)\n",
    "        self.carrier = []\n",
    "        self.energy = 0\n",
    "        if (len(self.box) < ml): # fill array with empty boxes ubtil its length beccome ml.\n",
    "            self.box = np.concatenate([self.box,(np.ones(ml - int(len(self.box)),dtype=int))]) \n",
    "            \n",
    "    # Time evolution defined by T = K2K3...Kl+1\n",
    "    def time_evolve_inf(self, l = 1000):#\"l\" must be larger than the numbers of ball colors.\n",
    "        for i in range(l+1,1,-1): #i:l+1 to 2\n",
    "            count = sum(self.box  == i) # count the number of i-color balls.\n",
    "            p = 0 \n",
    "            while count > 0:\n",
    "                #print(i,count,self.box[p] == i)\n",
    "                if int(self.box[p]) == i:\n",
    "                    q = p + 1\n",
    "                    self.box[p] = 1\n",
    "                    while q < self.ml+2:\n",
    "                    \n",
    "                        if int(self.box[q]) == 1:\n",
    "                            self.box[q] = -i\n",
    "                            count -= 1\n",
    "                            break\n",
    "                        else:\n",
    "                            q += 1\n",
    "                    \n",
    "                else:\n",
    "                    p += 1\n",
    "                    \n",
    "        self.box = np.abs(self.box)\n",
    "        \n",
    "        return self\n",
    "\n",
    "    # time evolution Tl based on carrier and conbitional R\n",
    "    def time_evolve(self, l, verbose = True, calc_energy = False):\n",
    "        self.carrier = [1]*l # declare carrier\n",
    "        \n",
    "        if calc_energy == True:\n",
    "            energy_star = 0\n",
    "            \n",
    "        for i in range(len(self.box)):\n",
    "            self.carrier.sort()\n",
    "            \n",
    "            if calc_energy == True:\n",
    "                if self.box[i] <= self.carrier[0]:\n",
    "                    energy_star += 1\n",
    "                \n",
    "                    \n",
    "            \n",
    "            if (self.box[i] > self.carrier[0]):                \n",
    "                p = len(self.carrier) - 1\n",
    "                \n",
    "                while self.carrier[p] >= self.box[i]:\n",
    "                    p -= 1\n",
    "                #print(p,self.carrier[p],self.box[i])\n",
    "                #print(\"car\" + str(self.carrier))\n",
    "                \n",
    "                temp = self.box[i]\n",
    "                self.box[i] = self.carrier[p]\n",
    "                self.carrier[p] = temp\n",
    "                \n",
    "            else:\n",
    "                temp = self.box[i]\n",
    "                self.box[i] = self.carrier[l-1]\n",
    "                self.carrier[l-1] = temp\n",
    "                \n",
    "            if verbose == True:\n",
    "                    print(\"-\" * 50)\n",
    "                    print(\"carrier position:\" + str(i+1))\n",
    "                    print(\"box:\" + str(self.box))\n",
    "                    print(\"carrier:\" + str(self.carrier))\n",
    "        print(\"-\" * 50)\n",
    "        \n",
    "        if calc_energy == True:\n",
    "            self.energy = len(self.box) - energy_star\n",
    "            \n",
    "            \n",
    "        return self\n",
    "    \n",
    "    def reversecarrier_time_evolve(self, l, verbose = True):\n",
    "        self.carrier = [1]*l # declare carrier\n",
    "        for i in range(len(self.box)-1,-1,-1):#len(self.box)-1 to 0\n",
    "            self.carrier.sort()\n",
    "            if (self.box[i] > self.carrier[0]):\n",
    "                p = len(self.carrier) - 1\n",
    "                while self.carrier[p] >= self.box[i]:\n",
    "                    p -= 1\n",
    "                #print(p,self.carrier[p],self.box[i])\n",
    "                #print(\"car\" + str(self.carrier))\n",
    "                temp = self.box[i]\n",
    "                self.box[i] = self.carrier[p]\n",
    "                self.carrier[p] = temp\n",
    "                \n",
    "            else:\n",
    "                temp = self.box[i]\n",
    "                self.box[i] = self.carrier[l-1]\n",
    "                self.carrier[l-1] = temp\n",
    "                \n",
    "            if verbose == True:\n",
    "                    print(\"-\" * 50)\n",
    "                    print(\"carrier position:\" + str(i+1))\n",
    "                    print(\"box:\" + str(self.box))\n",
    "                    print(\"carrier:\" + str(self.carrier))\n",
    "        print(\"-\" * 50)\n",
    "            \n",
    "        return self             "
   ]
  },
  {
   "cell_type": "markdown",
   "metadata": {},
   "source": [
    "## Ex0: Time evolution infinity"
   ]
  },
  {
   "cell_type": "code",
   "execution_count": 6,
   "metadata": {},
   "outputs": [
    {
     "name": "stdout",
     "output_type": "stream",
     "text": [
      "t=0:[3 2 2 1 1 1 2 2 1 2 1 1 1 1 1 1 1 1 1 1 1 1 1 1 1 1 1 1 1 1 1 1 1 1 1 1 1]\n",
      "--------------------------------------------------\n",
      "t=1:[1 1 1 3 2 2 1 1 2 1 2 2 1 1 1 1 1 1 1 1 1 1 1 1 1 1 1 1 1 1 1 1 1 1 1 1 1]\n",
      "--------------------------------------------------\n",
      "t=2:[1 1 1 1 1 1 3 2 1 2 1 1 2 2 2 1 1 1 1 1 1 1 1 1 1 1 1 1 1 1 1 1 1 1 1 1 1]\n",
      "--------------------------------------------------\n",
      "t=3:[1 1 1 1 1 1 1 1 3 1 2 2 1 1 1 2 2 2 1 1 1 1 1 1 1 1 1 1 1 1 1 1 1 1 1 1 1]\n",
      "--------------------------------------------------\n",
      "t=4:[1 1 1 1 1 1 1 1 1 3 1 1 2 2 1 1 1 1 2 2 2 1 1 1 1 1 1 1 1 1 1 1 1 1 1 1 1]\n"
     ]
    }
   ],
   "source": [
    "x = Bbs(np.array([3,2,2,1,1,1,2,2,1,2]))\n",
    "print(\"t=\" + str(0) + \":\" + str(x.box))\n",
    "for i in range(1,5):\n",
    "    x.time_evolve_inf()\n",
    "    print(\"-\" * 50)\n",
    "    print(\"t=\" + str(i) + \":\" + str(x.box))"
   ]
  },
  {
   "cell_type": "markdown",
   "metadata": {},
   "source": [
    "## Ex1: Time evolution"
   ]
  },
  {
   "cell_type": "code",
   "execution_count": 18,
   "metadata": {},
   "outputs": [
    {
     "name": "stdout",
     "output_type": "stream",
     "text": [
      "t=0:[2 3 5 1 2 4 4 4 3 1 1 1 1 1 1 1 1 1 1 1 1 1 1 1 1 1 1 1 1 1 1 1 1 1 1 1 1]\n",
      "--------------------------------------------------\n",
      "t=1:[1 2 3 5 1 2 1 4 4 4 3 1 1 1 1 1 1 1 1 1 1 1 1 1 1 1 1 1 1 1 1 1 1 1 1 1 1]\n",
      "--------------------------------------------------\n",
      "t=2:[1 1 2 3 5 1 2 1 1 4 4 4 3 1 1 1 1 1 1 1 1 1 1 1 1 1 1 1 1 1 1 1 1 1 1 1 1]\n",
      "--------------------------------------------------\n",
      "t=3:[1 1 1 2 3 5 1 2 1 1 1 4 4 4 3 1 1 1 1 1 1 1 1 1 1 1 1 1 1 1 1 1 1 1 1 1 1]\n",
      "--------------------------------------------------\n",
      "t=4:[1 1 1 1 2 3 5 1 2 1 1 1 1 4 4 4 3 1 1 1 1 1 1 1 1 1 1 1 1 1 1 1 1 1 1 1 1]\n"
     ]
    }
   ],
   "source": [
    "x = Bbs(np.array([2,3,5,1,2,4,4,4,3]))\n",
    "\n",
    "print(\"t=\" + str(0) + \":\" + str(x.box))\n",
    "for i in range(1,5):\n",
    "    x.time_evolve(l = 2,verbose = False)\n",
    "    print(\"t=\" + str(i) + \":\" + str(x.box))"
   ]
  },
  {
   "cell_type": "markdown",
   "metadata": {},
   "source": [
    "## Ex2:Reverse Carrier Time evolution"
   ]
  },
  {
   "cell_type": "code",
   "execution_count": 147,
   "metadata": {},
   "outputs": [
    {
     "name": "stdout",
     "output_type": "stream",
     "text": [
      "--------------------------------------------------\n",
      "t=5:[1 1 1 1 1 2 1 1 1 1 1 2 2 2 1 1 1 1 1 1 1 1 1 1 1 1 1 1 1 1 1 1 1 1 1 1 1]\n",
      "--------------------------------------------------\n",
      "t=6:[1 1 1 1 2 1 1 1 2 2 2 1 1 1 1 1 1 1 1 1 1 1 1 1 1 1 1 1 1 1 1 1 1 1 1 1 1]\n",
      "--------------------------------------------------\n",
      "t=7:[1 1 1 2 1 2 2 2 1 1 1 1 1 1 1 1 1 1 1 1 1 1 1 1 1 1 1 1 1 1 1 1 1 1 1 1 1]\n",
      "--------------------------------------------------\n",
      "t=8:[2 2 2 1 2 1 1 1 1 1 1 1 1 1 1 1 1 1 1 1 1 1 1 1 1 1 1 1 1 1 1 1 1 1 1 1 1]\n"
     ]
    }
   ],
   "source": [
    "# carrierを逆に走らせてみる\n",
    "for i in range(1,5):\n",
    "    x.reversecarrier_time_evolve(l = 10,verbose = False)\n",
    "    print(\"t=\" + str(i+4) + \":\" + str(x.box))"
   ]
  },
  {
   "cell_type": "markdown",
   "metadata": {},
   "source": [
    "## Ex2 Energy Measurement"
   ]
  },
  {
   "cell_type": "code",
   "execution_count": 36,
   "metadata": {},
   "outputs": [
    {
     "name": "stdout",
     "output_type": "stream",
     "text": [
      "[2 3 5 1 2 4 4 4 3 1 1 1 1 1 1 1 1 1 1 1 1 1 1 1 1 1 1 1 1 1 1 1 1 1 1 1 1\n",
      " 1 1 1 1 1 1 1 1 1 1 1 1 1 1 1 1 1 1 1 1 1 1 1 1 1 1 1 1 1 1 1 1 1 1 1 1 1\n",
      " 1 1 1 1 1 1 1 1 1 1 1 1 1 1 1 1 1 1 1 1 1 1 1 1 1 1]\n",
      "--------------------------------------------------\n",
      "E_1 = 5\n",
      "--------------------------------------------------\n",
      "E_2 = 6\n",
      "--------------------------------------------------\n",
      "E_3 = 7\n",
      "--------------------------------------------------\n",
      "E_4 = 8\n",
      "--------------------------------------------------\n",
      "E_5 = 8\n",
      "--------------------------------------------------\n",
      "E_6 = 8\n"
     ]
    }
   ],
   "source": [
    "x = Bbs(np.array([2,3,5,1,2,4,4,4,3]),ml=100)\n",
    "print(str(x.box))\n",
    "\n",
    "for i in range(1,7):\n",
    "    x = Bbs(np.array([2,3,5,1,2,4,4,4,3]))\n",
    "    x.time_evolve(l = i,verbose = False, calc_energy = True)\n",
    "    print(\"E_\" + str(i) + \" = \" + str(x.energy))"
   ]
  },
  {
   "cell_type": "code",
   "execution_count": 35,
   "metadata": {},
   "outputs": [
    {
     "name": "stdout",
     "output_type": "stream",
     "text": [
      "t=0:[2 3 5 1 2 4 4 4 3 1 1 1 1 1 1 1 1 1 1 1 1 1 1 1 1 1 1 1 1 1 1 1 1 1 1 1 1\n",
      " 1 1 1 1 1 1 1 1 1 1 1 1 1 1 1 1 1 1 1 1 1 1 1 1 1 1 1 1 1 1 1 1 1 1 1 1 1\n",
      " 1 1 1 1 1 1 1 1 1 1 1 1 1 1 1 1 1 1 1 1 1 1 1 1 1 1]\n",
      "--------------------------------------------------\n",
      "t=1:[1 2 3 5 1 2 1 1 1 4 4 4 3 1 1 1 1 1 1 1 1 1 1 1 1 1 1 1 1 1 1 1 1 1 1 1 1\n",
      " 1 1 1 1 1 1 1 1 1 1 1 1 1 1 1 1 1 1 1 1 1 1 1 1 1 1 1 1 1 1 1 1 1 1 1 1 1\n",
      " 1 1 1 1 1 1 1 1 1 1 1 1 1 1 1 1 1 1 1 1 1 1 1 1 1 1]\n",
      "--------------------------------------------------\n",
      "t=2:[1 1 2 3 5 1 2 1 1 1 1 1 1 4 4 4 3 1 1 1 1 1 1 1 1 1 1 1 1 1 1 1 1 1 1 1 1\n",
      " 1 1 1 1 1 1 1 1 1 1 1 1 1 1 1 1 1 1 1 1 1 1 1 1 1 1 1 1 1 1 1 1 1 1 1 1 1\n",
      " 1 1 1 1 1 1 1 1 1 1 1 1 1 1 1 1 1 1 1 1 1 1 1 1 1 1]\n",
      "--------------------------------------------------\n",
      "t=3:[1 1 1 2 3 5 1 2 1 1 1 1 1 1 1 1 1 4 4 4 3 1 1 1 1 1 1 1 1 1 1 1 1 1 1 1 1\n",
      " 1 1 1 1 1 1 1 1 1 1 1 1 1 1 1 1 1 1 1 1 1 1 1 1 1 1 1 1 1 1 1 1 1 1 1 1 1\n",
      " 1 1 1 1 1 1 1 1 1 1 1 1 1 1 1 1 1 1 1 1 1 1 1 1 1 1]\n",
      "--------------------------------------------------\n",
      "t=4:[1 1 1 1 2 3 5 1 2 1 1 1 1 1 1 1 1 1 1 1 1 4 4 4 3 1 1 1 1 1 1 1 1 1 1 1 1\n",
      " 1 1 1 1 1 1 1 1 1 1 1 1 1 1 1 1 1 1 1 1 1 1 1 1 1 1 1 1 1 1 1 1 1 1 1 1 1\n",
      " 1 1 1 1 1 1 1 1 1 1 1 1 1 1 1 1 1 1 1 1 1 1 1 1 1 1]\n",
      "--------------------------------------------------\n",
      "E_1 = 5\n",
      "--------------------------------------------------\n",
      "E_2 = 6\n",
      "--------------------------------------------------\n",
      "E_3 = 7\n",
      "--------------------------------------------------\n",
      "E_4 = 8\n",
      "--------------------------------------------------\n",
      "E_5 = 8\n",
      "--------------------------------------------------\n",
      "E_6 = 8\n"
     ]
    }
   ],
   "source": [
    "x = Bbs(np.array([2,3,5,1,2,4,4,4,3]),ml=100)\n",
    "print(\"t=\" + str(0) + \":\" + str(x.box))\n",
    "for i in range(4):\n",
    "    x.time_evolve(l = 6, verbose = False)\n",
    "    print(\"t=\" + str(i+1) + \":\" + str(x.box))\n",
    "    \n",
    "X = x\n",
    "\n",
    "for i in range(1,7):\n",
    "    x = X\n",
    "    x.time_evolve(l = i,verbose = False, calc_energy = True)\n",
    "    print(\"E_\" + str(i) + \" = \" + str(x.energy))"
   ]
  },
  {
   "cell_type": "code",
   "execution_count": null,
   "metadata": {},
   "outputs": [],
   "source": []
  }
 ],
 "metadata": {
  "kernelspec": {
   "display_name": "Python 3",
   "language": "python",
   "name": "python3"
  },
  "language_info": {
   "codemirror_mode": {
    "name": "ipython",
    "version": 3
   },
   "file_extension": ".py",
   "mimetype": "text/x-python",
   "name": "python",
   "nbconvert_exporter": "python",
   "pygments_lexer": "ipython3",
   "version": "3.6.8"
  }
 },
 "nbformat": 4,
 "nbformat_minor": 4
}
