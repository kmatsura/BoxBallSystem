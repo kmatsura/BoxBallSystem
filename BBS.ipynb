{
 "cells": [
  {
   "cell_type": "markdown",
   "metadata": {},
   "source": [
    "## import libraries we use"
   ]
  },
  {
   "cell_type": "code",
   "execution_count": 1,
   "metadata": {},
   "outputs": [],
   "source": [
    "import numpy as np\n",
    "import math\n",
    "import matplotlib.pyplot as plt\n",
    "import pandas as pd"
   ]
  },
  {
   "cell_type": "markdown",
   "metadata": {},
   "source": [
    "### define BBS class"
   ]
  },
  {
   "cell_type": "code",
   "execution_count": 2,
   "metadata": {},
   "outputs": [],
   "source": [
    "class Bbs:\n",
    "    ml = 37#length of box align \n",
    "    def __init__(self,array, ml = 37): #\"array\" represents configuration of balls.\n",
    "        self.boxlength = ml\n",
    "        self.box = np.array(array,dtype=int)\n",
    "        self.carrier = []\n",
    "        self.energy = 0\n",
    "        if (len(self.box) < ml): # fill array with empty boxes ubtil its length beccome ml.\n",
    "            self.box = np.concatenate([self.box,(np.ones(ml - int(len(self.box)),dtype=int))]) \n",
    "            \n",
    "    # Time evolution defined by T = K2K3...Kl+1\n",
    "    def time_evolve_inf(self, l = 1000):#\"l\" must be larger than the numbers of ball colors.\n",
    "        for i in range(l+1,1,-1): #i:l+1 to 2\n",
    "            count = sum(self.box  == i) # count the number of i-color balls.\n",
    "            p = 0 \n",
    "            while count > 0:\n",
    "                #print(i,count,self.box[p] == i)\n",
    "                if int(self.box[p]) == i:\n",
    "                    q = p + 1\n",
    "                    self.box[p] = 1\n",
    "                    while q < self.ml+2:\n",
    "                    \n",
    "                        if int(self.box[q]) == 1:\n",
    "                            self.box[q] = -i\n",
    "                            count -= 1\n",
    "                            break\n",
    "                        else:\n",
    "                            q += 1\n",
    "                    \n",
    "                else:\n",
    "                    p += 1\n",
    "                    \n",
    "        self.box = np.abs(self.box)\n",
    "        \n",
    "        return self\n",
    "\n",
    "    # time evolution Tl based on carrier and conbitional R\n",
    "    def time_evolve(self, l, verbose = True, calc_energy = False):\n",
    "        self.carrier = [1]*l # declare carrier\n",
    "        \n",
    "        if calc_energy == True:\n",
    "            energy_star = 0\n",
    "            \n",
    "        for i in range(len(self.box)):\n",
    "            self.carrier.sort()\n",
    "            \n",
    "            if calc_energy == True:\n",
    "                if self.box[i] <= self.carrier[0]:\n",
    "                    energy_star += 1\n",
    "                \n",
    "                    \n",
    "            \n",
    "            if (self.box[i] > self.carrier[0]):                \n",
    "                p = len(self.carrier) - 1\n",
    "                \n",
    "                while self.carrier[p] >= self.box[i]:\n",
    "                    p -= 1\n",
    "                #print(p,self.carrier[p],self.box[i])\n",
    "                #print(\"car\" + str(self.carrier))\n",
    "                \n",
    "                temp = self.box[i]\n",
    "                self.box[i] = self.carrier[p]\n",
    "                self.carrier[p] = temp\n",
    "                \n",
    "            else:\n",
    "                temp = self.box[i]\n",
    "                self.box[i] = self.carrier[l-1]\n",
    "                self.carrier[l-1] = temp\n",
    "                \n",
    "            if verbose == True:\n",
    "                    print(\"-\" * 50)\n",
    "                    print(\"carrier position:\" + str(i+1))\n",
    "                    print(\"box:\" + str(self.box))\n",
    "                    print(\"carrier:\" + str(self.carrier))\n",
    "        print(\"-\" * 50)\n",
    "        \n",
    "        if calc_energy == True:\n",
    "            self.energy = len(self.box) - energy_star\n",
    "            \n",
    "            \n",
    "        return self\n",
    "    \n",
    "    def reversecarrier_time_evolve(self, l, verbose = True):\n",
    "        self.carrier = [1]*l # declare carrier\n",
    "        for i in range(len(self.box)-1,-1,-1):#len(self.box)-1 to 0\n",
    "            self.carrier.sort()\n",
    "            if (self.box[i] > self.carrier[0]):\n",
    "                p = len(self.carrier) - 1\n",
    "                while self.carrier[p] >= self.box[i]:\n",
    "                    p -= 1\n",
    "                #print(p,self.carrier[p],self.box[i])\n",
    "                #print(\"car\" + str(self.carrier))\n",
    "                temp = self.box[i]\n",
    "                self.box[i] = self.carrier[p]\n",
    "                self.carrier[p] = temp\n",
    "                \n",
    "            else:\n",
    "                temp = self.box[i]\n",
    "                self.box[i] = self.carrier[l-1]\n",
    "                self.carrier[l-1] = temp\n",
    "                \n",
    "            if verbose == True:\n",
    "                    print(\"-\" * 50)\n",
    "                    print(\"carrier position:\" + str(i+1))\n",
    "                    print(\"box:\" + str(self.box))\n",
    "                    print(\"carrier:\" + str(self.carrier))\n",
    "        print(\"-\" * 50)\n",
    "        return self\n",
    "        \n",
    "    def random_bit_inversion(p):\n",
    "        np.random.choice(p)\n",
    "\n",
    "        return"
   ]
  },
  {
   "cell_type": "code",
   "execution_count": 3,
   "metadata": {},
   "outputs": [
    {
     "data": {
      "text/plain": [
       "1"
      ]
     },
     "execution_count": 3,
     "metadata": {},
     "output_type": "execute_result"
    }
   ],
   "source": [
    "np.random.choice([1,2,3,4])"
   ]
  },
  {
   "cell_type": "markdown",
   "metadata": {},
   "source": [
    "### define Periodic BBS(1-color) class"
   ]
  },
  {
   "cell_type": "code",
   "execution_count": 6,
   "metadata": {},
   "outputs": [],
   "source": [
    "class Periodic_bbs:# p is the configuration of balls\n",
    "    \n",
    "    def __init__(self, p):\n",
    "        if type(p) == int:\n",
    "            p = str(p)\n",
    "            self.boxlength = len(p)\n",
    "            p_array = np.zeros(len(p), dtype = int)\n",
    "            for i in range(len(p)):\n",
    "                p_array[i] = int(p[i])\n",
    "        \n",
    "        else:\n",
    "            p_array = np.array(p)\n",
    "            self.boxlength = len(p)\n",
    "            \n",
    "        self.box = p_array\n",
    "        self.carrier = []\n",
    "        self.energy = 0\n",
    "        self.time = 0\n",
    "        self.log = []\n",
    "        \n",
    "        return\n",
    "    \n",
    "\n",
    "    \n",
    "    def combitional_R(self, vl, b):\n",
    "        vl = np.sort(vl)\n",
    "        if b == 1:\n",
    "            if max(vl) == 1:\n",
    "                vl = vl\n",
    "                b_dash = b\n",
    "            \n",
    "            elif max(vl) == 2:\n",
    "                vl[-1] = 1\n",
    "                vl = np.sort(vl)\n",
    "                b_dash = 2\n",
    "            else:\n",
    "                print(\"error\")\n",
    "        \n",
    "        elif b == 2:\n",
    "            if min(vl) == 2:\n",
    "                vl = vl\n",
    "                b_dash = b\n",
    "            elif min(vl) == 1:\n",
    "                vl[0] = 2\n",
    "                vl = np.sort(vl)\n",
    "                b_dash = 1\n",
    "            else:\n",
    "                print(\"error\")\n",
    "            \n",
    "        return vl, b_dash\n",
    "                \n",
    "        \n",
    "    \n",
    "    def map_R(self, vl):\n",
    "        p_dash = self.box.copy()\n",
    "        for i in range(len(self.box)):\n",
    "            b = self.box[i]\n",
    "            vl, b_dash =  self.combitional_R(vl ,b)\n",
    "            p_dash[i] = b_dash\n",
    "        #self.box = p_dash\n",
    "        return vl, p_dash\n",
    "    \n",
    "    def time_evolve(self, l, calc_energy = False, print_result = True):\n",
    "        self.time += 1\n",
    "        vl = np.ones(l)\n",
    "        vl_new = np.zeros(l)\n",
    "        p_temp = self.box.copy()\n",
    "        #from IPython.core.debugger import Pdb; Pdb().set_trace()\n",
    "        for i in range(l+100):\n",
    "            vl = np.sort(vl)\n",
    "            self.box = p_temp.copy()\n",
    "            vl_new, p_dash = self.map_R(vl)\n",
    "            if (vl != vl_new).any():\n",
    "                vl[0] = 2\n",
    "            elif (vl == vl_new).all():\n",
    "                break\n",
    "            else:\n",
    "                print(\"error\")\n",
    "        if calc_energy == True:\n",
    "            self.energy = np.count_nonzero((p_dash - p_temp) == -1)\n",
    "        self.box = p_dash\n",
    "        self.log.append(self.box)\n",
    "        if print_result == True:\n",
    "            if calc_energy == True:\n",
    "                print(\"t = {0} | system = {1} | energy = {2}\".format(self.time, self.box, self.energy))\n",
    "            else:\n",
    "                print(\"t = {0} | {1}\".format(self.time, self.box))\n",
    "        \n",
    "        return vl_new, self.box\n",
    "    \n",
    "        \n",
    "    def time_evolve2(self, l, calc_energy = False, print_result = True):\n",
    "        self.time += 1\n",
    "        vl = np.ones(l)\n",
    "        vl_new = np.zeros(l)\n",
    "        p_temp = self.box.copy()\n",
    "        #from IPython.core.debugger import Pdb; Pdb().set_trace()\n",
    "        vl = np.sort(vl)\n",
    "        self.box = p_temp.copy()\n",
    "        vl_new, p_dash = self.map_R(vl)\n",
    "        vl_new, p_dash = self.map_R(vl_new) \n",
    "        if calc_energy == True:\n",
    "            self.energy = np.count_nonzero((p_dash - p_temp) == -1)\n",
    "        self.box = p_dash\n",
    "        self.log.append(self.box)\n",
    "        if print_result == True:\n",
    "            if calc_energy == True:\n",
    "                print(\"t = {0} | system = {1} | energy = {2}\".format(self.time, self.box, self.energy))\n",
    "            else:\n",
    "                print(\"t = {0} | {1}\".format(self.time, self.box))\n",
    "        \n",
    "        return vl_new, self.box\n",
    "    \n",
    "    \n"
   ]
  },
  {
   "cell_type": "code",
   "execution_count": 11,
   "metadata": {},
   "outputs": [],
   "source": [
    "pbc = 11221212111222121"
   ]
  },
  {
   "cell_type": "code",
   "execution_count": 12,
   "metadata": {},
   "outputs": [
    {
     "data": {
      "text/plain": [
       "(0, array([1, 1, 2, 2, 1, 2, 1, 2, 1, 1, 1, 2, 2, 2, 1, 2, 1]))"
      ]
     },
     "execution_count": 12,
     "metadata": {},
     "output_type": "execute_result"
    }
   ],
   "source": [
    "pb = Periodic_bbs(pbc)\n",
    "pb.time,pb.box"
   ]
  },
  {
   "cell_type": "code",
   "execution_count": 13,
   "metadata": {},
   "outputs": [
    {
     "name": "stdout",
     "output_type": "stream",
     "text": [
      "t = 1 | [2 2 1 1 2 1 2 1 2 2 1 1 1 1 2 1 2]\n"
     ]
    },
    {
     "data": {
      "text/plain": [
       "(array([1., 1., 1., 1., 1., 1., 1., 1., 2., 2.]),\n",
       " array([2, 2, 1, 1, 2, 1, 2, 1, 2, 2, 1, 1, 1, 1, 2, 1, 2]))"
      ]
     },
     "execution_count": 13,
     "metadata": {},
     "output_type": "execute_result"
    }
   ],
   "source": [
    "pb.time_evolve2(10)"
   ]
  },
  {
   "cell_type": "code",
   "execution_count": 7,
   "metadata": {},
   "outputs": [
    {
     "name": "stdout",
     "output_type": "stream",
     "text": [
      "t = 1 | system = [1 2 1 2 1 2 1 2 2 1 1 2 2 1 1 1 2 2 2 1 2 1 2 1 2 1 1] | energy = 13\n"
     ]
    },
    {
     "data": {
      "text/plain": [
       "(array([1., 1., 2.]),\n",
       " array([1, 2, 1, 2, 1, 2, 1, 2, 2, 1, 1, 2, 2, 1, 1, 1, 2, 2, 2, 1, 2, 1,\n",
       "        2, 1, 2, 1, 1]))"
      ]
     },
     "execution_count": 7,
     "metadata": {},
     "output_type": "execute_result"
    }
   ],
   "source": [
    "pb = Periodic_bbs(pbc)\n",
    "pb.time,pb.box\n",
    "pb.time_evolve2(3, calc_energy=True)"
   ]
  },
  {
   "cell_type": "markdown",
   "metadata": {},
   "source": [
    "### define Young tableau class"
   ]
  },
  {
   "cell_type": "code",
   "execution_count": 8,
   "metadata": {},
   "outputs": [],
   "source": [
    "class YoungTableau():\n",
    "    def __init__(self):\n",
    "        self.table = []\n",
    "    \n",
    "\n",
    "    def row_insertion(self, r, verbose = False):\n",
    "        if len(self.table) == 0: \n",
    "            self.table = [[r]]\n",
    "        else:\n",
    "            for i in range(len(self.table)):\n",
    "                if verbose == True:\n",
    "                    print(\"r={}\".format(r))\n",
    "                if self.table[i][-1] <= r:# end\n",
    "                    self.table[i].append(r)\n",
    "                    if verbose == True:\n",
    "                        self.show()\n",
    "                    break\n",
    "                else: #continue\n",
    "                    p = 0\n",
    "                    for p in range(len(self.table[i])):\n",
    "                        if (self.table[i][p] - r) > 0:\n",
    "                            temp = r\n",
    "                            r = self.table[i][p]\n",
    "                            self.table[i][p] = temp\n",
    "                            break\n",
    "                            \n",
    "                if (i+1) == len(self.table):                    \n",
    "                    self.table.append([r])\n",
    "                if verbose == True:                    \n",
    "                    self.show()\n",
    "                    print(\"-\"*30)\n",
    "        return self\n",
    "                    \n",
    "    def list_convertion(self):\n",
    "        temp = pd.DataFrame(self.table)\n",
    "        new_list = []\n",
    "        for i in range(temp.shape[1]):\n",
    "            new_list.append(list(temp[i].dropna()))\n",
    "        self.table = new_list\n",
    "        return self\n",
    "        \n",
    "    \n",
    "    def column_insertion(self,r, verbose = False):\n",
    "        if len(self.table) == 0:\n",
    "            self.table = [[r]]\n",
    "        else:\n",
    "            self.table = self.list_convertion().table\n",
    "            for i in range(len(self.table)):\n",
    "                if verbose == True:\n",
    "                    print(\"r={}\".format(r))            \n",
    "                if self.table[i][-1] < r:\n",
    "                    self.table[i].append(r)\n",
    "                    if verbose == True:\n",
    "                        self.list_convertion().show()\n",
    "                        self.list_convertion()\n",
    "                    break\n",
    "                else: #continue\n",
    "                    p = 0\n",
    "                    for p in range(len(self.table[i])):\n",
    "                        if (self.table[i][p] - r) >= 0:\n",
    "                            temp = r\n",
    "                            r = self.table[i][p]\n",
    "                            self.table[i][p] = temp                            \n",
    "                            break\n",
    "                \n",
    "                if (i+1) == len(self.table):\n",
    "                    self.table.append([r])\n",
    "                if verbose == True:\n",
    "                    self.list_convertion().show()\n",
    "                    self.list_convertion()\n",
    "                    print(\"-\"*30)\n",
    "        self.table = self.list_convertion().table\n",
    "        return self\n",
    "    \n",
    "    def p_symbol(self, w, verbose = False):\n",
    "        w = str(w)\n",
    "        for char in w[::-1]:\n",
    "            self.row_insertion(int(char))\n",
    "            if verbose == True:             \n",
    "                self.show()\n",
    "                print(\"-\"*30)\n",
    "        return self                    \n",
    "                \n",
    "    def show(self,astype = float):\n",
    "        print(pd.DataFrame(self.table).astype(astype))\n",
    "        "
   ]
  },
  {
   "cell_type": "code",
   "execution_count": 9,
   "metadata": {},
   "outputs": [
    {
     "ename": "SyntaxError",
     "evalue": "invalid syntax (<ipython-input-9-c13afe84b35b>, line 10)",
     "output_type": "error",
     "traceback": [
      "\u001b[0;36m  File \u001b[0;32m\"<ipython-input-9-c13afe84b35b>\"\u001b[0;36m, line \u001b[0;32m10\u001b[0m\n\u001b[0;31m    def add_Young\u001b[0m\n\u001b[0m                 ^\u001b[0m\n\u001b[0;31mSyntaxError\u001b[0m\u001b[0;31m:\u001b[0m invalid syntax\n"
     ]
    }
   ],
   "source": [
    "class YoungTableauSet():\n",
    "    def __init__(self, word):\n",
    "        self.list = []\n",
    "        mu0 = YoungTableau()\n",
    "        mu0.p_symbol(word)\n",
    "        self.list.append(mu0)\n",
    "        return None\n",
    "    \n",
    "    \n",
    "    def add_Young\n",
    "    \n",
    "    \n",
    "    def show(self):\n",
    "        for i in range(len(self.list)):\n",
    "            self.list[i].show()"
   ]
  },
  {
   "cell_type": "code",
   "execution_count": 10,
   "metadata": {},
   "outputs": [
    {
     "data": {
      "text/plain": [
       "<__main__.YoungTableau at 0x7f00bd24f850>"
      ]
     },
     "execution_count": 10,
     "metadata": {},
     "output_type": "execute_result"
    }
   ],
   "source": [
    "YoungTableau()"
   ]
  },
  {
   "cell_type": "code",
   "execution_count": 11,
   "metadata": {},
   "outputs": [
    {
     "ename": "NameError",
     "evalue": "name 'YoungTableauSet' is not defined",
     "output_type": "error",
     "traceback": [
      "\u001b[0;31m---------------------------------------------------------------------------\u001b[0m",
      "\u001b[0;31mNameError\u001b[0m                                 Traceback (most recent call last)",
      "\u001b[0;32m<ipython-input-11-463889da634b>\u001b[0m in \u001b[0;36m<module>\u001b[0;34m\u001b[0m\n\u001b[0;32m----> 1\u001b[0;31m \u001b[0mmu\u001b[0m \u001b[0;34m=\u001b[0m \u001b[0mYoungTableauSet\u001b[0m\u001b[0;34m(\u001b[0m\u001b[0;36m124124\u001b[0m\u001b[0;34m)\u001b[0m\u001b[0;34m\u001b[0m\u001b[0;34m\u001b[0m\u001b[0m\n\u001b[0m",
      "\u001b[0;31mNameError\u001b[0m: name 'YoungTableauSet' is not defined"
     ]
    }
   ],
   "source": [
    "mu = YoungTableauSet(124124)"
   ]
  },
  {
   "cell_type": "code",
   "execution_count": 12,
   "metadata": {},
   "outputs": [
    {
     "ename": "NameError",
     "evalue": "name 'mu' is not defined",
     "output_type": "error",
     "traceback": [
      "\u001b[0;31m---------------------------------------------------------------------------\u001b[0m",
      "\u001b[0;31mNameError\u001b[0m                                 Traceback (most recent call last)",
      "\u001b[0;32m<ipython-input-12-ad1a7c63ec7d>\u001b[0m in \u001b[0;36m<module>\u001b[0;34m\u001b[0m\n\u001b[0;32m----> 1\u001b[0;31m \u001b[0mmu\u001b[0m\u001b[0;34m.\u001b[0m\u001b[0mshow\u001b[0m\u001b[0;34m(\u001b[0m\u001b[0;34m)\u001b[0m\u001b[0;34m\u001b[0m\u001b[0;34m\u001b[0m\u001b[0m\n\u001b[0m",
      "\u001b[0;31mNameError\u001b[0m: name 'mu' is not defined"
     ]
    }
   ],
   "source": [
    "mu.show()"
   ]
  },
  {
   "cell_type": "markdown",
   "metadata": {},
   "source": [
    "## Ex0: Time evolution infinity"
   ]
  },
  {
   "cell_type": "code",
   "execution_count": 13,
   "metadata": {},
   "outputs": [
    {
     "name": "stdout",
     "output_type": "stream",
     "text": [
      "t=0:[3 2 2 1 1 1 2 2 1 2 1 1 1 1 1 1 1 1 1 1 1 1 1 1 1 1 1 1 1 1 1 1 1 1 1 1 1]\n",
      "--------------------------------------------------\n",
      "t=1:[1 1 1 3 2 2 1 1 2 1 2 2 1 1 1 1 1 1 1 1 1 1 1 1 1 1 1 1 1 1 1 1 1 1 1 1 1]\n",
      "--------------------------------------------------\n",
      "t=2:[1 1 1 1 1 1 3 2 1 2 1 1 2 2 2 1 1 1 1 1 1 1 1 1 1 1 1 1 1 1 1 1 1 1 1 1 1]\n",
      "--------------------------------------------------\n",
      "t=3:[1 1 1 1 1 1 1 1 3 1 2 2 1 1 1 2 2 2 1 1 1 1 1 1 1 1 1 1 1 1 1 1 1 1 1 1 1]\n",
      "--------------------------------------------------\n",
      "t=4:[1 1 1 1 1 1 1 1 1 3 1 1 2 2 1 1 1 1 2 2 2 1 1 1 1 1 1 1 1 1 1 1 1 1 1 1 1]\n"
     ]
    }
   ],
   "source": [
    "x = Bbs(np.array([3,2,2,1,1,1,2,2,1,2]))\n",
    "print(\"t=\" + str(0) + \":\" + str(x.box))\n",
    "for i in range(1,5):\n",
    "    x.time_evolve_inf()\n",
    "    print(\"-\" * 50)\n",
    "    print(\"t=\" + str(i) + \":\" + str(x.box))"
   ]
  },
  {
   "cell_type": "markdown",
   "metadata": {},
   "source": [
    "## Ex1: Time evolution"
   ]
  },
  {
   "cell_type": "code",
   "execution_count": 14,
   "metadata": {},
   "outputs": [
    {
     "name": "stdout",
     "output_type": "stream",
     "text": [
      "t=0:[2 3 5 1 2 4 4 4 3 1 1 1 1 1 1 1 1 1 1 1 1 1 1 1 1 1 1 1 1 1 1 1 1 1 1 1 1]\n",
      "--------------------------------------------------\n",
      "t=1:[1 2 3 5 1 2 1 4 4 4 3 1 1 1 1 1 1 1 1 1 1 1 1 1 1 1 1 1 1 1 1 1 1 1 1 1 1]\n",
      "--------------------------------------------------\n",
      "t=2:[1 1 2 3 5 1 2 1 1 4 4 4 3 1 1 1 1 1 1 1 1 1 1 1 1 1 1 1 1 1 1 1 1 1 1 1 1]\n",
      "--------------------------------------------------\n",
      "t=3:[1 1 1 2 3 5 1 2 1 1 1 4 4 4 3 1 1 1 1 1 1 1 1 1 1 1 1 1 1 1 1 1 1 1 1 1 1]\n",
      "--------------------------------------------------\n",
      "t=4:[1 1 1 1 2 3 5 1 2 1 1 1 1 4 4 4 3 1 1 1 1 1 1 1 1 1 1 1 1 1 1 1 1 1 1 1 1]\n"
     ]
    }
   ],
   "source": [
    "x = Bbs(np.array([2,3,5,1,2,4,4,4,3]))\n",
    "\n",
    "print(\"t=\" + str(0) + \":\" + str(x.box))\n",
    "for i in range(1,5):\n",
    "    x.time_evolve(l = 2,verbose = False)\n",
    "    print(\"t=\" + str(i) + \":\" + str(x.box))"
   ]
  },
  {
   "cell_type": "markdown",
   "metadata": {},
   "source": [
    "## Ex2:Reverse Carrier Time evolution"
   ]
  },
  {
   "cell_type": "code",
   "execution_count": 15,
   "metadata": {},
   "outputs": [
    {
     "name": "stdout",
     "output_type": "stream",
     "text": [
      "--------------------------------------------------\n",
      "t=5:[1 2 3 5 1 1 1 2 1 1 4 4 4 1 1 3 1 1 1 1 1 1 1 1 1 1 1 1 1 1 1 1 1 1 1 1 1]\n",
      "--------------------------------------------------\n",
      "t=6:[5 1 1 1 1 2 4 1 4 4 1 1 1 1 3 1 1 1 1 1 1 1 1 1 1 1 1 1 1 1 1 1 1 1 1 1 1]\n",
      "--------------------------------------------------\n",
      "t=7:[1 1 2 4 4 1 1 4 1 1 1 1 1 3 1 1 1 1 1 1 1 1 1 1 1 1 1 1 1 1 1 1 1 1 1 1 1]\n",
      "--------------------------------------------------\n",
      "t=8:[4 4 1 1 1 1 4 1 1 1 1 1 3 1 1 1 1 1 1 1 1 1 1 1 1 1 1 1 1 1 1 1 1 1 1 1 1]\n"
     ]
    }
   ],
   "source": [
    "# carrierを逆に走らせてみる\n",
    "for i in range(1,5):\n",
    "    x.reversecarrier_time_evolve(l = 10,verbose = False)\n",
    "    print(\"t=\" + str(i+4) + \":\" + str(x.box))"
   ]
  },
  {
   "cell_type": "markdown",
   "metadata": {},
   "source": [
    "## Ex2 Energy Measurement"
   ]
  },
  {
   "cell_type": "code",
   "execution_count": 16,
   "metadata": {},
   "outputs": [
    {
     "name": "stdout",
     "output_type": "stream",
     "text": [
      "[2 3 5 1 2 4 4 4 3 1 1 1 1 1 1 1 1 1 1 1 1 1 1 1 1 1 1 1 1 1 1 1 1 1 1 1 1\n",
      " 1 1 1 1 1 1 1 1 1 1 1 1 1 1 1 1 1 1 1 1 1 1 1 1 1 1 1 1 1 1 1 1 1 1 1 1 1\n",
      " 1 1 1 1 1 1 1 1 1 1 1 1 1 1 1 1 1 1 1 1 1 1 1 1 1 1]\n",
      "--------------------------------------------------\n",
      "E_1 = 5\n",
      "--------------------------------------------------\n",
      "E_2 = 6\n",
      "--------------------------------------------------\n",
      "E_3 = 7\n",
      "--------------------------------------------------\n",
      "E_4 = 8\n",
      "--------------------------------------------------\n",
      "E_5 = 8\n",
      "--------------------------------------------------\n",
      "E_6 = 8\n"
     ]
    }
   ],
   "source": [
    "x = Bbs(np.array([2,3,5,1,2,4,4,4,3]),ml=100)\n",
    "print(str(x.box))\n",
    "\n",
    "for i in range(1,7):\n",
    "    x = Bbs(np.array([2,3,5,1,2,4,4,4,3]))\n",
    "    x.time_evolve(l = i,verbose = False, calc_energy = True)\n",
    "    print(\"E_\" + str(i) + \" = \" + str(x.energy))"
   ]
  },
  {
   "cell_type": "code",
   "execution_count": 17,
   "metadata": {},
   "outputs": [
    {
     "name": "stdout",
     "output_type": "stream",
     "text": [
      "t=0:[2 3 5 1 2 4 4 4 3 1 1 1 1 1 1 1 1 1 1 1 1 1 1 1 1 1 1 1 1 1 1 1 1 1 1 1 1\n",
      " 1 1 1 1 1 1 1 1 1 1 1 1 1 1 1 1 1 1 1 1 1 1 1 1 1 1 1 1 1 1 1 1 1 1 1 1 1\n",
      " 1 1 1 1 1 1 1 1 1 1 1 1 1 1 1 1 1 1 1 1 1 1 1 1 1 1]\n",
      "--------------------------------------------------\n",
      "t=1:[1 2 3 5 1 2 1 1 1 4 4 4 3 1 1 1 1 1 1 1 1 1 1 1 1 1 1 1 1 1 1 1 1 1 1 1 1\n",
      " 1 1 1 1 1 1 1 1 1 1 1 1 1 1 1 1 1 1 1 1 1 1 1 1 1 1 1 1 1 1 1 1 1 1 1 1 1\n",
      " 1 1 1 1 1 1 1 1 1 1 1 1 1 1 1 1 1 1 1 1 1 1 1 1 1 1]\n",
      "--------------------------------------------------\n",
      "t=2:[1 1 2 3 5 1 2 1 1 1 1 1 1 4 4 4 3 1 1 1 1 1 1 1 1 1 1 1 1 1 1 1 1 1 1 1 1\n",
      " 1 1 1 1 1 1 1 1 1 1 1 1 1 1 1 1 1 1 1 1 1 1 1 1 1 1 1 1 1 1 1 1 1 1 1 1 1\n",
      " 1 1 1 1 1 1 1 1 1 1 1 1 1 1 1 1 1 1 1 1 1 1 1 1 1 1]\n",
      "--------------------------------------------------\n",
      "t=3:[1 1 1 2 3 5 1 2 1 1 1 1 1 1 1 1 1 4 4 4 3 1 1 1 1 1 1 1 1 1 1 1 1 1 1 1 1\n",
      " 1 1 1 1 1 1 1 1 1 1 1 1 1 1 1 1 1 1 1 1 1 1 1 1 1 1 1 1 1 1 1 1 1 1 1 1 1\n",
      " 1 1 1 1 1 1 1 1 1 1 1 1 1 1 1 1 1 1 1 1 1 1 1 1 1 1]\n",
      "--------------------------------------------------\n",
      "t=4:[1 1 1 1 2 3 5 1 2 1 1 1 1 1 1 1 1 1 1 1 1 4 4 4 3 1 1 1 1 1 1 1 1 1 1 1 1\n",
      " 1 1 1 1 1 1 1 1 1 1 1 1 1 1 1 1 1 1 1 1 1 1 1 1 1 1 1 1 1 1 1 1 1 1 1 1 1\n",
      " 1 1 1 1 1 1 1 1 1 1 1 1 1 1 1 1 1 1 1 1 1 1 1 1 1 1]\n",
      "--------------------------------------------------\n",
      "E_1 = 5\n",
      "--------------------------------------------------\n",
      "E_2 = 6\n",
      "--------------------------------------------------\n",
      "E_3 = 7\n",
      "--------------------------------------------------\n",
      "E_4 = 8\n",
      "--------------------------------------------------\n",
      "E_5 = 8\n",
      "--------------------------------------------------\n",
      "E_6 = 8\n"
     ]
    }
   ],
   "source": [
    "x = Bbs(np.array([2,3,5,1,2,4,4,4,3]),ml=100)\n",
    "print(\"t=\" + str(0) + \":\" + str(x.box))\n",
    "for i in range(4):\n",
    "    x.time_evolve(l = 6, verbose = False)\n",
    "    print(\"t=\" + str(i+1) + \":\" + str(x.box))\n",
    "    \n",
    "X = x\n",
    "\n",
    "for i in range(1,7):\n",
    "    x = X\n",
    "    x.time_evolve(l = i,verbose = False, calc_energy = True)\n",
    "    print(\"E_\" + str(i) + \" = \" + str(x.energy))"
   ]
  },
  {
   "cell_type": "markdown",
   "metadata": {},
   "source": [
    "### Ex3. row insertion and column insertion "
   ]
  },
  {
   "cell_type": "code",
   "execution_count": 18,
   "metadata": {},
   "outputs": [
    {
     "name": "stdout",
     "output_type": "stream",
     "text": [
      "     0\n",
      "0  5.0\n",
      "------------------------------\n",
      "     0    1\n",
      "0  5.0  6.0\n",
      "------------------------------\n",
      "     0    1\n",
      "0  2.0  6.0\n",
      "1  5.0  NaN\n",
      "------------------------------\n",
      "     0    1\n",
      "0  2.0  3.0\n",
      "1  5.0  6.0\n",
      "------------------------------\n",
      "     0    1\n",
      "0  1.0  3.0\n",
      "1  2.0  6.0\n",
      "2  5.0  NaN\n",
      "------------------------------\n",
      "     0    1    2\n",
      "0  1.0  3.0  3.0\n",
      "1  2.0  6.0  NaN\n",
      "2  5.0  NaN  NaN\n",
      "------------------------------\n",
      "     0    1    2    3\n",
      "0  1.0  3.0  3.0  4.0\n",
      "1  2.0  6.0  NaN  NaN\n",
      "2  5.0  NaN  NaN  NaN\n",
      "------------------------------\n"
     ]
    }
   ],
   "source": [
    "#### rowinsertion\n",
    "w = \"4313265\"\n",
    "yt_r = YoungTableau()\n",
    "for r in w[::-1]:\n",
    "    yt_r.row_insertion(int(r))\n",
    "    yt_r.show()\n",
    "    print(\"-\"*30)"
   ]
  },
  {
   "cell_type": "code",
   "execution_count": 19,
   "metadata": {},
   "outputs": [
    {
     "name": "stdout",
     "output_type": "stream",
     "text": [
      "     0\n",
      "0  4.0\n",
      "------------------------------\n",
      "     0    1\n",
      "0  3.0  4.0\n",
      "------------------------------\n",
      "     0    1    2\n",
      "0  1.0  3.0  4.0\n",
      "------------------------------\n",
      "     0    1    2\n",
      "0  1.0  3.0  4.0\n",
      "1  3.0  NaN  NaN\n",
      "------------------------------\n",
      "     0    1    2    3\n",
      "0  1.0  3.0  3.0  4.0\n",
      "1  2.0  NaN  NaN  NaN\n",
      "------------------------------\n",
      "     0    1    2    3\n",
      "0  1.0  3.0  3.0  4.0\n",
      "1  2.0  NaN  NaN  NaN\n",
      "2  6.0  NaN  NaN  NaN\n",
      "------------------------------\n",
      "     0    1    2    3\n",
      "0  1.0  3.0  3.0  4.0\n",
      "1  2.0  6.0  NaN  NaN\n",
      "2  5.0  NaN  NaN  NaN\n",
      "------------------------------\n"
     ]
    }
   ],
   "source": [
    "#### column insertion\n",
    "w = \"4313265\"\n",
    "yt_r = YoungTableau()\n",
    "for r in w:\n",
    "    yt_r.column_insertion(int(r))\n",
    "    yt_r.show()\n",
    "    print(\"-\"*30)"
   ]
  },
  {
   "cell_type": "markdown",
   "metadata": {},
   "source": [
    "### Ex4. r>(T<s) = (r>T)<s"
   ]
  },
  {
   "cell_type": "code",
   "execution_count": 20,
   "metadata": {},
   "outputs": [
    {
     "name": "stdout",
     "output_type": "stream",
     "text": [
      "     0    1    2    3    4    5\n",
      "0  1.0  1.0  3.0  3.0  3.0  4.0\n",
      "1  2.0  2.0  6.0  6.0  7.0  8.0\n",
      "2  3.0  3.0  NaN  NaN  NaN  NaN\n",
      "3  4.0  6.0  NaN  NaN  NaN  NaN\n",
      "4  5.0  NaN  NaN  NaN  NaN  NaN\n",
      "5  7.0  NaN  NaN  NaN  NaN  NaN\n",
      "r=4\n",
      "     0    1    2    3    4    5    6\n",
      "0  1.0  1.0  3.0  3.0  3.0  4.0  4.0\n",
      "1  2.0  2.0  6.0  6.0  7.0  8.0  NaN\n",
      "2  3.0  3.0  NaN  NaN  NaN  NaN  NaN\n",
      "3  4.0  6.0  NaN  NaN  NaN  NaN  NaN\n",
      "4  5.0  NaN  NaN  NaN  NaN  NaN  NaN\n",
      "5  7.0  NaN  NaN  NaN  NaN  NaN  NaN\n",
      "==================================================\n",
      "r=4\n",
      "     0    1    2    3    4    5    6\n",
      "0  1.0  1.0  3.0  3.0  3.0  4.0  4.0\n",
      "1  2.0  2.0  6.0  6.0  7.0  8.0  NaN\n",
      "2  3.0  3.0  NaN  NaN  NaN  NaN  NaN\n",
      "3  4.0  6.0  NaN  NaN  NaN  NaN  NaN\n",
      "4  5.0  NaN  NaN  NaN  NaN  NaN  NaN\n",
      "5  7.0  NaN  NaN  NaN  NaN  NaN  NaN\n",
      "------------------------------\n",
      "r=4\n",
      "     0    1    2    3    4    5    6\n",
      "0  1.0  1.0  3.0  3.0  3.0  4.0  4.0\n",
      "1  2.0  2.0  6.0  6.0  7.0  8.0  NaN\n",
      "2  3.0  3.0  NaN  NaN  NaN  NaN  NaN\n",
      "3  4.0  4.0  NaN  NaN  NaN  NaN  NaN\n",
      "4  5.0  NaN  NaN  NaN  NaN  NaN  NaN\n",
      "5  7.0  NaN  NaN  NaN  NaN  NaN  NaN\n",
      "------------------------------\n",
      "r=6.0\n",
      "     0    1    2    3    4    5    6\n",
      "0  1.0  1.0  3.0  3.0  3.0  4.0  4.0\n",
      "1  2.0  2.0  6.0  6.0  7.0  8.0  NaN\n",
      "2  3.0  3.0  NaN  NaN  NaN  NaN  NaN\n",
      "3  4.0  4.0  NaN  NaN  NaN  NaN  NaN\n",
      "4  5.0  NaN  NaN  NaN  NaN  NaN  NaN\n",
      "5  7.0  NaN  NaN  NaN  NaN  NaN  NaN\n",
      "------------------------------\n",
      "r=6.0\n",
      "     0    1    2    3    4    5    6\n",
      "0  1.0  1.0  3.0  3.0  3.0  4.0  4.0\n",
      "1  2.0  2.0  6.0  6.0  7.0  8.0  NaN\n",
      "2  3.0  3.0  NaN  NaN  NaN  NaN  NaN\n",
      "3  4.0  4.0  NaN  NaN  NaN  NaN  NaN\n",
      "4  5.0  NaN  NaN  NaN  NaN  NaN  NaN\n",
      "5  7.0  NaN  NaN  NaN  NaN  NaN  NaN\n",
      "------------------------------\n",
      "r=6.0\n",
      "     0    1    2    3    4    5    6\n",
      "0  1.0  1.0  3.0  3.0  3.0  4.0  4.0\n",
      "1  2.0  2.0  6.0  6.0  6.0  8.0  NaN\n",
      "2  3.0  3.0  NaN  NaN  NaN  NaN  NaN\n",
      "3  4.0  4.0  NaN  NaN  NaN  NaN  NaN\n",
      "4  5.0  NaN  NaN  NaN  NaN  NaN  NaN\n",
      "5  7.0  NaN  NaN  NaN  NaN  NaN  NaN\n",
      "------------------------------\n",
      "r=7.0\n",
      "     0    1    2    3    4    5    6\n",
      "0  1.0  1.0  3.0  3.0  3.0  4.0  4.0\n",
      "1  2.0  2.0  6.0  6.0  6.0  7.0  NaN\n",
      "2  3.0  3.0  NaN  NaN  NaN  NaN  NaN\n",
      "3  4.0  4.0  NaN  NaN  NaN  NaN  NaN\n",
      "4  5.0  NaN  NaN  NaN  NaN  NaN  NaN\n",
      "5  7.0  NaN  NaN  NaN  NaN  NaN  NaN\n",
      "------------------------------\n",
      "r=8.0\n",
      "     0    1    2    3    4    5    6\n",
      "0  1.0  1.0  3.0  3.0  3.0  4.0  4.0\n",
      "1  2.0  2.0  6.0  6.0  6.0  7.0  8.0\n",
      "2  3.0  3.0  NaN  NaN  NaN  NaN  NaN\n",
      "3  4.0  4.0  NaN  NaN  NaN  NaN  NaN\n",
      "4  5.0  NaN  NaN  NaN  NaN  NaN  NaN\n",
      "5  7.0  NaN  NaN  NaN  NaN  NaN  NaN\n"
     ]
    },
    {
     "data": {
      "text/plain": [
       "<__main__.YoungTableau at 0x7f00bd17fe50>"
      ]
     },
     "execution_count": 20,
     "metadata": {},
     "output_type": "execute_result"
    }
   ],
   "source": [
    "T = YoungTableau()\n",
    "w = \"431323128746376365\"\n",
    "T.p_symbol(w)\n",
    "T.show()\n",
    "\n",
    "T.row_insertion(4, verbose=True)\n",
    "print(\"=\"*50)\n",
    "T.column_insertion(4, verbose=True)"
   ]
  },
  {
   "cell_type": "code",
   "execution_count": 21,
   "metadata": {},
   "outputs": [
    {
     "name": "stdout",
     "output_type": "stream",
     "text": [
      "     0    1    2    3    4    5\n",
      "0  1.0  1.0  3.0  3.0  3.0  4.0\n",
      "1  2.0  2.0  6.0  6.0  7.0  8.0\n",
      "2  3.0  3.0  NaN  NaN  NaN  NaN\n",
      "3  4.0  6.0  NaN  NaN  NaN  NaN\n",
      "4  5.0  NaN  NaN  NaN  NaN  NaN\n",
      "5  7.0  NaN  NaN  NaN  NaN  NaN\n",
      "r=4\n",
      "     0    1    2    3    4    5\n",
      "0  1.0  1.0  3.0  3.0  3.0  4.0\n",
      "1  2.0  2.0  6.0  6.0  7.0  8.0\n",
      "2  3.0  3.0  NaN  NaN  NaN  NaN\n",
      "3  4.0  6.0  NaN  NaN  NaN  NaN\n",
      "4  5.0  NaN  NaN  NaN  NaN  NaN\n",
      "5  7.0  NaN  NaN  NaN  NaN  NaN\n",
      "------------------------------\n",
      "r=4\n",
      "     0    1    2    3    4    5\n",
      "0  1.0  1.0  3.0  3.0  3.0  4.0\n",
      "1  2.0  2.0  6.0  6.0  7.0  8.0\n",
      "2  3.0  3.0  NaN  NaN  NaN  NaN\n",
      "3  4.0  4.0  NaN  NaN  NaN  NaN\n",
      "4  5.0  NaN  NaN  NaN  NaN  NaN\n",
      "5  7.0  NaN  NaN  NaN  NaN  NaN\n",
      "------------------------------\n",
      "r=6.0\n",
      "     0    1    2    3    4    5\n",
      "0  1.0  1.0  3.0  3.0  3.0  4.0\n",
      "1  2.0  2.0  6.0  6.0  7.0  8.0\n",
      "2  3.0  3.0  NaN  NaN  NaN  NaN\n",
      "3  4.0  4.0  NaN  NaN  NaN  NaN\n",
      "4  5.0  NaN  NaN  NaN  NaN  NaN\n",
      "5  7.0  NaN  NaN  NaN  NaN  NaN\n",
      "------------------------------\n",
      "r=6.0\n",
      "     0    1    2    3    4    5\n",
      "0  1.0  1.0  3.0  3.0  3.0  4.0\n",
      "1  2.0  2.0  6.0  6.0  7.0  8.0\n",
      "2  3.0  3.0  NaN  NaN  NaN  NaN\n",
      "3  4.0  4.0  NaN  NaN  NaN  NaN\n",
      "4  5.0  NaN  NaN  NaN  NaN  NaN\n",
      "5  7.0  NaN  NaN  NaN  NaN  NaN\n",
      "------------------------------\n",
      "r=6.0\n",
      "     0    1    2    3    4    5\n",
      "0  1.0  1.0  3.0  3.0  3.0  4.0\n",
      "1  2.0  2.0  6.0  6.0  6.0  8.0\n",
      "2  3.0  3.0  NaN  NaN  NaN  NaN\n",
      "3  4.0  4.0  NaN  NaN  NaN  NaN\n",
      "4  5.0  NaN  NaN  NaN  NaN  NaN\n",
      "5  7.0  NaN  NaN  NaN  NaN  NaN\n",
      "------------------------------\n",
      "r=7.0\n",
      "     0    1    2    3    4    5    6\n",
      "0  1.0  1.0  3.0  3.0  3.0  4.0  8.0\n",
      "1  2.0  2.0  6.0  6.0  6.0  7.0  NaN\n",
      "2  3.0  3.0  NaN  NaN  NaN  NaN  NaN\n",
      "3  4.0  4.0  NaN  NaN  NaN  NaN  NaN\n",
      "4  5.0  NaN  NaN  NaN  NaN  NaN  NaN\n",
      "5  7.0  NaN  NaN  NaN  NaN  NaN  NaN\n",
      "------------------------------\n",
      "==================================================\n",
      "r=4\n",
      "     0    1    2    3    4    5    6\n",
      "0  1.0  1.0  3.0  3.0  3.0  4.0  4.0\n",
      "1  2.0  2.0  6.0  6.0  6.0  7.0  NaN\n",
      "2  3.0  3.0  NaN  NaN  NaN  NaN  NaN\n",
      "3  4.0  4.0  NaN  NaN  NaN  NaN  NaN\n",
      "4  5.0  NaN  NaN  NaN  NaN  NaN  NaN\n",
      "5  7.0  NaN  NaN  NaN  NaN  NaN  NaN\n",
      "------------------------------\n",
      "r=8.0\n",
      "     0    1    2    3    4    5    6\n",
      "0  1.0  1.0  3.0  3.0  3.0  4.0  4.0\n",
      "1  2.0  2.0  6.0  6.0  6.0  7.0  8.0\n",
      "2  3.0  3.0  NaN  NaN  NaN  NaN  NaN\n",
      "3  4.0  4.0  NaN  NaN  NaN  NaN  NaN\n",
      "4  5.0  NaN  NaN  NaN  NaN  NaN  NaN\n",
      "5  7.0  NaN  NaN  NaN  NaN  NaN  NaN\n"
     ]
    },
    {
     "data": {
      "text/plain": [
       "<__main__.YoungTableau at 0x7f00bd17dc90>"
      ]
     },
     "execution_count": 21,
     "metadata": {},
     "output_type": "execute_result"
    }
   ],
   "source": [
    "T = YoungTableau()\n",
    "w = \"431323128746376365\"\n",
    "T.p_symbol(w)\n",
    "T.show()\n",
    "\n",
    "\n",
    "T.column_insertion(4, verbose=True)\n",
    "print(\"=\"*50)\n",
    "T.row_insertion(4, verbose=True)\n"
   ]
  },
  {
   "cell_type": "markdown",
   "metadata": {},
   "source": [
    "### Ex5. Preodic BBS"
   ]
  },
  {
   "cell_type": "code",
   "execution_count": 32,
   "metadata": {},
   "outputs": [],
   "source": [
    "# declare preodic bbs\n",
    "\n",
    "pbbs = Periodic_bbs(22111211111)"
   ]
  },
  {
   "cell_type": "code",
   "execution_count": 33,
   "metadata": {},
   "outputs": [
    {
     "data": {
      "text/plain": [
       "array([2, 2, 1, 1, 1, 2, 1, 1, 1, 1, 1])"
      ]
     },
     "execution_count": 33,
     "metadata": {},
     "output_type": "execute_result"
    }
   ],
   "source": [
    "pbbs.box"
   ]
  },
  {
   "cell_type": "code",
   "execution_count": 34,
   "metadata": {},
   "outputs": [
    {
     "name": "stdout",
     "output_type": "stream",
     "text": [
      "t = 1 | [1 1 2 2 1 1 2 1 1 1 1]\n",
      "t = 2 | [1 1 1 1 2 2 1 2 1 1 1]\n",
      "t = 3 | [1 1 1 1 1 1 2 1 2 2 1]\n",
      "[1 1 1 1 1 1 2 1 2 2 1] 0\n"
     ]
    }
   ],
   "source": [
    "#time_evolve\n",
    "for i in range(3):\n",
    "    pbbs.time_evolve(3, calc_energy=False)\n",
    "print(pbbs.box, pbbs.energy)"
   ]
  },
  {
   "cell_type": "code",
   "execution_count": 68,
   "metadata": {},
   "outputs": [
    {
     "name": "stdout",
     "output_type": "stream",
     "text": [
      "t = 101 | system = [1 1 1 2 2 1 2 1] | energy = 2\n",
      "l=1|energy=2\n",
      "t = 102 | system = [2 1 1 1 1 2 1 2] | energy = 3\n",
      "l=2|energy=3\n",
      "t = 103 | system = [1 2 2 1 1 1 2 1] | energy = 3\n",
      "l=3|energy=3\n",
      "t = 104 | system = [1 1 1 2 2 1 1 2] | energy = 3\n",
      "l=4|energy=3\n",
      "t = 105 | system = [2 1 1 1 1 2 2 1] | energy = 3\n",
      "l=5|energy=3\n",
      "t = 106 | system = [1 2 2 1 1 1 1 2] | energy = 3\n",
      "l=6|energy=3\n",
      "t = 107 | system = [2 1 1 2 2 1 1 1] | energy = 3\n",
      "l=7|energy=3\n",
      "t = 108 | system = [1 2 1 1 1 2 2 1] | energy = 3\n",
      "l=8|energy=3\n",
      "t = 109 | system = [2 1 2 1 1 1 1 2] | energy = 3\n",
      "l=9|energy=3\n"
     ]
    }
   ],
   "source": [
    "#energy_measurement\n",
    "for l in range(1,10):\n",
    "    pbbs.time_evolve(l, calc_energy=True)\n",
    "    print(\"l=\" + str(l) + \"|energy=\" + str(pbbs.energy))"
   ]
  },
  {
   "cell_type": "code",
   "execution_count": 69,
   "metadata": {},
   "outputs": [
    {
     "name": "stdout",
     "output_type": "stream",
     "text": [
      "     0    1    2    3\n",
      "0  1.0  1.0  1.0  1.0\n",
      "1  2.0  2.0  2.0  NaN\n",
      "2  3.0  3.0  NaN  NaN\n"
     ]
    }
   ],
   "source": [
    "T = YoungTableau()\n",
    "w = \"111122233\"\n",
    "T.p_symbol(w)\n",
    "T.show()"
   ]
  },
  {
   "cell_type": "code",
   "execution_count": null,
   "metadata": {},
   "outputs": [],
   "source": []
  }
 ],
 "metadata": {
  "kernelspec": {
   "display_name": "Python 3",
   "language": "python",
   "name": "python3"
  },
  "language_info": {
   "codemirror_mode": {
    "name": "ipython",
    "version": 3
   },
   "file_extension": ".py",
   "mimetype": "text/x-python",
   "name": "python",
   "nbconvert_exporter": "python",
   "pygments_lexer": "ipython3",
   "version": "3.7.5"
  }
 },
 "nbformat": 4,
 "nbformat_minor": 4
}
